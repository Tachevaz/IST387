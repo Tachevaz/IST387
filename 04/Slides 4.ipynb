{
 "cells": [
  {
   "cell_type": "markdown",
   "metadata": {
    "slideshow": {
     "slide_type": "slide"
    }
   },
   "source": [
    "# IST 387: Week 4\n",
    "\n",
    "- Functions and Descriptive Statistics in R\n",
    "\n",
    "- Sampling in R"
   ]
  },
  {
   "cell_type": "markdown",
   "metadata": {
    "slideshow": {
     "slide_type": "slide"
    }
   },
   "source": [
    "## Before we start...\n",
    "\n",
    "<img src='https://ist387.s3.us-east-2.amazonaws.com/images/QRpets.png'>"
   ]
  },
  {
   "cell_type": "markdown",
   "metadata": {
    "slideshow": {
     "slide_type": "slide"
    }
   },
   "source": [
    "## HW 3 Issues"
   ]
  },
  {
   "cell_type": "markdown",
   "metadata": {
    "slideshow": {
     "slide_type": "slide"
    }
   },
   "source": [
    "## Reading data into an R dataframe from a URL\n",
    "\n",
    "<img src='https://ist387.s3.us-east-2.amazonaws.com/images/QRread_csv.png'>"
   ]
  },
  {
   "cell_type": "markdown",
   "metadata": {
    "slideshow": {
     "slide_type": "slide"
    }
   },
   "source": [
    "## Creating a variable to evaluate NAs in a column\n",
    "\n",
    "<img src='https://ist387.s3.us-east-2.amazonaws.com/images/QRnoURL.png'>"
   ]
  },
  {
   "cell_type": "markdown",
   "metadata": {
    "slideshow": {
     "slide_type": "slide"
    }
   },
   "source": [
    "## Finding the oldest company in the df\n",
    "\n",
    "<img src='https://ist387.s3.us-east-2.amazonaws.com/images/QRmin.png'>"
   ]
  },
  {
   "cell_type": "markdown",
   "metadata": {
    "slideshow": {
     "slide_type": "slide"
    }
   },
   "source": [
    "## Statistics comes in 2 flavors:\n",
    "\n",
    "### Desrciptive\n",
    "\n",
    "and\n",
    "\n",
    "### Inferential \n",
    "\n",
    "<img src='https://ist387.s3.us-east-2.amazonaws.com/images/Picture1.png'>"
   ]
  }
 ],
 "metadata": {
  "celltoolbar": "Slideshow",
  "kernelspec": {
   "display_name": "R",
   "language": "R",
   "name": "ir"
  },
  "language_info": {
   "codemirror_mode": "r",
   "file_extension": ".r",
   "mimetype": "text/x-r-source",
   "name": "R",
   "pygments_lexer": "r",
   "version": "4.0.3"
  }
 },
 "nbformat": 4,
 "nbformat_minor": 4
}
