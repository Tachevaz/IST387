{
 "cells": [
  {
   "cell_type": "markdown",
   "metadata": {},
   "source": [
    "# Linear Regression in R\n",
    "\n",
    "To be able to run the code in this tutorial and complete your HW/lab assignments, you need to **install** and **library** the following packages: \n",
    "- **ggplot2**\n",
    "- **MASS**  \n",
    "\n",
    "Since **ggplot2** is pre-installed in Jupyter, and we have already used it in RStudio, I'll demonstrate the process with the MASS package only:"
   ]
  },
  {
   "cell_type": "code",
   "execution_count": 1,
   "metadata": {},
   "outputs": [
    {
     "name": "stderr",
     "output_type": "stream",
     "text": [
      "Updating HTML index of packages in '.Library'\n",
      "\n",
      "Making 'packages.html' ...\n",
      " done\n",
      "\n"
     ]
    }
   ],
   "source": [
    "install.packages(\"MASS\")\n",
    "library(MASS)"
   ]
  },
  {
   "cell_type": "markdown",
   "metadata": {},
   "source": [
    "Both the homework and lab this week use data coming directly from R (HW) or the MASS package (Lab), so you **don’t need to download or import any files this week**. \n",
    "\n",
    "Since the commands in both assignments are similar and only the data is different, we will focus on the HW data but the same logic applies to your Lab assignment as well. "
   ]
  },
  {
   "cell_type": "markdown",
   "metadata": {},
   "source": [
    "### Linear Regression with Airquality Dataset (HW)"
   ]
  },
  {
   "cell_type": "markdown",
   "metadata": {},
   "source": [
    "The **airquality** data your homework assignment uses is a built-in R dataset. As such, it comes with **metadata** (information about the data) we can access with the **help** function:"
   ]
  },
  {
   "cell_type": "code",
   "execution_count": 24,
   "metadata": {},
   "outputs": [],
   "source": [
    "?airquality"
   ]
  },
  {
   "cell_type": "markdown",
   "metadata": {},
   "source": [
    "We can see the info about each of the 6 variables - it looks like the dataset features air quality measurements over a period of time back in 1973. Let's take a closer look at the structure of the data:"
   ]
  },
  {
   "cell_type": "code",
   "execution_count": 3,
   "metadata": {},
   "outputs": [
    {
     "name": "stdout",
     "output_type": "stream",
     "text": [
      "'data.frame':\t153 obs. of  6 variables:\n",
      " $ Ozone  : int  41 36 12 18 NA 28 23 19 8 NA ...\n",
      " $ Solar.R: int  190 118 149 313 NA NA 299 99 19 194 ...\n",
      " $ Wind   : num  7.4 8 12.6 11.5 14.3 14.9 8.6 13.8 20.1 8.6 ...\n",
      " $ Temp   : int  67 72 74 62 56 66 65 59 61 69 ...\n",
      " $ Month  : int  5 5 5 5 5 5 5 5 5 5 ...\n",
      " $ Day    : int  1 2 3 4 5 6 7 8 9 10 ...\n"
     ]
    }
   ],
   "source": [
    "str(airquality)"
   ]
  },
  {
   "cell_type": "markdown",
   "metadata": {},
   "source": [
    "How about some summary statistics?"
   ]
  },
  {
   "cell_type": "code",
   "execution_count": 4,
   "metadata": {},
   "outputs": [
    {
     "data": {
      "text/plain": [
       "     Ozone           Solar.R           Wind             Temp      \n",
       " Min.   :  1.00   Min.   :  7.0   Min.   : 1.700   Min.   :56.00  \n",
       " 1st Qu.: 18.00   1st Qu.:115.8   1st Qu.: 7.400   1st Qu.:72.00  \n",
       " Median : 31.50   Median :205.0   Median : 9.700   Median :79.00  \n",
       " Mean   : 42.13   Mean   :185.9   Mean   : 9.958   Mean   :77.88  \n",
       " 3rd Qu.: 63.25   3rd Qu.:258.8   3rd Qu.:11.500   3rd Qu.:85.00  \n",
       " Max.   :168.00   Max.   :334.0   Max.   :20.700   Max.   :97.00  \n",
       " NA's   :37       NA's   :7                                       \n",
       "     Month            Day      \n",
       " Min.   :5.000   Min.   : 1.0  \n",
       " 1st Qu.:6.000   1st Qu.: 8.0  \n",
       " Median :7.000   Median :16.0  \n",
       " Mean   :6.993   Mean   :15.8  \n",
       " 3rd Qu.:8.000   3rd Qu.:23.0  \n",
       " Max.   :9.000   Max.   :31.0  \n",
       "                               "
      ]
     },
     "metadata": {},
     "output_type": "display_data"
    }
   ],
   "source": [
    "summary(airquality)"
   ]
  },
  {
   "cell_type": "markdown",
   "metadata": {},
   "source": [
    "To make it easier to work with the data, let's copy its contents to a dataframe called **air**:"
   ]
  },
  {
   "cell_type": "code",
   "execution_count": 5,
   "metadata": {},
   "outputs": [],
   "source": [
    "air <- airquality"
   ]
  },
  {
   "cell_type": "markdown",
   "metadata": {},
   "source": [
    "We can now summarize the data once again, just to verify we copied everything:"
   ]
  },
  {
   "cell_type": "code",
   "execution_count": 6,
   "metadata": {},
   "outputs": [
    {
     "name": "stdout",
     "output_type": "stream",
     "text": [
      "'data.frame':\t153 obs. of  6 variables:\n",
      " $ Ozone  : int  41 36 12 18 NA 28 23 19 8 NA ...\n",
      " $ Solar.R: int  190 118 149 313 NA NA 299 99 19 194 ...\n",
      " $ Wind   : num  7.4 8 12.6 11.5 14.3 14.9 8.6 13.8 20.1 8.6 ...\n",
      " $ Temp   : int  67 72 74 62 56 66 65 59 61 69 ...\n",
      " $ Month  : int  5 5 5 5 5 5 5 5 5 5 ...\n",
      " $ Day    : int  1 2 3 4 5 6 7 8 9 10 ...\n"
     ]
    },
    {
     "data": {
      "text/plain": [
       "     Ozone           Solar.R           Wind             Temp      \n",
       " Min.   :  1.00   Min.   :  7.0   Min.   : 1.700   Min.   :56.00  \n",
       " 1st Qu.: 18.00   1st Qu.:115.8   1st Qu.: 7.400   1st Qu.:72.00  \n",
       " Median : 31.50   Median :205.0   Median : 9.700   Median :79.00  \n",
       " Mean   : 42.13   Mean   :185.9   Mean   : 9.958   Mean   :77.88  \n",
       " 3rd Qu.: 63.25   3rd Qu.:258.8   3rd Qu.:11.500   3rd Qu.:85.00  \n",
       " Max.   :168.00   Max.   :334.0   Max.   :20.700   Max.   :97.00  \n",
       " NA's   :37       NA's   :7                                       \n",
       "     Month            Day      \n",
       " Min.   :5.000   Min.   : 1.0  \n",
       " 1st Qu.:6.000   1st Qu.: 8.0  \n",
       " Median :7.000   Median :16.0  \n",
       " Mean   :6.993   Mean   :15.8  \n",
       " 3rd Qu.:8.000   3rd Qu.:23.0  \n",
       " Max.   :9.000   Max.   :31.0  \n",
       "                               "
      ]
     },
     "metadata": {},
     "output_type": "display_data"
    }
   ],
   "source": [
    "str(air)\n",
    "summary(air)"
   ]
  },
  {
   "cell_type": "markdown",
   "metadata": {},
   "source": [
    "Before we start analyzing the data, let's check for **missing values (NAs)** in each of the following 3 variables we'll use in our analysis: \n",
    "- **Solar.R**\n",
    "- **Wind**\n",
    "- **Temp**\n",
    "\n",
    "\n",
    "(We'll follow the same procedure we used in HW6 - feel free to re-vist our work there) using the **is.na()** function, no need to focus on the time variables at this point:"
   ]
  },
  {
   "cell_type": "code",
   "execution_count": 9,
   "metadata": {},
   "outputs": [
    {
     "data": {
      "text/html": [
       "<style>\n",
       ".list-inline {list-style: none; margin:0; padding: 0}\n",
       ".list-inline>li {display: inline-block}\n",
       ".list-inline>li:not(:last-child)::after {content: \"\\00b7\"; padding: 0 .5ex}\n",
       "</style>\n",
       "<ol class=list-inline><li>&lt;NA&gt;</li><li>&lt;NA&gt;</li><li>&lt;NA&gt;</li><li>&lt;NA&gt;</li><li>&lt;NA&gt;</li><li>&lt;NA&gt;</li><li>&lt;NA&gt;</li></ol>\n"
      ],
      "text/latex": [
       "\\begin{enumerate*}\n",
       "\\item <NA>\n",
       "\\item <NA>\n",
       "\\item <NA>\n",
       "\\item <NA>\n",
       "\\item <NA>\n",
       "\\item <NA>\n",
       "\\item <NA>\n",
       "\\end{enumerate*}\n"
      ],
      "text/markdown": [
       "1. &lt;NA&gt;\n",
       "2. &lt;NA&gt;\n",
       "3. &lt;NA&gt;\n",
       "4. &lt;NA&gt;\n",
       "5. &lt;NA&gt;\n",
       "6. &lt;NA&gt;\n",
       "7. &lt;NA&gt;\n",
       "\n",
       "\n"
      ],
      "text/plain": [
       "[1] NA NA NA NA NA NA NA"
      ]
     },
     "metadata": {},
     "output_type": "display_data"
    }
   ],
   "source": [
    "air$Solar.R[is.na(air$Solar.R)]\n",
    "# 7 missing observations in the Solar.R column"
   ]
  },
  {
   "cell_type": "code",
   "execution_count": 10,
   "metadata": {},
   "outputs": [
    {
     "data": {
      "text/html": [],
      "text/latex": [],
      "text/markdown": [],
      "text/plain": [
       "numeric(0)"
      ]
     },
     "metadata": {},
     "output_type": "display_data"
    }
   ],
   "source": [
    "air$Wind[is.na(air$Wind)]\n",
    "#no missing values here"
   ]
  },
  {
   "cell_type": "code",
   "execution_count": 11,
   "metadata": {},
   "outputs": [
    {
     "data": {
      "text/html": [],
      "text/latex": [],
      "text/markdown": [],
      "text/plain": [
       "integer(0)"
      ]
     },
     "metadata": {},
     "output_type": "display_data"
    }
   ],
   "source": [
    "air$Temp[is.na(air$Temp)]\n",
    "#no NAs here either"
   ]
  },
  {
   "cell_type": "markdown",
   "metadata": {},
   "source": [
    "**Remember**: R doesn't like it when numeric columns in your dataframe have NAs because it can't perform math functions on them properly. That's why it's important to detect and transforms NAs into something meaningful. We'll use the **imputeTS** package, just like we did in HW 6:"
   ]
  },
  {
   "cell_type": "code",
   "execution_count": 13,
   "metadata": {},
   "outputs": [
    {
     "name": "stderr",
     "output_type": "stream",
     "text": [
      "also installing the dependencies ‘png’, ‘jpeg’, ‘gridtext’, ‘ggtext’, ‘stinepack’\n",
      "\n",
      "\n",
      "Updating HTML index of packages in '.Library'\n",
      "\n",
      "Making 'packages.html' ...\n",
      " done\n",
      "\n",
      "Registered S3 method overwritten by 'quantmod':\n",
      "  method            from\n",
      "  as.zoo.data.frame zoo \n",
      "\n"
     ]
    }
   ],
   "source": [
    "install.packages(\"imputeTS\")\n",
    "library(imputeTS)\n",
    "\n",
    "air$Solar.R <- na_interpolation(air$Solar.R)\n",
    "air$Wind <- na_interpolation(air$Wind)\n",
    "air$Temp <- na_interpolation(air$Temp)"
   ]
  },
  {
   "cell_type": "markdown",
   "metadata": {},
   "source": [
    "Now let's run the **is.na()** function on the 3 variables again to make sure all NAs have been taken care of:"
   ]
  },
  {
   "cell_type": "code",
   "execution_count": 14,
   "metadata": {},
   "outputs": [
    {
     "data": {
      "text/html": [],
      "text/latex": [],
      "text/markdown": [],
      "text/plain": [
       "numeric(0)"
      ]
     },
     "metadata": {},
     "output_type": "display_data"
    },
    {
     "data": {
      "text/html": [],
      "text/latex": [],
      "text/markdown": [],
      "text/plain": [
       "numeric(0)"
      ]
     },
     "metadata": {},
     "output_type": "display_data"
    },
    {
     "data": {
      "text/html": [],
      "text/latex": [],
      "text/markdown": [],
      "text/plain": [
       "integer(0)"
      ]
     },
     "metadata": {},
     "output_type": "display_data"
    }
   ],
   "source": [
    "air$Solar.R[is.na(air$Solar.R)]\n",
    "air$Wind[is.na(air$Wind)]\n",
    "air$Temp[is.na(air$Temp)]\n",
    "# All missing data has been fixed"
   ]
  },
  {
   "cell_type": "markdown",
   "metadata": {},
   "source": [
    "For our analysis, let’s focus on **Temp** as our **outcome variable**, and try to see how it depends on **Solar.R** and **Wind**, which will serve as **predictor variables**.\n",
    "\n",
    "Let’s examine the relationship between **Temp** and each of the 2 predictors by plotting a scatterplot for each pair. You can figure out the 2nd one by yourself. Note that the outcome variable, **Temp**, goes on the **y-axis**.\n"
   ]
  },
  {
   "cell_type": "code",
   "execution_count": 19,
   "metadata": {},
   "outputs": [
    {
     "data": {
      "image/png": "[encoded data removed]",
      "text/plain": [
       "plot without title"
      ]
     },
     "metadata": {
      "image/png": {
       "height": 420,
       "width": 420
      }
     },
     "output_type": "display_data"
    }
   ],
   "source": [
    "library(ggplot2)\n",
    "\n",
    "ggplot(data=air) + aes(x=Wind, y=Temp) + geom_point() \n",
    "\n",
    "#A somewhat negative relationship seems to be taking place - as wind speed picks up, temperature tends to decrease."
   ]
  },
  {
   "cell_type": "markdown",
   "metadata": {},
   "source": [
    "Let's continue exploring these relationships by creating a linear regression model where we try to predict changes in **Temp** based on **Wind**:"
   ]
  },
  {
   "cell_type": "code",
   "execution_count": 20,
   "metadata": {},
   "outputs": [],
   "source": [
    "lmOut <- lm(Temp ~ Wind, data=air)\n"
   ]
  },
  {
   "cell_type": "markdown",
   "metadata": {},
   "source": [
    "We use the R **lm()** function which stands for **“linear model”** to create a model where the **outcome variable** is **Temp** and it is predicted by the **predictor variable Wind**, both coming from the **air** dataset. We store our model in a variable called **lmOut**. \n",
    "\n",
    "Let’s examine the **results** of the model with the **summary()** function:"
   ]
  },
  {
   "cell_type": "code",
   "execution_count": 21,
   "metadata": {},
   "outputs": [
    {
     "data": {
      "text/plain": [
       "\n",
       "Call:\n",
       "lm(formula = Temp ~ Wind, data = air)\n",
       "\n",
       "Residuals:\n",
       "    Min      1Q  Median      3Q     Max \n",
       "-23.291  -5.723   1.709   6.016  19.199 \n",
       "\n",
       "Coefficients:\n",
       "            Estimate Std. Error t value Pr(>|t|)    \n",
       "(Intercept)  90.1349     2.0522  43.921  < 2e-16 ***\n",
       "Wind         -1.2305     0.1944  -6.331 2.64e-09 ***\n",
       "---\n",
       "Signif. codes:  0 ‘***’ 0.001 ‘**’ 0.01 ‘*’ 0.05 ‘.’ 0.1 ‘ ’ 1\n",
       "\n",
       "Residual standard error: 8.442 on 151 degrees of freedom\n",
       "Multiple R-squared:  0.2098,\tAdjusted R-squared:  0.2045 \n",
       "F-statistic: 40.08 on 1 and 151 DF,  p-value: 2.642e-09\n"
      ]
     },
     "metadata": {},
     "output_type": "display_data"
    }
   ],
   "source": [
    "summary(lmOut)"
   ]
  },
  {
   "cell_type": "markdown",
   "metadata": {},
   "source": [
    "Let's unpack this output line by line:\n",
    "\n",
    "<img src=\"https://ist387.s3.us-east-2.amazonaws.com/images/lm1.png\">"
   ]
  },
  {
   "cell_type": "markdown",
   "metadata": {},
   "source": [
    "Looking at the **Adjusted R-squared** value of this model, we can see that it explains a small amount of the variation in **Temp**. We can try to improve that by adding predictors to the model – turning our simple regression into **multiple regression**:"
   ]
  },
  {
   "cell_type": "code",
   "execution_count": 23,
   "metadata": {},
   "outputs": [
    {
     "data": {
      "text/plain": [
       "\n",
       "Call:\n",
       "lm(formula = Temp ~ Wind + Solar.R, data = air)\n",
       "\n",
       "Residuals:\n",
       "    Min      1Q  Median      3Q     Max \n",
       "-22.167  -5.301   1.178   5.183  18.440 \n",
       "\n",
       "Coefficients:\n",
       "             Estimate Std. Error t value Pr(>|t|)    \n",
       "(Intercept) 85.675648   2.468453  34.708  < 2e-16 ***\n",
       "Wind        -1.213450   0.189226  -6.413 1.76e-09 ***\n",
       "Solar.R      0.022932   0.007461   3.074  0.00251 ** \n",
       "---\n",
       "Signif. codes:  0 ‘***’ 0.001 ‘**’ 0.01 ‘*’ 0.05 ‘.’ 0.1 ‘ ’ 1\n",
       "\n",
       "Residual standard error: 8.215 on 150 degrees of freedom\n",
       "Multiple R-squared:  0.2566,\tAdjusted R-squared:  0.2467 \n",
       "F-statistic: 25.88 on 2 and 150 DF,  p-value: 2.202e-10\n"
      ]
     },
     "metadata": {},
     "output_type": "display_data"
    }
   ],
   "source": [
    "#Model with 2 predictors\n",
    "lmOut1 <- lm(Temp ~ Wind + Solar.R, data=air)\n",
    "summary(lmOut1)"
   ]
  },
  {
   "cell_type": "markdown",
   "metadata": {},
   "source": [
    "Here are the **coefficients**, aka **slopes**, aka **weights**, associated with the statistically significant predictors:\n",
    "-1.21 for **Wind** and 0.02 for **Solar.R**.\n",
    "\n",
    "\n",
    "How do we interpret them? Let’s start with the relationship between **Temp** and **Wind**:\n",
    "\n",
    "We can see that the **coefficient is negative**, meaning that as **Wind** speed **increases**, **Temp** is likely to **decrease**. \n",
    "\n",
    "The general **interpretation** of the predictor coefficient is as follows: \n",
    "\n",
    "**for each unit change in the predictor, the dependent variable increases/decreases by the amount of the predictor’s coefficient.** \n",
    "\n",
    "In our case, the coefficient of **Wind** can be interpreted as follows: For each additional mile per hour increase in wind speed, temperature is likely to drop by 1.21 degrees Fahrenheit.\n",
    "\n",
    "Now, for **Solar.R**: For each additional unit increase in Solar.R, temperature is likely to increase by 0.02 degrees.\n",
    "\n",
    "Regression models can also be used for **prediction**, i.e. given values of your predictor variables, what is the likeliest value of the dependent variable? \n",
    "\n",
    "Let’s try it with the following values for our predictors, saved in a dataframe:"
   ]
  },
  {
   "cell_type": "code",
   "execution_count": 25,
   "metadata": {},
   "outputs": [
    {
     "data": {
      "text/html": [
       "<strong>1:</strong> 78.6061829101013"
      ],
      "text/latex": [
       "\\textbf{1:} 78.6061829101013"
      ],
      "text/markdown": [
       "**1:** 78.6061829101013"
      ],
      "text/plain": [
       "       1 \n",
       "78.60618 "
      ]
     },
     "metadata": {},
     "output_type": "display_data"
    }
   ],
   "source": [
    "predDF <- data.frame(Wind=9.7, Solar.R=205) #wind speed = 9.7 mph, Solar.R = 205 lang\n",
    "predict(lmOut1, predDF) #The predicted temperature is 78.6 degrees Fahrenheit"
   ]
  },
  {
   "cell_type": "markdown",
   "metadata": {},
   "source": [
    "Let’s change just one little thing – let’s increase wind speed by 1 mile/hr:"
   ]
  },
  {
   "cell_type": "code",
   "execution_count": 27,
   "metadata": {},
   "outputs": [
    {
     "data": {
      "text/html": [
       "<strong>1:</strong> 77.392732993662"
      ],
      "text/latex": [
       "\\textbf{1:} 77.392732993662"
      ],
      "text/markdown": [
       "**1:** 77.392732993662"
      ],
      "text/plain": [
       "       1 \n",
       "77.39273 "
      ]
     },
     "metadata": {},
     "output_type": "display_data"
    }
   ],
   "source": [
    "predDF <- data.frame(Wind=10.7, Solar.R=205) #wind speed = 10.7 mph, Solar.R = 205 lang\n",
    "predict(lmOut1, predDF) #Notice temperature decreased by the exact value of the slope of Wind!\n"
   ]
  }
 ],
 "metadata": {
  "kernelspec": {
   "display_name": "R",
   "language": "R",
   "name": "ir"
  },
  "language_info": {
   "codemirror_mode": "r",
   "file_extension": ".r",
   "mimetype": "text/x-r-source",
   "name": "R",
   "pygments_lexer": "r",
   "version": "4.0.3"
  }
 },
 "nbformat": 4,
 "nbformat_minor": 4
}
