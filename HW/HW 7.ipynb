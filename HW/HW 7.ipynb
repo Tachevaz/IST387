{
 "cells": [
  {
   "cell_type": "markdown",
   "metadata": {},
   "source": [
    "# IST 387 HW 7\n",
    "##### Copyright 2021, Jeffrey Stanton, Jeffrey Saltz, and Jasmina Tacheva"
   ]
  },
  {
   "cell_type": "code",
   "execution_count": 1,
   "metadata": {},
   "outputs": [],
   "source": [
    "# Enter your name here: "
   ]
  },
  {
   "cell_type": "markdown",
   "metadata": {},
   "source": [
    "\n",
    "### Attribution statement: (choose only one and delete the rest)"
   ]
  },
  {
   "cell_type": "code",
   "execution_count": 2,
   "metadata": {},
   "outputs": [],
   "source": [
    "# 1. I did this homework by myself, with help from the book and the professor.\n",
    "# 2. I did this homework with help from the book and the professor and these Internet sources:\n",
    "# 3. I did this homework with help from <Name of another student> but did not cut and paste any code."
   ]
  },
  {
   "cell_type": "markdown",
   "metadata": {},
   "source": [
    "**Chapter 13 of Introduction to Data Science** <br>\n",
    "\n",
    "**This module:** Last module we explored **data visualization** in R using the **ggplot2** package. This module continues to use ggplot, together with a companion package called **ggmap**. This package enhances the capabilities of ggplot by adding the capability to **draw geographic outlines (polygons), shading, labeling, and other map markings**. In addition, we will merge datasets using the built-in **merge( )** function, which provides a similar capability to a **JOIN in SQL**. Many analytical strategies require joining data from different sources based on a **“key”** – a field that two datasets have in common. \n",
    "\n",
    "## Step 1: Load the population data\n",
    "\n",
    "A.\tThe following lines of code will help you read a json file into an R dataframe. Examine the resulting pop dataframe with View() and add comments explaining what each column contains.\n"
   ]
  },
  {
   "cell_type": "code",
   "execution_count": 3,
   "metadata": {},
   "outputs": [],
   "source": [
    "library(jsonlite)\n",
    "url=\"https://ist387.s3.us-east-2.amazonaws.com/data/cities.json\"\n",
    "pop <- jsonlite::fromJSON(url)"
   ]
  },
  {
   "cell_type": "markdown",
   "metadata": {},
   "source": [
    "B.\tCalculate the **average population** in the dataframe. Why is using mean() directly not working? Find a way to correct the data type of this variable so you can calculate the average."
   ]
  },
  {
   "cell_type": "code",
   "execution_count": null,
   "metadata": {},
   "outputs": [],
   "source": []
  },
  {
   "cell_type": "markdown",
   "metadata": {},
   "source": [
    "C.\tWhat is the population of the smallest city in the dataframe? Which state is it in?"
   ]
  },
  {
   "cell_type": "code",
   "execution_count": null,
   "metadata": {},
   "outputs": [],
   "source": []
  },
  {
   "cell_type": "markdown",
   "metadata": {},
   "source": [
    "## Step 2: Merge the population data with the state name data\n",
    "\n",
    "D)\tRead in the state name .csv file from the URL below into a dataframe named **abbr** (for \"abbreviation\") – make sure to use the read_csv() function from the tidyverse package: <br>\n",
    "https://ist387.s3.us-east-2.amazonaws.com/data/states.csv\n"
   ]
  },
  {
   "cell_type": "code",
   "execution_count": null,
   "metadata": {},
   "outputs": [],
   "source": []
  },
  {
   "cell_type": "markdown",
   "metadata": {},
   "source": [
    "E)\tTo successfully merge the dataframe **pop** with the **abbr** dataframe, we need to identify a **column they have in common** which will serve as the **“key”** to merge on. One column both dataframes have is the **state column**. The only problem is the slight column name discrepancy – in **pop**, the column is called **“state”** and in **abbr** – **“State.”** These names need to be reconciled for the merge() function to work. Find a way to rename **abbr’s “State”** to **match** the **state column in pop**.    "
   ]
  },
  {
   "cell_type": "code",
   "execution_count": null,
   "metadata": {},
   "outputs": [],
   "source": []
  },
  {
   "cell_type": "markdown",
   "metadata": {},
   "source": [
    "F)\tMerge the two dataframes (using the **‘state’ column** from both dataframes), storing the resulting dataframe in **dfNew**."
   ]
  },
  {
   "cell_type": "code",
   "execution_count": null,
   "metadata": {},
   "outputs": [],
   "source": []
  },
  {
   "cell_type": "markdown",
   "metadata": {},
   "source": [
    "G)\tReview the structure of **dfNew** and explain the columns (aka attributes) in that dataframe."
   ]
  },
  {
   "cell_type": "code",
   "execution_count": null,
   "metadata": {},
   "outputs": [],
   "source": []
  },
  {
   "cell_type": "markdown",
   "metadata": {},
   "source": [
    "## Step 3: Visualize the data\n",
    "\n",
    "H)\tPlot points (on top of a map of the US) for **each city** (don’t forget to library **ggplot2** and **ggmap**). Have the **color** represent the **population**."
   ]
  },
  {
   "cell_type": "code",
   "execution_count": null,
   "metadata": {},
   "outputs": [],
   "source": []
  },
  {
   "cell_type": "markdown",
   "metadata": {},
   "source": [
    "I)\tAdd a block comment that criticizes the resulting map. It’s not very good."
   ]
  },
  {
   "cell_type": "code",
   "execution_count": null,
   "metadata": {},
   "outputs": [],
   "source": []
  },
  {
   "cell_type": "markdown",
   "metadata": {},
   "source": [
    "## Step 4: Use aggregate() to make a dataframe of state-by-state population \n",
    "\n",
    "Run the following lines of code to create a new data frame:"
   ]
  },
  {
   "cell_type": "code",
   "execution_count": 4,
   "metadata": {},
   "outputs": [
    {
     "ename": "ERROR",
     "evalue": "Error in aggregate(dfNew$population, by = list(dfNew$state_name), FUN = sum): object 'dfNew' not found\n",
     "output_type": "error",
     "traceback": [
      "Error in aggregate(dfNew$population, by = list(dfNew$state_name), FUN = sum): object 'dfNew' not found\nTraceback:\n",
      "1. aggregate(dfNew$population, by = list(dfNew$state_name), FUN = sum)"
     ]
    }
   ],
   "source": [
    "dfSimple = aggregate(dfNew$population,\n",
    "                     by = list(dfNew$state_name),\n",
    "                     FUN = sum)\n",
    "dfSimple$name <- dfSimple$Group.1\n",
    "dfSimple$Group.1 <- NULL\n",
    "dfSimple$statePop <- dfSimple$x\n",
    "dfSimple$x <- NULL  "
   ]
  },
  {
   "cell_type": "markdown",
   "metadata": {},
   "source": [
    "J)\tAdd a comment describing what each line of code does. Make sure to describe how many rows there are in **dfSimple** (and why there are that many rows)."
   ]
  },
  {
   "cell_type": "code",
   "execution_count": null,
   "metadata": {},
   "outputs": [],
   "source": []
  },
  {
   "cell_type": "markdown",
   "metadata": {},
   "source": [
    "K)\tName the most and least populous states in **dfSimple** and show the code you used to determine them."
   ]
  },
  {
   "cell_type": "code",
   "execution_count": null,
   "metadata": {},
   "outputs": [],
   "source": []
  },
  {
   "cell_type": "markdown",
   "metadata": {},
   "source": [
    "## Step 5: Use ggplot and ggmap to shade a map of the U.S. with state population \n",
    "\n",
    "L)\tCopy the ggplot code from Step 3. In the initial ggplot statement, you will need to use your new dataframe, so substitute **dfSimple** in place of **dfNew**. Additionally, instead of using **geom_point** to plot points, use this aesthetic to fill the polygons with a **color** for each state. Make sure to expand the limits correctly and that you have used **coord_map** appropriately.\n"
   ]
  },
  {
   "cell_type": "code",
   "execution_count": null,
   "metadata": {},
   "outputs": [],
   "source": []
  }
 ],
 "metadata": {
  "kernelspec": {
   "display_name": "R",
   "language": "R",
   "name": "ir"
  },
  "language_info": {
   "codemirror_mode": "r",
   "file_extension": ".r",
   "mimetype": "text/x-r-source",
   "name": "R",
   "pygments_lexer": "r",
   "version": "4.0.3"
  }
 },
 "nbformat": 4,
 "nbformat_minor": 4
}
