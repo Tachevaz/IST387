{
 "cells": [
  {
   "cell_type": "markdown",
   "metadata": {
    "slideshow": {
     "slide_type": "slide"
    }
   },
   "source": [
    "# IST 387: Week 3\n",
    "\n",
    "- What we've learned so far\n",
    "- Descriptive Statistics\n",
    "- Functions in R"
   ]
  },
  {
   "attachments": {},
   "cell_type": "markdown",
   "metadata": {
    "slideshow": {
     "slide_type": "slide"
    }
   },
   "source": [
    "- Indexing into vectors and dataframes\n",
    "- Sorting dataframes using order()\n",
    "- Data munging/wrangling:\n",
    " - Inspecting dataframes\n",
    " - Removing rows and columns\n",
    " - Extracting text from characters strings using gsub()\n",
    " - Reading csv files \n"
   ]
  },
  {
   "attachments": {},
   "cell_type": "markdown",
   "metadata": {
    "slideshow": {
     "slide_type": "slide"
    }
   },
   "source": [
    "# Functions\n",
    "\n",
    "- A block of code used to accomplish a task\n",
    "- 2 steps:\n",
    " - **declaring** a function\n",
    " - **calling** a function\n",
    " \n",
    " <img src=\"https://ist387.s3.us-east-2.amazonaws.com/images/le3_1.png\">"
   ]
  },
  {
   "cell_type": "markdown",
   "metadata": {},
   "source": [
    " <img src=\"https://ist387.s3.us-east-2.amazonaws.com/images/lec3_2.png\">"
   ]
  },
  {
   "cell_type": "markdown",
   "metadata": {},
   "source": [
    "# Defining a function\n",
    "\n",
    "<img src=\"https://ist387.s3.us-east-2.amazonaws.com/images/lec3_4.png\">"
   ]
  },
  {
   "cell_type": "markdown",
   "metadata": {},
   "source": [
    "# Calling a function\n",
    "\n",
    "<img src=\"https://ist387.s3.us-east-2.amazonaws.com/images/lec3_5.png\">"
   ]
  },
  {
   "cell_type": "markdown",
   "metadata": {},
   "source": [
    "# What does this function do?\n",
    "\n",
    "<img src=\"https://ist387.s3.us-east-2.amazonaws.com/images/lec3_6.png\">"
   ]
  }
 ],
 "metadata": {
  "celltoolbar": "Slideshow",
  "kernelspec": {
   "display_name": "R",
   "language": "R",
   "name": "ir"
  },
  "language_info": {
   "codemirror_mode": "r",
   "file_extension": ".r",
   "mimetype": "text/x-r-source",
   "name": "R",
   "pygments_lexer": "r",
   "version": "4.0.3"
  }
 },
 "nbformat": 4,
 "nbformat_minor": 4
}
