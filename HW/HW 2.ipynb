{
 "cells": [
  {
   "cell_type": "markdown",
   "metadata": {},
   "source": [
    "# IST 387 HW 2\n",
    "##### Copyright 2021, Jeffrey Stanton, Jeffrey Saltz, and Jasmina Tacheva"
   ]
  },
  {
   "cell_type": "code",
   "execution_count": 1,
   "metadata": {},
   "outputs": [],
   "source": [
    "# Enter your name here: "
   ]
  },
  {
   "cell_type": "markdown",
   "metadata": {},
   "source": [
    "### Attribution statement: (choose only one and delete the rest)"
   ]
  },
  {
   "cell_type": "code",
   "execution_count": 2,
   "metadata": {},
   "outputs": [],
   "source": [
    "# 1. I did this homework by myself, with help from the book and the professor.\n",
    "# 2. I did this homework with help from the book and the professor and these Internet sources:\n",
    "# 3. I did this homework with help from <Name of another student> but did not cut and paste any code."
   ]
  },
  {
   "cell_type": "markdown",
   "metadata": {},
   "source": [
    "### Reminders of things to practice from last week: \n",
    "Assignment arrow  \t\t<- <br>\n",
    "The combine command \tc( ) <br>\n",
    "Descriptive statistics \tmean( ) sum( ) max( ) <br>\n",
    "Arithmetic operators\t\t+ - * /<br>\n",
    "Boolean operators\t\t>    <    >=    <=   ==   !=  <br>\n",
    "\n",
    "**This Week:** Explore the **quakes** dataset (which is included in R). Copy the **quakes** dataset into a new dataframe (call it **myQuakes**), so that if you need to start over, you can do so easily (by copying quakes into myQuakes again). Summarize the variables in **myQuakes**. Use these commands to get started:\n"
   ]
  },
  {
   "cell_type": "code",
   "execution_count": 3,
   "metadata": {},
   "outputs": [
    {
     "data": {
      "text/plain": [
       "      lat              long           depth            mag      \n",
       " Min.   :-38.59   Min.   :165.7   Min.   : 40.0   Min.   :4.00  \n",
       " 1st Qu.:-23.47   1st Qu.:179.6   1st Qu.: 99.0   1st Qu.:4.30  \n",
       " Median :-20.30   Median :181.4   Median :247.0   Median :4.60  \n",
       " Mean   :-20.64   Mean   :179.5   Mean   :311.4   Mean   :4.62  \n",
       " 3rd Qu.:-17.64   3rd Qu.:183.2   3rd Qu.:543.0   3rd Qu.:4.90  \n",
       " Max.   :-10.72   Max.   :188.1   Max.   :680.0   Max.   :6.40  \n",
       "    stations     \n",
       " Min.   : 10.00  \n",
       " 1st Qu.: 18.00  \n",
       " Median : 27.00  \n",
       " Mean   : 33.42  \n",
       " 3rd Qu.: 42.00  \n",
       " Max.   :132.00  "
      ]
     },
     "metadata": {},
     "output_type": "display_data"
    },
    {
     "data": {
      "text/html": [
       "<table>\n",
       "<caption>A data.frame: 6 × 5</caption>\n",
       "<thead>\n",
       "\t<tr><th></th><th scope=col>lat</th><th scope=col>long</th><th scope=col>depth</th><th scope=col>mag</th><th scope=col>stations</th></tr>\n",
       "\t<tr><th></th><th scope=col>&lt;dbl&gt;</th><th scope=col>&lt;dbl&gt;</th><th scope=col>&lt;int&gt;</th><th scope=col>&lt;dbl&gt;</th><th scope=col>&lt;int&gt;</th></tr>\n",
       "</thead>\n",
       "<tbody>\n",
       "\t<tr><th scope=row>1</th><td>-20.42</td><td>181.62</td><td>562</td><td>4.8</td><td>41</td></tr>\n",
       "\t<tr><th scope=row>2</th><td>-20.62</td><td>181.03</td><td>650</td><td>4.2</td><td>15</td></tr>\n",
       "\t<tr><th scope=row>3</th><td>-26.00</td><td>184.10</td><td> 42</td><td>5.4</td><td>43</td></tr>\n",
       "\t<tr><th scope=row>4</th><td>-17.97</td><td>181.66</td><td>626</td><td>4.1</td><td>19</td></tr>\n",
       "\t<tr><th scope=row>5</th><td>-20.42</td><td>181.96</td><td>649</td><td>4.0</td><td>11</td></tr>\n",
       "\t<tr><th scope=row>6</th><td>-19.68</td><td>184.31</td><td>195</td><td>4.0</td><td>12</td></tr>\n",
       "</tbody>\n",
       "</table>\n"
      ],
      "text/latex": [
       "A data.frame: 6 × 5\n",
       "\\begin{tabular}{r|lllll}\n",
       "  & lat & long & depth & mag & stations\\\\\n",
       "  & <dbl> & <dbl> & <int> & <dbl> & <int>\\\\\n",
       "\\hline\n",
       "\t1 & -20.42 & 181.62 & 562 & 4.8 & 41\\\\\n",
       "\t2 & -20.62 & 181.03 & 650 & 4.2 & 15\\\\\n",
       "\t3 & -26.00 & 184.10 &  42 & 5.4 & 43\\\\\n",
       "\t4 & -17.97 & 181.66 & 626 & 4.1 & 19\\\\\n",
       "\t5 & -20.42 & 181.96 & 649 & 4.0 & 11\\\\\n",
       "\t6 & -19.68 & 184.31 & 195 & 4.0 & 12\\\\\n",
       "\\end{tabular}\n"
      ],
      "text/markdown": [
       "\n",
       "A data.frame: 6 × 5\n",
       "\n",
       "| <!--/--> | lat &lt;dbl&gt; | long &lt;dbl&gt; | depth &lt;int&gt; | mag &lt;dbl&gt; | stations &lt;int&gt; |\n",
       "|---|---|---|---|---|---|\n",
       "| 1 | -20.42 | 181.62 | 562 | 4.8 | 41 |\n",
       "| 2 | -20.62 | 181.03 | 650 | 4.2 | 15 |\n",
       "| 3 | -26.00 | 184.10 |  42 | 5.4 | 43 |\n",
       "| 4 | -17.97 | 181.66 | 626 | 4.1 | 19 |\n",
       "| 5 | -20.42 | 181.96 | 649 | 4.0 | 11 |\n",
       "| 6 | -19.68 | 184.31 | 195 | 4.0 | 12 |\n",
       "\n"
      ],
      "text/plain": [
       "  lat    long   depth mag stations\n",
       "1 -20.42 181.62 562   4.8 41      \n",
       "2 -20.62 181.03 650   4.2 15      \n",
       "3 -26.00 184.10  42   5.4 43      \n",
       "4 -17.97 181.66 626   4.1 19      \n",
       "5 -20.42 181.96 649   4.0 11      \n",
       "6 -19.68 184.31 195   4.0 12      "
      ]
     },
     "metadata": {},
     "output_type": "display_data"
    }
   ],
   "source": [
    "myQuakes <- quakes\t\t# Copy into new data frame\n",
    "summary(myQuakes)\t# Summarize data in the console\n",
    "head(myQuakes)\t\t# View the data in a new tab in RStudio"
   ]
  },
  {
   "cell_type": "markdown",
   "metadata": {},
   "source": [
    "**Step 1:** Explore the earthquake magnitude variable called **mag**  <br>\n",
    "(To address these items, add a comment after the command that produces the result in your code.) <br>\n",
    "\n",
    "A.\tWhat is the average magnitude? Use mean() or summary():"
   ]
  },
  {
   "cell_type": "code",
   "execution_count": null,
   "metadata": {},
   "outputs": [],
   "source": []
  },
  {
   "cell_type": "markdown",
   "metadata": {},
   "source": [
    "B.\tWhat is the magnitude of the largest earthquake? Use max() or summary() and save the result in a variable called **maxQuake**:"
   ]
  },
  {
   "cell_type": "code",
   "execution_count": null,
   "metadata": {},
   "outputs": [],
   "source": []
  },
  {
   "cell_type": "markdown",
   "metadata": {},
   "source": [
    "C.\tWhat is the magnitude of the smallest earthquake? Use min() or summary() and save the result in a variable called **minQuake**:"
   ]
  },
  {
   "cell_type": "code",
   "execution_count": null,
   "metadata": {},
   "outputs": [],
   "source": []
  },
  {
   "cell_type": "markdown",
   "metadata": {},
   "source": [
    "D.\tCreate a **sorted dataframe** based on magnitude and store it in **quakeSorted**. **Hint:** Use order( )\n"
   ]
  },
  {
   "cell_type": "code",
   "execution_count": null,
   "metadata": {},
   "outputs": [],
   "source": []
  },
  {
   "cell_type": "markdown",
   "metadata": {},
   "source": [
    "**Step 2:** Explore the **stations** variable  <br>\n",
    "\n",
    "E.\t**Write a comment:** Does there appear to be a relationship between magnitude and the number of reporting stations?"
   ]
  },
  {
   "cell_type": "code",
   "execution_count": null,
   "metadata": {},
   "outputs": [],
   "source": []
  },
  {
   "cell_type": "markdown",
   "metadata": {},
   "source": [
    "F.\tWhat are the latitude and longitude of the quake reported by the largest number of stations? **Hint:** Use which.max( )"
   ]
  },
  {
   "cell_type": "code",
   "execution_count": null,
   "metadata": {},
   "outputs": [],
   "source": []
  },
  {
   "cell_type": "markdown",
   "metadata": {},
   "source": [
    "G.\tWhat are the latitude and longitude of the quake reported by the smallest number of stations? **Hint:** Use which.min( )"
   ]
  },
  {
   "cell_type": "code",
   "execution_count": null,
   "metadata": {},
   "outputs": [],
   "source": []
  },
  {
   "cell_type": "markdown",
   "metadata": {},
   "source": [
    "**Step 3:** Using conditional if statements <br>\n",
    "H.\t Test if **maxQuake** is greater than 7 (output “yes” or “no”) <br>\n",
    "**Hint:** Try modifying the following code in R: "
   ]
  },
  {
   "cell_type": "code",
   "execution_count": 1,
   "metadata": {},
   "outputs": [
    {
     "data": {
      "text/html": [
       "'100 is less than 150'"
      ],
      "text/latex": [
       "'100 is less than 150'"
      ],
      "text/markdown": [
       "'100 is less than 150'"
      ],
      "text/plain": [
       "[1] \"100 is less than 150\""
      ]
     },
     "metadata": {},
     "output_type": "display_data"
    }
   ],
   "source": [
    "if  (100 < 150) \"100 is less than 150\" else \"100 is greater than 150\""
   ]
  },
  {
   "cell_type": "markdown",
   "metadata": {},
   "source": [
    "I.\t Following the same logic, test if minQuake is less than 3 (output “yes” or “no”):"
   ]
  },
  {
   "cell_type": "code",
   "execution_count": null,
   "metadata": {},
   "outputs": [],
   "source": []
  }
 ],
 "metadata": {
  "kernelspec": {
   "display_name": "R",
   "language": "R",
   "name": "ir"
  },
  "language_info": {
   "codemirror_mode": "r",
   "file_extension": ".r",
   "mimetype": "text/x-r-source",
   "name": "R",
   "pygments_lexer": "r",
   "version": "4.0.3"
  }
 },
 "nbformat": 4,
 "nbformat_minor": 4
}
