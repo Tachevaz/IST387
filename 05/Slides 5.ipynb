{
 "cells": [
  {
   "cell_type": "markdown",
   "metadata": {
    "slideshow": {
     "slide_type": "slide"
    }
   },
   "source": [
    "# IST 387: Week 5\n",
    "\n",
    "- Accessing data in R (Ch. 11)\n",
    "\n",
    "<img src='https://ist387.s3.us-east-2.amazonaws.com/images/csv.png'>"
   ]
  },
  {
   "cell_type": "markdown",
   "metadata": {
    "slideshow": {
     "slide_type": "slide"
    }
   },
   "source": [
    "## Data beyond Excel\n",
    "\n",
    "<img src='https://ist387.s3.us-east-2.amazonaws.com/images/2021-03-08+15_26_14-IST387Week5+-+PowerPoint.png'>"
   ]
  },
  {
   "cell_type": "markdown",
   "metadata": {
    "slideshow": {
     "slide_type": "slide"
    }
   },
   "source": [
    "## ETL = ***E***xtract, ***T***ransform, ***L***oad\n",
    "\n",
    "\n",
    "<img src=\"https://ist387.s3.us-east-2.amazonaws.com/images/Picture1.jpg\">\n"
   ]
  },
  {
   "cell_type": "markdown",
   "metadata": {
    "slideshow": {
     "slide_type": "slide"
    }
   },
   "source": [
    "## Data beyond Excel: Flat Files & Cloud Services\n",
    "\n",
    "<img src=\"https://ist387.s3.us-east-2.amazonaws.com/images/2021-03-08+15_32_06-IST387Week5+-+PowerPoint.png\">"
   ]
  },
  {
   "cell_type": "markdown",
   "metadata": {
    "slideshow": {
     "slide_type": "slide"
    }
   },
   "source": [
    "## Data beyond Excel: Databases\n",
    "\n",
    "<img src=\"https://ist387.s3.us-east-2.amazonaws.com/images/2021-03-08+15_32_58-IST387Week5+-+PowerPoint.png\">"
   ]
  },
  {
   "cell_type": "markdown",
   "metadata": {
    "slideshow": {
     "slide_type": "slide"
    }
   },
   "source": [
    "## Data beyond Excel: Databases\n",
    "\n",
    "<img src=\"https://ist387.s3.us-east-2.amazonaws.com/images/2021-03-08+15_33_52-IST387Week5+-+PowerPoint.png\">"
   ]
  },
  {
   "cell_type": "markdown",
   "metadata": {
    "slideshow": {
     "slide_type": "slide"
    }
   },
   "source": [
    "## Data beyond Excel: JSON\n",
    "\n",
    "<img src=\"https://ist387.s3.us-east-2.amazonaws.com/images/2021-03-08+15_34_16-IST387Week5+-+PowerPoint.png\">"
   ]
  },
  {
   "cell_type": "markdown",
   "metadata": {
    "slideshow": {
     "slide_type": "slide"
    }
   },
   "source": [
    "## How does the Internet work?\n",
    "\n",
    "<img src=\"https://ist387.s3.us-east-2.amazonaws.com/images/2021-03-08+15_36_35-IST387Week5+-+PowerPoint.png\">"
   ]
  },
  {
   "cell_type": "markdown",
   "metadata": {
    "slideshow": {
     "slide_type": "slide"
    }
   },
   "source": [
    "## When you type a web address into a browser…\n",
    "\n",
    "<img src=\"https://ist387.s3.us-east-2.amazonaws.com/images/2021-03-08+15_38_19-IST387Week5+-+PowerPoint.png\">"
   ]
  },
  {
   "cell_type": "markdown",
   "metadata": {
    "slideshow": {
     "slide_type": "slide"
    }
   },
   "source": [
    "## But sometimes you’re more interested in the data itself…\n",
    "\n",
    "<img src=\"https://ist387.s3.us-east-2.amazonaws.com/images/2021-03-08+15_39_03-IST387Week5+-+PowerPoint.png\">"
   ]
  },
  {
   "cell_type": "markdown",
   "metadata": {
    "slideshow": {
     "slide_type": "slide"
    }
   },
   "source": [
    "## JSON Example\n",
    "\n",
    "https://account.citibikenyc.com/map\n",
    "\n",
    "https://gbfs.citibikenyc.com/gbfs/en/station_status.json"
   ]
  },
  {
   "cell_type": "markdown",
   "metadata": {
    "slideshow": {
     "slide_type": "slide"
    }
   },
   "source": [
    "## XML vs. JSON\n",
    "\n",
    "<img src=\"https://ist387.s3.us-east-2.amazonaws.com/images/Picture2xml.png\" width=\"300\">\n",
    "\n",
    "<img src=\"https://ist387.s3.us-east-2.amazonaws.com/images/Picture2json.png\" width=\"300\">"
   ]
  },
  {
   "cell_type": "markdown",
   "metadata": {
    "slideshow": {
     "slide_type": "slide"
    }
   },
   "source": [
    "## JSON\n",
    "\n",
    "<img src=\"https://ist387.s3.us-east-2.amazonaws.com/images/2021-03-08+16_37_54-IST387Week5+-+PowerPoint.png\">\n",
    "\n",
    "Learn More: https://www.json.org/json-en.html"
   ]
  },
  {
   "cell_type": "markdown",
   "metadata": {
    "slideshow": {
     "slide_type": "slide"
    }
   },
   "source": [
    "## JSON + APIs = Powerful web/mobile app engine\n",
    "\n",
    "This researcher sends regular requests to the Twitter API to get live Twitter data in a JSON format, mine it via sentiment analysis, and plot the results:\n",
    "\n",
    "https://live.rlamsal.com.np/\n"
   ]
  },
  {
   "cell_type": "markdown",
   "metadata": {
    "slideshow": {
     "slide_type": "slide"
    }
   },
   "source": [
    "## JSON Syntax: an example from Twitter\n",
    "\n",
    "<img src=\"https://ist387.s3.us-east-2.amazonaws.com/images/2021-03-08+16_38_53-IST387Week5+-+PowerPoint.png\">\n",
    "\n",
    "https://developer.twitter.com/en/docs/twitter-api/v1/data-dictionary/object-model/tweet"
   ]
  }
 ],
 "metadata": {
  "celltoolbar": "Slideshow",
  "kernelspec": {
   "display_name": "R",
   "language": "R",
   "name": "ir"
  },
  "language_info": {
   "codemirror_mode": "r",
   "file_extension": ".r",
   "mimetype": "text/x-r-source",
   "name": "R",
   "pygments_lexer": "r",
   "version": "4.0.3"
  }
 },
 "nbformat": 4,
 "nbformat_minor": 4
}
