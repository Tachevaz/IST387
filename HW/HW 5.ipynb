{
 "cells": [
  {
   "cell_type": "markdown",
   "metadata": {},
   "source": [
    "# IST 387 HW 5\n",
    "##### Copyright 2021, Jeffrey Stanton, Jeffrey Saltz, and Jasmina Tacheva"
   ]
  },
  {
   "cell_type": "code",
   "execution_count": 1,
   "metadata": {},
   "outputs": [],
   "source": [
    "# Enter your name here: "
   ]
  },
  {
   "cell_type": "markdown",
   "metadata": {},
   "source": [
    "### Attribution statement: (choose only one and delete the rest)"
   ]
  },
  {
   "cell_type": "code",
   "execution_count": 2,
   "metadata": {},
   "outputs": [],
   "source": [
    "# 1. I did this homework by myself, with help from the book and the professor.\n",
    "# 2. I did this homework with help from the book and the professor and these Internet sources:\n",
    "# 3. I did this homework with help from <Name of another student> but did not cut and paste any code."
   ]
  },
  {
   "cell_type": "markdown",
   "metadata": {},
   "source": [
    "**(Chapter 11 of Introduction to Data Science)**\n",
    "\n",
    "Reminders of things to practice from previous weeks: <br>\n",
    "Descriptive statistics: \tmean( ) max( ) min( )<br>\n",
    "Coerce to numeric:\t\tas.numeric( )<br>"
   ]
  },
  {
   "cell_type": "markdown",
   "metadata": {},
   "source": [
    "## Part 1: Use the Starter Code \n",
    "\n",
    "Below, I have provided a starter file to help you. <br>\n",
    "\n",
    "Each of these lines of code **must be commented** (the comment must that explains what is going on, so that I know you understand the code and results)."
   ]
  },
  {
   "cell_type": "code",
   "execution_count": 3,
   "metadata": {},
   "outputs": [],
   "source": [
    "library(RCurl)\n",
    "library(jsonlite)\n",
    "dataset <- getURL(\"https://ist387.s3.us-east-2.amazonaws.com/data/role.json\")\n",
    "readlines <- jsonlite::fromJSON(dataset)\n",
    "df <- readlines$objects$person"
   ]
  },
  {
   "cell_type": "markdown",
   "metadata": {},
   "source": [
    "A.\tExplore the **df** dataframe (e.g., using View() or whatever you think is best)."
   ]
  },
  {
   "cell_type": "code",
   "execution_count": null,
   "metadata": {},
   "outputs": [],
   "source": []
  },
  {
   "cell_type": "markdown",
   "metadata": {},
   "source": [
    "B.\tExplain the dataset <br>\n",
    "o\tWhat is the dataset about? <br>\n",
    "o\tHow many rows are there and what does a row represent?<br>\n",
    "o\tHow many columns and what does each column represent?<br>\n"
   ]
  },
  {
   "cell_type": "code",
   "execution_count": null,
   "metadata": {},
   "outputs": [],
   "source": []
  },
  {
   "cell_type": "markdown",
   "metadata": {},
   "source": [
    "## Part 2: Investigate the resulting dataframe "
   ]
  },
  {
   "cell_type": "markdown",
   "metadata": {},
   "source": [
    "C.\tHow many senators are women? "
   ]
  },
  {
   "cell_type": "code",
   "execution_count": null,
   "metadata": {},
   "outputs": [],
   "source": []
  },
  {
   "cell_type": "markdown",
   "metadata": {},
   "source": [
    "D.\tHow many senators have a YouTube account?  "
   ]
  },
  {
   "cell_type": "code",
   "execution_count": null,
   "metadata": {},
   "outputs": [],
   "source": []
  },
  {
   "cell_type": "markdown",
   "metadata": {},
   "source": [
    "E.\tHow many women senators have a YouTube account?"
   ]
  },
  {
   "cell_type": "code",
   "execution_count": null,
   "metadata": {},
   "outputs": [],
   "source": []
  },
  {
   "cell_type": "markdown",
   "metadata": {},
   "source": [
    "F.\tCreate a new dataframe called **youtubeWomen** that only includes women senators who have a YouTube account.   "
   ]
  },
  {
   "cell_type": "code",
   "execution_count": null,
   "metadata": {},
   "outputs": [],
   "source": []
  },
  {
   "cell_type": "markdown",
   "metadata": {},
   "source": [
    "G.\tWhat does running this line of code do? Explain in a comment: "
   ]
  },
  {
   "cell_type": "code",
   "execution_count": 4,
   "metadata": {},
   "outputs": [
    {
     "ename": "ERROR",
     "evalue": "Error in substr(youtubeWomen$birthday, 1, 4): object 'youtubeWomen' not found\n",
     "output_type": "error",
     "traceback": [
      "Error in substr(youtubeWomen$birthday, 1, 4): object 'youtubeWomen' not found\nTraceback:\n",
      "1. substr(youtubeWomen$birthday, 1, 4)"
     ]
    }
   ],
   "source": [
    "youtubeWomen$year <- substr(youtubeWomen$birthday,1,4)"
   ]
  },
  {
   "cell_type": "markdown",
   "metadata": {},
   "source": [
    "H.\tUse this new variable to calculate the mean **birthyear** in **youtubeWomen**. <br>\n",
    "**Hint:** You may need to convert it to numeric first."
   ]
  },
  {
   "cell_type": "code",
   "execution_count": null,
   "metadata": {},
   "outputs": [],
   "source": []
  },
  {
   "cell_type": "markdown",
   "metadata": {},
   "source": [
    "I.\tMake a histogram of the **birthyears** of senators in **youtubeWomen**. Add a comment describing the shape of the distribution."
   ]
  },
  {
   "cell_type": "code",
   "execution_count": null,
   "metadata": {},
   "outputs": [],
   "source": []
  }
 ],
 "metadata": {
  "kernelspec": {
   "display_name": "R",
   "language": "R",
   "name": "ir"
  },
  "language_info": {
   "codemirror_mode": "r",
   "file_extension": ".r",
   "mimetype": "text/x-r-source",
   "name": "R",
   "pygments_lexer": "r",
   "version": "4.0.3"
  }
 },
 "nbformat": 4,
 "nbformat_minor": 4
}
