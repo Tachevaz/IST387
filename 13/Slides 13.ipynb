{
 "cells": [
  {
   "attachments": {},
   "cell_type": "markdown",
   "metadata": {
    "slideshow": {
     "slide_type": "slide"
    }
   },
   "source": [
    "# IST 387: Week 13\n",
    "\n",
    "### Introduction to text mining in R (Ch. 14&15)"
   ]
  },
  {
   "attachments": {},
   "cell_type": "markdown",
   "metadata": {
    "slideshow": {
     "slide_type": "slide"
    }
   },
   "source": [
    "## Text Mining\n",
    "\n",
    "- **Definition:** Discovering patterns in unstructured data\n",
    "- **Goal:** “turn text into numbers” so powerful algorithms can be applied to large bodies of text\n",
    "- **Applications:** text classification; human behavior modeling  \n",
    "\n",
    "<img src=\"https://ist387.s3.us-east-2.amazonaws.com/images/Picture1z.png\">"
   ]
  },
  {
   "attachments": {},
   "cell_type": "markdown",
   "metadata": {
    "slideshow": {
     "slide_type": "slide"
    }
   },
   "source": [
    "## Text Analytics and NLP as a growing field in data science:\n",
    " \n",
    " <img src=\"https://ist387.s3.us-east-2.amazonaws.com/images/Picture2z.png\" width=\"700\">\n"
   ]
  },
  {
   "attachments": {},
   "cell_type": "markdown",
   "metadata": {
    "slideshow": {
     "slide_type": "slide"
    }
   },
   "source": [
    "## … because most data in the world is unstructured and its volume is projected to grow exponentially:\n",
    "\n",
    "<img src=\"https://ist387.s3.us-east-2.amazonaws.com/images/Picture3z.jpg\">\n"
   ]
  },
  {
   "attachments": {},
   "cell_type": "markdown",
   "metadata": {
    "slideshow": {
     "slide_type": "slide"
    }
   },
   "source": [
    "## Text Mining = One Big Family (of fields and practice areas)\n",
    "\n",
    "\n",
    " <img src=\"https://ist387.s3.us-east-2.amazonaws.com/images/7z.jpg\" width=\"700\">"
   ]
  },
  {
   "attachments": {},
   "cell_type": "markdown",
   "metadata": {
    "slideshow": {
     "slide_type": "slide"
    }
   },
   "source": [
    " ## Sentiment Analysis\n",
    " \n",
    "- **Definition:** Quantitative method for establishing the polarity of text (positivity vs. negativity) =/ emotions\n",
    "- **Goal:** To introduce structure in unstructured text; to provide a unifying metric we can use to compare texts\n",
    "- **Applications:** Customer experience management – understand aspects of written/transcribed customer feedback\n",
    "- **Types:** Document- or clause-level (“service was good, quality was bad”)\n",
    "\n",
    " <img src=\"https://ist387.s3.us-east-2.amazonaws.com/images/Picture5z.png\">"
   ]
  },
  {
   "attachments": {},
   "cell_type": "markdown",
   "metadata": {
    "slideshow": {
     "slide_type": "slide"
    }
   },
   "source": [
    " ## Sentiment Analysis: Challenges and Limitations\n",
    " \n",
    " \n",
    " <img src=\"https://ist387.s3.us-east-2.amazonaws.com/images/6z.png\">"
   ]
  }
 ],
 "metadata": {
  "celltoolbar": "Slideshow",
  "kernelspec": {
   "display_name": "R",
   "language": "R",
   "name": "ir"
  },
  "language_info": {
   "codemirror_mode": "r",
   "file_extension": ".r",
   "mimetype": "text/x-r-source",
   "name": "R",
   "pygments_lexer": "r",
   "version": "4.0.3"
  }
 },
 "nbformat": 4,
 "nbformat_minor": 4
}
