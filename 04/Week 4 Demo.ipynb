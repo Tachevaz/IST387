{
 "cells": [
  {
   "cell_type": "markdown",
   "metadata": {
    "slideshow": {
     "slide_type": "slide"
    }
   },
   "source": [
    "## Descriptive & Inferential Statistics Tutorial\n",
    "\n",
    "Create a small vector called familyAges:"
   ]
  },
  {
   "cell_type": "code",
   "execution_count": 2,
   "metadata": {},
   "outputs": [],
   "source": [
    "familyAges <- c(43,43,12,8,5)"
   ]
  },
  {
   "cell_type": "markdown",
   "metadata": {},
   "source": [
    "### 1. Measuring central tendency (aka mean & median) and spread (aka standard deviation)\n",
    "We can ask R to return statistical measures by simply calling their respective functions on our tiny vector:"
   ]
  },
  {
   "cell_type": "code",
   "execution_count": 3,
   "metadata": {},
   "outputs": [
    {
     "data": {
      "text/html": [
       "22.2"
      ],
      "text/latex": [
       "22.2"
      ],
      "text/markdown": [
       "22.2"
      ],
      "text/plain": [
       "[1] 22.2"
      ]
     },
     "metadata": {},
     "output_type": "display_data"
    },
    {
     "data": {
      "text/html": [
       "12"
      ],
      "text/latex": [
       "12"
      ],
      "text/markdown": [
       "12"
      ],
      "text/plain": [
       "[1] 12"
      ]
     },
     "metadata": {},
     "output_type": "display_data"
    },
    {
     "data": {
      "text/html": [
       "19.1494125236259"
      ],
      "text/latex": [
       "19.1494125236259"
      ],
      "text/markdown": [
       "19.1494125236259"
      ],
      "text/plain": [
       "[1] 19.14941"
      ]
     },
     "metadata": {},
     "output_type": "display_data"
    }
   ],
   "source": [
    "mean(familyAges)\n",
    "median(familyAges)\n",
    "sd(familyAges)"
   ]
  },
  {
   "cell_type": "markdown",
   "metadata": {},
   "source": [
    "But what if we wanted to automate this by creating a function which takes in a numerical vector as an input and outputs these measures into a list of variables? Here is how to do it:\n",
    "\n",
    "Start by thinking of a name for your function. Here, we’ll call it **userStats**. Next, tell R userStats is a function which takes a single argument in the form of a numeric vector with function(numVec). We are ready to define the body of the function which consists of 2 actions: \n",
    "\n",
    "1) create a vector called **statsList** which is a list of the concatenated measures of the mean, median, and sd of your **numVec** input, and \n",
    "\n",
    "2) tell R you want it to output **statsList** when it is done running the function.\n"
   ]
  },
  {
   "cell_type": "code",
   "execution_count": 4,
   "metadata": {},
   "outputs": [],
   "source": [
    "userStats <- function(numVec){\n",
    "  statsList <- c(mean(numVec),\n",
    "                 median(numVec),\n",
    "                 sd(numVec))\n",
    "  return(statsList)\n",
    "}"
   ]
  },
  {
   "cell_type": "markdown",
   "metadata": {},
   "source": [
    "We are ready to test the function on our small vector:"
   ]
  },
  {
   "cell_type": "code",
   "execution_count": 5,
   "metadata": {},
   "outputs": [
    {
     "data": {
      "text/html": [
       "<style>\n",
       ".list-inline {list-style: none; margin:0; padding: 0}\n",
       ".list-inline>li {display: inline-block}\n",
       ".list-inline>li:not(:last-child)::after {content: \"\\00b7\"; padding: 0 .5ex}\n",
       "</style>\n",
       "<ol class=list-inline><li>22.2</li><li>12</li><li>19.1494125236259</li></ol>\n"
      ],
      "text/latex": [
       "\\begin{enumerate*}\n",
       "\\item 22.2\n",
       "\\item 12\n",
       "\\item 19.1494125236259\n",
       "\\end{enumerate*}\n"
      ],
      "text/markdown": [
       "1. 22.2\n",
       "2. 12\n",
       "3. 19.1494125236259\n",
       "\n",
       "\n"
      ],
      "text/plain": [
       "[1] 22.20000 12.00000 19.14941"
      ]
     },
     "metadata": {},
     "output_type": "display_data"
    }
   ],
   "source": [
    "userStats(familyAges)"
   ]
  },
  {
   "cell_type": "markdown",
   "metadata": {},
   "source": [
    "We can use our function on any numerical data we want. For instance, we can try it out with the numbers from 1 to 10 using the : sign to denote a range of numbers:"
   ]
  },
  {
   "cell_type": "code",
   "execution_count": 6,
   "metadata": {},
   "outputs": [
    {
     "data": {
      "text/html": [
       "<style>\n",
       ".list-inline {list-style: none; margin:0; padding: 0}\n",
       ".list-inline>li {display: inline-block}\n",
       ".list-inline>li:not(:last-child)::after {content: \"\\00b7\"; padding: 0 .5ex}\n",
       "</style>\n",
       "<ol class=list-inline><li>5.5</li><li>5.5</li><li>3.02765035409749</li></ol>\n"
      ],
      "text/latex": [
       "\\begin{enumerate*}\n",
       "\\item 5.5\n",
       "\\item 5.5\n",
       "\\item 3.02765035409749\n",
       "\\end{enumerate*}\n"
      ],
      "text/markdown": [
       "1. 5.5\n",
       "2. 5.5\n",
       "3. 3.02765035409749\n",
       "\n",
       "\n"
      ],
      "text/plain": [
       "[1] 5.50000 5.50000 3.02765"
      ]
     },
     "metadata": {},
     "output_type": "display_data"
    }
   ],
   "source": [
    "userStats(1:10)"
   ]
  },
  {
   "cell_type": "markdown",
   "metadata": {},
   "source": [
    "### 2. Displaying the shape of your data’s distribution graphically using a histogram \n",
    "\n",
    "**Histogram** – graphical representation of data using bars to signify different ranges of data. The higher a bar, the more observations fall into that range. \n",
    "\n",
    "Let’s plot the distribution of our familyAges vector using a histogram:"
   ]
  },
  {
   "cell_type": "code",
   "execution_count": 7,
   "metadata": {},
   "outputs": [
    {
     "data": {
      "image/png": "[encoded data removed]",
      "text/plain": [
       "Plot with title “Histogram of familyAges”"
      ]
     },
     "metadata": {
      "image/png": {
       "height": 420,
       "width": 420
      }
     },
     "output_type": "display_data"
    }
   ],
   "source": [
    "hist(familyAges)"
   ]
  },
  {
   "cell_type": "markdown",
   "metadata": {},
   "source": [
    "We have a total of 5 family members. The y-axis shows how many of them fall into each range, where 1 range spans 10 years and we have 5 ranges: 0-10, 10-20, 20-30, 30-40, and 40-50 years.\n",
    "\n",
    "I can see that for the first range, 0-10, the y-axis indicates 2.0, i.e. there are 2 family members in that age range (think back to the data – there is a 5-year old family member and an 8-year old one.) There are also 2 family members in the 40-50 range (43, 43), and 1 in the 10-20 range (8 years old). There are no family members between the ages of 20-40 because the height of the bars for these 2 ranges is 0. \n",
    "\n",
    "Histograms are also good to **predict the probability** of drawing a member of this dataset at random. 100%/5 members = 20%, so there is a 20% chance to draw someone from the 10-20-year range; 40% of drawing someone from the 0-10 or 40-50 year ranges, and 0% from 20-30 and 30-40 years.\n"
   ]
  },
  {
   "cell_type": "markdown",
   "metadata": {},
   "source": [
    "We can try out the hist() function on bigger data, too. For this example, we'll use the built-in **mtcars** dataset:"
   ]
  },
  {
   "cell_type": "code",
   "execution_count": 24,
   "metadata": {},
   "outputs": [
    {
     "data": {
      "text/html": [
       "<style>\n",
       ".list-inline {list-style: none; margin:0; padding: 0}\n",
       ".list-inline>li {display: inline-block}\n",
       ".list-inline>li:not(:last-child)::after {content: \"\\00b7\"; padding: 0 .5ex}\n",
       "</style>\n",
       "<ol class=list-inline><li>32</li><li>11</li></ol>\n"
      ],
      "text/latex": [
       "\\begin{enumerate*}\n",
       "\\item 32\n",
       "\\item 11\n",
       "\\end{enumerate*}\n"
      ],
      "text/markdown": [
       "1. 32\n",
       "2. 11\n",
       "\n",
       "\n"
      ],
      "text/plain": [
       "[1] 32 11"
      ]
     },
     "metadata": {},
     "output_type": "display_data"
    },
    {
     "data": {
      "text/html": [
       "<style>\n",
       ".list-inline {list-style: none; margin:0; padding: 0}\n",
       ".list-inline>li {display: inline-block}\n",
       ".list-inline>li:not(:last-child)::after {content: \"\\00b7\"; padding: 0 .5ex}\n",
       "</style>\n",
       "<ol class=list-inline><li>20.090625</li><li>19.2</li><li>6.0269480520891</li></ol>\n"
      ],
      "text/latex": [
       "\\begin{enumerate*}\n",
       "\\item 20.090625\n",
       "\\item 19.2\n",
       "\\item 6.0269480520891\n",
       "\\end{enumerate*}\n"
      ],
      "text/markdown": [
       "1. 20.090625\n",
       "2. 19.2\n",
       "3. 6.0269480520891\n",
       "\n",
       "\n"
      ],
      "text/plain": [
       "[1] 20.090625 19.200000  6.026948"
      ]
     },
     "metadata": {},
     "output_type": "display_data"
    },
    {
     "data": {
      "image/png": "[encoded data removed]",
      "text/plain": [
       "Plot with title “Histogram of myCars$mpg”"
      ]
     },
     "metadata": {
      "image/png": {
       "height": 420,
       "width": 420
      }
     },
     "output_type": "display_data"
    }
   ],
   "source": [
    "myCars <- mtcars\n",
    "dim(myCars)\n",
    "userStats(myCars$mpg)\n",
    "hist(myCars$mpg)"
   ]
  },
  {
   "cell_type": "markdown",
   "metadata": {},
   "source": [
    "Sometimes, we want to see how the actual distribution of our data compares to a **“normal distribution”** with the same properties, i.e. **same number of observations**, **same mean**, and **same standard deviation**. \n",
    "\n",
    "For **myCars** this synthetic normal distribution looks like this:"
   ]
  },
  {
   "cell_type": "code",
   "execution_count": 58,
   "metadata": {},
   "outputs": [
    {
     "data": {
      "image/png": "[encoded data removed]",
      "text/plain": [
       "Plot with title “Histogram of normalCars”"
      ]
     },
     "metadata": {
      "image/png": {
       "height": 420,
       "width": 420
      }
     },
     "output_type": "display_data"
    }
   ],
   "source": [
    "normalCars <- rnorm(32, 20.9, 6.03)\n",
    "hist(normalCars)"
   ]
  },
  {
   "cell_type": "markdown",
   "metadata": {},
   "source": [
    "### 3. Sampling\n",
    "\n",
    "As we said in class, a lot of statistics is about drawing conclusions about a population based on just a subset of available data (a **sample**). If you think about it, our car data is just that – a small sample, a snapshot, of a much larger universe of data which includes all cars in the world. \n",
    "\n",
    "However, for the sake of this exercise, let’s pretend that our car vector is the whole population we are interested in. And that for some reason, we don’t have access to all its records. Only to a small sample. A sample of 4 observations. How can we ask R to provide us with such a sample?\n",
    "\n",
    "This tells R we want 4 observations from our myCars vector:\n"
   ]
  },
  {
   "cell_type": "code",
   "execution_count": 114,
   "metadata": {},
   "outputs": [
    {
     "data": {
      "text/html": [
       "<style>\n",
       ".list-inline {list-style: none; margin:0; padding: 0}\n",
       ".list-inline>li {display: inline-block}\n",
       ".list-inline>li:not(:last-child)::after {content: \"\\00b7\"; padding: 0 .5ex}\n",
       "</style>\n",
       "<ol class=list-inline><li>30.4</li><li>15</li><li>19.2</li><li>16.4</li></ol>\n"
      ],
      "text/latex": [
       "\\begin{enumerate*}\n",
       "\\item 30.4\n",
       "\\item 15\n",
       "\\item 19.2\n",
       "\\item 16.4\n",
       "\\end{enumerate*}\n"
      ],
      "text/markdown": [
       "1. 30.4\n",
       "2. 15\n",
       "3. 19.2\n",
       "4. 16.4\n",
       "\n",
       "\n"
      ],
      "text/plain": [
       "[1] 30.4 15.0 19.2 16.4"
      ]
     },
     "metadata": {},
     "output_type": "display_data"
    }
   ],
   "source": [
    "sample(myCars$mpg, size=4)"
   ]
  },
  {
   "cell_type": "markdown",
   "metadata": {},
   "source": [
    "We can even call our **userStats()** function on a sample like this:"
   ]
  },
  {
   "cell_type": "code",
   "execution_count": 115,
   "metadata": {},
   "outputs": [
    {
     "data": {
      "text/html": [
       "<style>\n",
       ".list-inline {list-style: none; margin:0; padding: 0}\n",
       ".list-inline>li {display: inline-block}\n",
       ".list-inline>li:not(:last-child)::after {content: \"\\00b7\"; padding: 0 .5ex}\n",
       "</style>\n",
       "<ol class=list-inline><li>18.525</li><li>18.2</li><li>7.38709460252586</li></ol>\n"
      ],
      "text/latex": [
       "\\begin{enumerate*}\n",
       "\\item 18.525\n",
       "\\item 18.2\n",
       "\\item 7.38709460252586\n",
       "\\end{enumerate*}\n"
      ],
      "text/markdown": [
       "1. 18.525\n",
       "2. 18.2\n",
       "3. 7.38709460252586\n",
       "\n",
       "\n"
      ],
      "text/plain": [
       "[1] 18.525000 18.200000  7.387095"
      ]
     },
     "metadata": {},
     "output_type": "display_data"
    }
   ],
   "source": [
    "userStats(sample(myCars$mpg, size=4))"
   ]
  },
  {
   "cell_type": "markdown",
   "metadata": {},
   "source": [
    "We can obtain 5 different samples of size 4 and read their mean, median, and sd stats all at once with the **replicate()** function:"
   ]
  },
  {
   "cell_type": "code",
   "execution_count": 116,
   "metadata": {},
   "outputs": [
    {
     "data": {
      "text/html": [
       "<table>\n",
       "<caption>A matrix: 3 × 5 of type dbl</caption>\n",
       "<tbody>\n",
       "\t<tr><td>21.75000</td><td>18.875000</td><td>19.77500</td><td>21.725000</td><td>23.550000</td></tr>\n",
       "\t<tr><td>23.10000</td><td>17.350000</td><td>18.30000</td><td>20.900000</td><td>23.500000</td></tr>\n",
       "\t<tr><td>10.22855</td><td> 8.488178</td><td> 5.80596</td><td> 7.702543</td><td> 8.654286</td></tr>\n",
       "</tbody>\n",
       "</table>\n"
      ],
      "text/latex": [
       "A matrix: 3 × 5 of type dbl\n",
       "\\begin{tabular}{lllll}\n",
       "\t 21.75000 & 18.875000 & 19.77500 & 21.725000 & 23.550000\\\\\n",
       "\t 23.10000 & 17.350000 & 18.30000 & 20.900000 & 23.500000\\\\\n",
       "\t 10.22855 &  8.488178 &  5.80596 &  7.702543 &  8.654286\\\\\n",
       "\\end{tabular}\n"
      ],
      "text/markdown": [
       "\n",
       "A matrix: 3 × 5 of type dbl\n",
       "\n",
       "| 21.75000 | 18.875000 | 19.77500 | 21.725000 | 23.550000 |\n",
       "| 23.10000 | 17.350000 | 18.30000 | 20.900000 | 23.500000 |\n",
       "| 10.22855 |  8.488178 |  5.80596 |  7.702543 |  8.654286 |\n",
       "\n"
      ],
      "text/plain": [
       "     [,1]     [,2]      [,3]     [,4]      [,5]     \n",
       "[1,] 21.75000 18.875000 19.77500 21.725000 23.550000\n",
       "[2,] 23.10000 17.350000 18.30000 20.900000 23.500000\n",
       "[3,] 10.22855  8.488178  5.80596  7.702543  8.654286"
      ]
     },
     "metadata": {},
     "output_type": "display_data"
    }
   ],
   "source": [
    "replicate(5, userStats(sample(myCars$mpg, size=4)))"
   ]
  },
  {
   "cell_type": "markdown",
   "metadata": {},
   "source": [
    "Let’s store these stats in a table called **values** and take a look at it. Each column contains the mean, median, and sd values of a particular sample. We have 10 columns because we asked R for 10 samples:"
   ]
  },
  {
   "cell_type": "code",
   "execution_count": 152,
   "metadata": {},
   "outputs": [],
   "source": [
    "values <- replicate(5, userStats(sample(myCars$mpg, size=4)))"
   ]
  },
  {
   "cell_type": "markdown",
   "metadata": {},
   "source": [
    "**Question:** How can we plot a histogram of only the means of our 10 samples?\n",
    "\n",
    "**Answer:** Recall that the means are stored in the first row of the table named values – they appear first in our statsList for each sample. So we can use subsetting to get to them.\n",
    "\n",
    "This tells R we want all the columns of the **values** table (i.e. all 10 samples) but only the first row of each (i.e. the mean – we don’t care about the median and sd):"
   ]
  },
  {
   "cell_type": "code",
   "execution_count": 139,
   "metadata": {},
   "outputs": [
    {
     "data": {
      "text/html": [
       "<style>\n",
       ".list-inline {list-style: none; margin:0; padding: 0}\n",
       ".list-inline>li {display: inline-block}\n",
       ".list-inline>li:not(:last-child)::after {content: \"\\00b7\"; padding: 0 .5ex}\n",
       "</style>\n",
       "<ol class=list-inline><li>20.375</li><li>22.55</li><li>22.875</li><li>14.8</li><li>20.175</li></ol>\n"
      ],
      "text/latex": [
       "\\begin{enumerate*}\n",
       "\\item 20.375\n",
       "\\item 22.55\n",
       "\\item 22.875\n",
       "\\item 14.8\n",
       "\\item 20.175\n",
       "\\end{enumerate*}\n"
      ],
      "text/markdown": [
       "1. 20.375\n",
       "2. 22.55\n",
       "3. 22.875\n",
       "4. 14.8\n",
       "5. 20.175\n",
       "\n",
       "\n"
      ],
      "text/plain": [
       "[1] 20.375 22.550 22.875 14.800 20.175"
      ]
     },
     "metadata": {},
     "output_type": "display_data"
    }
   ],
   "source": [
    "values[1,]"
   ]
  },
  {
   "cell_type": "markdown",
   "metadata": {},
   "source": [
    "Plot the means of our 10 samples:"
   ]
  },
  {
   "cell_type": "code",
   "execution_count": 153,
   "metadata": {},
   "outputs": [
    {
     "data": {
      "text/html": [
       "18.66"
      ],
      "text/latex": [
       "18.66"
      ],
      "text/markdown": [
       "18.66"
      ],
      "text/plain": [
       "[1] 18.66"
      ]
     },
     "metadata": {},
     "output_type": "display_data"
    },
    {
     "data": {
      "image/png": "[encoded data removed]",
      "text/plain": [
       "Plot with title “Histogram of values[1, ]”"
      ]
     },
     "metadata": {
      "image/png": {
       "height": 420,
       "width": 420
      }
     },
     "output_type": "display_data"
    }
   ],
   "source": [
    "hist(values[1,])\n",
    "mean(values[1,])"
   ]
  },
  {
   "cell_type": "markdown",
   "metadata": {},
   "source": [
    "What if we increase the number of replications so that instead of just 5 samples, we ask R for 100 samples?"
   ]
  },
  {
   "cell_type": "code",
   "execution_count": 181,
   "metadata": {},
   "outputs": [],
   "source": [
    "values <- replicate(100, userStats(sample(myCars$mpg, size=25)))"
   ]
  },
  {
   "cell_type": "markdown",
   "metadata": {},
   "source": [
    "Plot your new means and you will discover an important law in statistics – **the Law of Large Numbers**: as number of samples increases, the mean of our sample means gets closer and closer to the actual mean of the population which we know to be 20.09. In fact, they form a normal distribution centered on or very close to the population mean."
   ]
  },
  {
   "cell_type": "code",
   "execution_count": 182,
   "metadata": {},
   "outputs": [
    {
     "data": {
      "text/html": [
       "20.13708"
      ],
      "text/latex": [
       "20.13708"
      ],
      "text/markdown": [
       "20.13708"
      ],
      "text/plain": [
       "[1] 20.13708"
      ]
     },
     "metadata": {},
     "output_type": "display_data"
    },
    {
     "data": {
      "image/png": "[encoded data removed]",
      "text/plain": [
       "Plot with title “Histogram of values[1, ]”"
      ]
     },
     "metadata": {
      "image/png": {
       "height": 420,
       "width": 420
      }
     },
     "output_type": "display_data"
    }
   ],
   "source": [
    "hist(values[1,])\n",
    "mean(values[1,])"
   ]
  }
 ],
 "metadata": {
  "kernelspec": {
   "display_name": "R",
   "language": "R",
   "name": "ir"
  },
  "language_info": {
   "codemirror_mode": "r",
   "file_extension": ".r",
   "mimetype": "text/x-r-source",
   "name": "R",
   "pygments_lexer": "r",
   "version": "4.0.3"
  }
 },
 "nbformat": 4,
 "nbformat_minor": 4
}
