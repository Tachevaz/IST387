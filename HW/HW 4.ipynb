{
 "cells": [
  {
   "cell_type": "markdown",
   "metadata": {},
   "source": [
    "# IST 387 HW 4\n",
    "##### Copyright 2021, Jeffrey Stanton, Jeffrey Saltz, and Jasmina Tacheva"
   ]
  },
  {
   "cell_type": "code",
   "execution_count": 1,
   "metadata": {},
   "outputs": [],
   "source": [
    "# Enter your name here: "
   ]
  },
  {
   "cell_type": "markdown",
   "metadata": {},
   "source": [
    "### Attribution statement: (choose only one and delete the rest)"
   ]
  },
  {
   "cell_type": "code",
   "execution_count": 2,
   "metadata": {},
   "outputs": [],
   "source": [
    "# 1. I did this homework by myself, with help from the book and the professor.\n",
    "# 2. I did this homework with help from the book and the professor and these Internet sources:\n",
    "# 3. I did this homework with help from <Name of another student> but did not cut and paste any code."
   ]
  },
  {
   "cell_type": "markdown",
   "metadata": {},
   "source": [
    "**(Chapters 8, 9, and 10 of Introduction to Data Science)** <br>\n",
    "\n",
    "Reminders of things to practice from previous weeks: <br>\n",
    "Descriptive statistics: \tmean( )  max( ) min( )<br>\n",
    "Sequence operator:\t\t: (For example, 1:4 is shorthand for 1, 2, 3, 4)<br>\n",
    "Create a function:\t\tmyFunc <- function(myArg) { }<br>\n",
    "?command:\t\t\tAsk R for help with a command<br>\n",
    "\n",
    "**This module:** **Sampling** is a process of **drawing elements from a larger set**. In data science, when analysts work with data, they often work with a sample of the data, rather than all of the data (which we call the **population**), because of the expense of obtaining all of the data. <br>\n",
    "\n",
    "One must be careful, however, because **statistics from a sample rarely match the characteristics of the population**. The **goal of this homework** is to **sample from a data set several times and explore the meaning of the results**. Before you get started make sure to read Chapters 8-10 of An Introduction to Data Science. Don’t forget your comments!\n"
   ]
  },
  {
   "cell_type": "markdown",
   "metadata": {},
   "source": [
    "## Part 1: Write a function to compute statistics for a vector of numeric values"
   ]
  },
  {
   "cell_type": "markdown",
   "metadata": {},
   "source": [
    "A.\tCreate a new function which takes a numeric vector as its input argument and returns a list of statistics about that vector as the output. As a start, it should return the min, mean, and max of the vector. The function should be called **vectorStats**:"
   ]
  },
  {
   "cell_type": "code",
   "execution_count": null,
   "metadata": {},
   "outputs": [],
   "source": []
  },
  {
   "cell_type": "markdown",
   "metadata": {},
   "source": [
    "B.\tTest your function by calling it with the numbers **one through ten**:"
   ]
  },
  {
   "cell_type": "code",
   "execution_count": 3,
   "metadata": {},
   "outputs": [
    {
     "ename": "ERROR",
     "evalue": "Error in vectorStats(1:10): could not find function \"vectorStats\"\n",
     "output_type": "error",
     "traceback": [
      "Error in vectorStats(1:10): could not find function \"vectorStats\"\nTraceback:\n"
     ]
    }
   ],
   "source": [
    "vectorStats(1:10)"
   ]
  },
  {
   "cell_type": "markdown",
   "metadata": {},
   "source": [
    "C.\tEnhance the vectorStats() function to add the **median** and **standard deviation** to the output."
   ]
  },
  {
   "cell_type": "code",
   "execution_count": null,
   "metadata": {},
   "outputs": [],
   "source": []
  },
  {
   "cell_type": "markdown",
   "metadata": {},
   "source": [
    "D.\tRetest your enhanced function by calling it with the numbers **one through ten**:"
   ]
  },
  {
   "cell_type": "code",
   "execution_count": 4,
   "metadata": {},
   "outputs": [
    {
     "ename": "ERROR",
     "evalue": "Error in vectorStats(1:10): could not find function \"vectorStats\"\n",
     "output_type": "error",
     "traceback": [
      "Error in vectorStats(1:10): could not find function \"vectorStats\"\nTraceback:\n"
     ]
    }
   ],
   "source": [
    "vectorStats(1:10)"
   ]
  },
  {
   "cell_type": "markdown",
   "metadata": {},
   "source": [
    "## Part 2: Sample repeatedly from the mtcars built-in dataframe"
   ]
  },
  {
   "cell_type": "markdown",
   "metadata": {},
   "source": [
    "E.\tCopy the mtcars dataframe:"
   ]
  },
  {
   "cell_type": "code",
   "execution_count": 5,
   "metadata": {},
   "outputs": [],
   "source": [
    "myCars <- mtcars"
   ]
  },
  {
   "cell_type": "markdown",
   "metadata": {},
   "source": [
    "Use **head(myCars)** and **tail(myCars)** to show the data. Add a comment that describes what each variable in the data set contains. <br>\n",
    "**Hint:** Use the ?  or help( ) command with mtcars to get help on this dataset."
   ]
  },
  {
   "cell_type": "code",
   "execution_count": null,
   "metadata": {},
   "outputs": [],
   "source": []
  },
  {
   "cell_type": "markdown",
   "metadata": {},
   "source": [
    "F.\tSample three observations from **myCars$mpg**."
   ]
  },
  {
   "cell_type": "code",
   "execution_count": null,
   "metadata": {},
   "outputs": [],
   "source": []
  },
  {
   "cell_type": "markdown",
   "metadata": {},
   "source": [
    "G.\tCall your vectorStats( ) function with a sample of three observations from **myCars$mpg**."
   ]
  },
  {
   "cell_type": "code",
   "execution_count": null,
   "metadata": {},
   "outputs": [],
   "source": []
  },
  {
   "cell_type": "markdown",
   "metadata": {},
   "source": [
    "H.\tUse the replicate( ) function to repeat your sampling ten times. The first argument to replicate( ) is the number of repeats you want. The second argument is the little chunk of code you want repeated."
   ]
  },
  {
   "cell_type": "code",
   "execution_count": null,
   "metadata": {},
   "outputs": [],
   "source": []
  },
  {
   "cell_type": "markdown",
   "metadata": {},
   "source": [
    "I.\tWrite a comment describing why every replication produces a different result."
   ]
  },
  {
   "cell_type": "code",
   "execution_count": null,
   "metadata": {},
   "outputs": [],
   "source": []
  },
  {
   "cell_type": "markdown",
   "metadata": {},
   "source": [
    "J.\tRerun your replication, this time doing 1000 replications and storing the output of replicate() in a variable called **values**."
   ]
  },
  {
   "cell_type": "code",
   "execution_count": null,
   "metadata": {},
   "outputs": [],
   "source": []
  },
  {
   "cell_type": "markdown",
   "metadata": {},
   "source": [
    "K.\t Generate a **histogram** of the means stored in values. You need to **index into values** for that."
   ]
  },
  {
   "cell_type": "code",
   "execution_count": null,
   "metadata": {},
   "outputs": [],
   "source": []
  },
  {
   "cell_type": "markdown",
   "metadata": {},
   "source": [
    "L.\tRepeat the replicated sampling, but this time, raise your sample size from **3 to 22**. How does that affect your histogram? Explain in a comment."
   ]
  },
  {
   "cell_type": "code",
   "execution_count": null,
   "metadata": {},
   "outputs": [],
   "source": []
  }
 ],
 "metadata": {
  "kernelspec": {
   "display_name": "R",
   "language": "R",
   "name": "ir"
  },
  "language_info": {
   "codemirror_mode": "r",
   "file_extension": ".r",
   "mimetype": "text/x-r-source",
   "name": "R",
   "pygments_lexer": "r",
   "version": "4.0.3"
  }
 },
 "nbformat": 4,
 "nbformat_minor": 4
}
