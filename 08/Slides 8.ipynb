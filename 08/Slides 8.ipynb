{
 "cells": [
  {
   "cell_type": "markdown",
   "metadata": {
    "slideshow": {
     "slide_type": "slide"
    }
   },
   "source": [
    "# IST 387: Week 8\n",
    "\n",
    "### Introduction to spatial visualization in R (Ch. 13)"
   ]
  },
  {
   "cell_type": "markdown",
   "metadata": {},
   "source": [
    "<img src=\"https://ist387.s3.us-east-2.amazonaws.com/frame+(3).png\">"
   ]
  },
  {
   "cell_type": "markdown",
   "metadata": {
    "slideshow": {
     "slide_type": "slide"
    }
   },
   "source": [
    "## The 1569 Mercator Map:\n",
    "\n",
    "“To spread on a plane the surface of the sphere in such a way that the positions of places shall correspond on all sides with each other, both in so far as true direction and distance are concerned and as correct longitudes and latitudes”\n",
    "\n",
    "<img src=\"https://ist387.s3.us-east-2.amazonaws.com/Picture1.png\">"
   ]
  },
  {
   "cell_type": "markdown",
   "metadata": {
    "slideshow": {
     "slide_type": "slide"
    }
   },
   "source": [
    "## Spatial Visualization\n",
    "\n",
    "- Plotting data and models superimposed with their **geographic context**\n",
    "- **Quantitative spatial analytics**: vital insights into the world’s most important domains including public health, the environment, the global economy, and warfare\n",
    "Ex: http://covidedutrends.com/\n",
    "- **Geographic information systems (GIS)**: store, analyze and visualize data with its geographic position on Earth’s surface\n"
   ]
  },
  {
   "cell_type": "markdown",
   "metadata": {
    "slideshow": {
     "slide_type": "slide"
    }
   },
   "source": [
    "## Spatial Visualization Elements\n",
    "\n",
    "<img src=\"https://ist387.s3.us-east-2.amazonaws.com/Picture2.png\">"
   ]
  },
  {
   "cell_type": "markdown",
   "metadata": {
    "slideshow": {
     "slide_type": "slide"
    }
   },
   "source": [
    "## Plotting data on maps\n",
    "\n",
    "- **Geographic coordinates**: \n",
    "  - latitude (Y-coordinate) \n",
    "  - longitude (X-coordinate)\n",
    "- **Geocoding**: converting names/addresses into geographic coordinates\n"
   ]
  },
  {
   "cell_type": "markdown",
   "metadata": {
    "slideshow": {
     "slide_type": "slide"
    }
   },
   "source": [
    "## Let’s geocode a few cities…\n",
    "\n",
    "<img src=\"https://ist387.s3.us-east-2.amazonaws.com/Picture3.png\">"
   ]
  },
  {
   "cell_type": "markdown",
   "metadata": {
    "slideshow": {
     "slide_type": "slide"
    }
   },
   "source": [
    "## Plotting maps in R: ggmap\n",
    "\n",
    "- **ggmap** is essentially an **extension of ggplot**. \n",
    "- It enables you to plot a **map** as the background of a ggplot graph. \n",
    "- The **ggmap()** function plots a map on a ggplot plot. \n",
    "  - **Point** = single location\n",
    "  - **Polygon** = closed shape (e.g. outline of a county/state/country)"
   ]
  }
 ],
 "metadata": {
  "celltoolbar": "Slideshow",
  "kernelspec": {
   "display_name": "R",
   "language": "R",
   "name": "ir"
  },
  "language_info": {
   "codemirror_mode": "r",
   "file_extension": ".r",
   "mimetype": "text/x-r-source",
   "name": "R",
   "pygments_lexer": "r",
   "version": "4.0.3"
  }
 },
 "nbformat": 4,
 "nbformat_minor": 4
}
