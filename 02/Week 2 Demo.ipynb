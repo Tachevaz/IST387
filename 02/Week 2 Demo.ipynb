{
 "cells": [
  {
   "cell_type": "markdown",
   "metadata": {},
   "source": [
    "# Let's recap: <br>\n",
    "\n",
    "R let's us assign single values to variables:"
   ]
  },
  {
   "cell_type": "code",
   "execution_count": 2,
   "metadata": {},
   "outputs": [],
   "source": [
    "a <- 445\n",
    "b <- 67\n",
    "c <- 2"
   ]
  },
  {
   "cell_type": "markdown",
   "metadata": {},
   "source": [
    "It also let's us perform operations with variables or explicit values:"
   ]
  },
  {
   "cell_type": "code",
   "execution_count": 3,
   "metadata": {},
   "outputs": [
    {
     "data": {
      "text/html": [
       "94"
      ],
      "text/latex": [
       "94"
      ],
      "text/markdown": [
       "94"
      ],
      "text/plain": [
       "[1] 94"
      ]
     },
     "metadata": {},
     "output_type": "display_data"
    },
    {
     "data": {
      "text/html": [
       "512"
      ],
      "text/latex": [
       "512"
      ],
      "text/markdown": [
       "512"
      ],
      "text/plain": [
       "[1] 512"
      ]
     },
     "metadata": {},
     "output_type": "display_data"
    },
    {
     "data": {
      "text/html": [
       "512"
      ],
      "text/latex": [
       "512"
      ],
      "text/markdown": [
       "512"
      ],
      "text/plain": [
       "[1] 512"
      ]
     },
     "metadata": {},
     "output_type": "display_data"
    },
    {
     "data": {
      "text/html": [
       "447"
      ],
      "text/latex": [
       "447"
      ],
      "text/markdown": [
       "447"
      ],
      "text/plain": [
       "[1] 447"
      ]
     },
     "metadata": {},
     "output_type": "display_data"
    },
    {
     "data": {
      "text/html": [
       "514"
      ],
      "text/latex": [
       "514"
      ],
      "text/markdown": [
       "514"
      ],
      "text/plain": [
       "[1] 514"
      ]
     },
     "metadata": {},
     "output_type": "display_data"
    },
    {
     "data": {
      "text/html": [
       "33.5"
      ],
      "text/latex": [
       "33.5"
      ],
      "text/markdown": [
       "33.5"
      ],
      "text/plain": [
       "[1] 33.5"
      ]
     },
     "metadata": {},
     "output_type": "display_data"
    },
    {
     "data": {
      "text/html": [
       "890"
      ],
      "text/latex": [
       "890"
      ],
      "text/markdown": [
       "890"
      ],
      "text/plain": [
       "[1] 890"
      ]
     },
     "metadata": {},
     "output_type": "display_data"
    }
   ],
   "source": [
    "5 + 89\n",
    "445 + 67\n",
    "a + b\n",
    "a + c\n",
    "a + b + c\n",
    "b/c\n",
    "a*c"
   ]
  },
  {
   "cell_type": "markdown",
   "metadata": {},
   "source": [
    "It also let's us to combine multiple values into a single object which we call a **vector** with the **c()** function:"
   ]
  },
  {
   "cell_type": "code",
   "execution_count": 4,
   "metadata": {},
   "outputs": [],
   "source": [
    "vec <- c(5, 89, a, b, c)"
   ]
  },
  {
   "cell_type": "markdown",
   "metadata": {},
   "source": [
    "Why did R let us combine raw values and variables? Because all 5 are numeric. Try executing this and think about how **vec0** is different from **vec**:"
   ]
  },
  {
   "cell_type": "code",
   "execution_count": 5,
   "metadata": {},
   "outputs": [],
   "source": [
    "vec0 <- c(5, 89, \"a\", \"b\", \"c\")"
   ]
  },
  {
   "cell_type": "code",
   "execution_count": 6,
   "metadata": {},
   "outputs": [
    {
     "data": {
      "text/html": [
       "<style>\n",
       ".list-inline {list-style: none; margin:0; padding: 0}\n",
       ".list-inline>li {display: inline-block}\n",
       ".list-inline>li:not(:last-child)::after {content: \"\\00b7\"; padding: 0 .5ex}\n",
       "</style>\n",
       "<ol class=list-inline><li>'5'</li><li>'89'</li><li>'a'</li><li>'b'</li><li>'c'</li></ol>\n"
      ],
      "text/latex": [
       "\\begin{enumerate*}\n",
       "\\item '5'\n",
       "\\item '89'\n",
       "\\item 'a'\n",
       "\\item 'b'\n",
       "\\item 'c'\n",
       "\\end{enumerate*}\n"
      ],
      "text/markdown": [
       "1. '5'\n",
       "2. '89'\n",
       "3. 'a'\n",
       "4. 'b'\n",
       "5. 'c'\n",
       "\n",
       "\n"
      ],
      "text/plain": [
       "[1] \"5\"  \"89\" \"a\"  \"b\"  \"c\" "
      ]
     },
     "metadata": {},
     "output_type": "display_data"
    }
   ],
   "source": [
    "vec0"
   ]
  },
  {
   "cell_type": "markdown",
   "metadata": {},
   "source": [
    "That's right - the quotes ('') tell us that **vec0** values are treated as **strings**, or chr, whereas the elements in **vec** are **numbers**."
   ]
  },
  {
   "cell_type": "markdown",
   "metadata": {},
   "source": [
    "This is not all R is capable of. Sometimes we want to bundle together not just single values into a vector but several vectors into a... <br>\n",
    "\n",
    "# Dataframe\n"
   ]
  },
  {
   "cell_type": "markdown",
   "metadata": {},
   "source": [
    "Dataframes (df) are R's core data structure. Pretty much all datasets we work with from now on will be saved into R as dataframes. You can think of a dataframe **loosely** as an Excel spreadsheet, with **rows** and **columns**. Rows in a df are called **observations** and columns - **variables**. For starters, let's try replicating this mini dataset in R:\n",
    "\n",
    "<img src=\"https://ist387.s3.us-east-2.amazonaws.com/images/2021-02-02+00_48_23-PercentAgreement-TestData+-+Excel.png\">\n",
    "\n",
    "As the screenshot shows, there are two columns - **\"name\"** and **\"age\"**, and **4 rows**. We can think of this dataset as a collection of **2 vectors** - one for each column or variable. Then, we can start by declaring each vector, we've done similar things before:"
   ]
  },
  {
   "cell_type": "code",
   "execution_count": 7,
   "metadata": {},
   "outputs": [],
   "source": [
    "name <- c(\"Beth\", \"Raj\", \"Ken\", \"Jordyn\")\n",
    "age <- c(46, 51, 13, 2)"
   ]
  },
  {
   "cell_type": "markdown",
   "metadata": {},
   "source": [
    "Let's check if both vectors look okay by **printing** them:"
   ]
  },
  {
   "cell_type": "code",
   "execution_count": 8,
   "metadata": {},
   "outputs": [
    {
     "data": {
      "text/html": [
       "<style>\n",
       ".list-inline {list-style: none; margin:0; padding: 0}\n",
       ".list-inline>li {display: inline-block}\n",
       ".list-inline>li:not(:last-child)::after {content: \"\\00b7\"; padding: 0 .5ex}\n",
       "</style>\n",
       "<ol class=list-inline><li>'Beth'</li><li>'Raj'</li><li>'Ken'</li><li>'Jordyn'</li></ol>\n"
      ],
      "text/latex": [
       "\\begin{enumerate*}\n",
       "\\item 'Beth'\n",
       "\\item 'Raj'\n",
       "\\item 'Ken'\n",
       "\\item 'Jordyn'\n",
       "\\end{enumerate*}\n"
      ],
      "text/markdown": [
       "1. 'Beth'\n",
       "2. 'Raj'\n",
       "3. 'Ken'\n",
       "4. 'Jordyn'\n",
       "\n",
       "\n"
      ],
      "text/plain": [
       "[1] \"Beth\"   \"Raj\"    \"Ken\"    \"Jordyn\""
      ]
     },
     "metadata": {},
     "output_type": "display_data"
    },
    {
     "data": {
      "text/html": [
       "<style>\n",
       ".list-inline {list-style: none; margin:0; padding: 0}\n",
       ".list-inline>li {display: inline-block}\n",
       ".list-inline>li:not(:last-child)::after {content: \"\\00b7\"; padding: 0 .5ex}\n",
       "</style>\n",
       "<ol class=list-inline><li>46</li><li>51</li><li>13</li><li>2</li></ol>\n"
      ],
      "text/latex": [
       "\\begin{enumerate*}\n",
       "\\item 46\n",
       "\\item 51\n",
       "\\item 13\n",
       "\\item 2\n",
       "\\end{enumerate*}\n"
      ],
      "text/markdown": [
       "1. 46\n",
       "2. 51\n",
       "3. 13\n",
       "4. 2\n",
       "\n",
       "\n"
      ],
      "text/plain": [
       "[1] 46 51 13  2"
      ]
     },
     "metadata": {},
     "output_type": "display_data"
    }
   ],
   "source": [
    "name\n",
    "age"
   ]
  },
  {
   "cell_type": "markdown",
   "metadata": {},
   "source": [
    "So far so good. The only thing we need to figure out is how to bundle them together. Luckily, R has a function for that - **data.frame()** - we just need to think of a name for this new df and tell R which vectors it consists of:"
   ]
  },
  {
   "cell_type": "code",
   "execution_count": 9,
   "metadata": {},
   "outputs": [],
   "source": [
    "data <- data.frame(name, age)"
   ]
  },
  {
   "cell_type": "markdown",
   "metadata": {},
   "source": [
    "We named the df **data** and assigned to it the 2 vectors, **name** and **age**. Let's check our work:"
   ]
  },
  {
   "cell_type": "code",
   "execution_count": 12,
   "metadata": {},
   "outputs": [
    {
     "data": {
      "text/html": [
       "<table>\n",
       "<caption>A data.frame: 4 × 2</caption>\n",
       "<thead>\n",
       "\t<tr><th scope=col>name</th><th scope=col>age</th></tr>\n",
       "\t<tr><th scope=col>&lt;chr&gt;</th><th scope=col>&lt;dbl&gt;</th></tr>\n",
       "</thead>\n",
       "<tbody>\n",
       "\t<tr><td>Beth  </td><td>46</td></tr>\n",
       "\t<tr><td>Raj   </td><td>51</td></tr>\n",
       "\t<tr><td>Ken   </td><td>13</td></tr>\n",
       "\t<tr><td>Jordyn</td><td> 2</td></tr>\n",
       "</tbody>\n",
       "</table>\n"
      ],
      "text/latex": [
       "A data.frame: 4 × 2\n",
       "\\begin{tabular}{ll}\n",
       " name & age\\\\\n",
       " <chr> & <dbl>\\\\\n",
       "\\hline\n",
       "\t Beth   & 46\\\\\n",
       "\t Raj    & 51\\\\\n",
       "\t Ken    & 13\\\\\n",
       "\t Jordyn &  2\\\\\n",
       "\\end{tabular}\n"
      ],
      "text/markdown": [
       "\n",
       "A data.frame: 4 × 2\n",
       "\n",
       "| name &lt;chr&gt; | age &lt;dbl&gt; |\n",
       "|---|---|\n",
       "| Beth   | 46 |\n",
       "| Raj    | 51 |\n",
       "| Ken    | 13 |\n",
       "| Jordyn |  2 |\n",
       "\n"
      ],
      "text/plain": [
       "  name   age\n",
       "1 Beth   46 \n",
       "2 Raj    51 \n",
       "3 Ken    13 \n",
       "4 Jordyn  2 "
      ]
     },
     "metadata": {},
     "output_type": "display_data"
    }
   ],
   "source": [
    "data"
   ]
  },
  {
   "cell_type": "markdown",
   "metadata": {},
   "source": [
    "Looks good! We are now ready to start analyzing our data. For starters, let's find out what the average age is. To do this, we will use the **mean()** function we are already familiar with. But we can't feed it the entire df, that's not going to work:"
   ]
  },
  {
   "cell_type": "code",
   "execution_count": 13,
   "metadata": {},
   "outputs": [
    {
     "name": "stderr",
     "output_type": "stream",
     "text": [
      "Warning message in mean.default(data):\n",
      "“argument is not numeric or logical: returning NA”\n"
     ]
    },
    {
     "data": {
      "text/html": [
       "&lt;NA&gt;"
      ],
      "text/latex": [
       "<NA>"
      ],
      "text/markdown": [
       "&lt;NA&gt;"
      ],
      "text/plain": [
       "[1] NA"
      ]
     },
     "metadata": {},
     "output_type": "display_data"
    }
   ],
   "source": [
    "mean(data)"
   ]
  },
  {
   "cell_type": "markdown",
   "metadata": {},
   "source": [
    "It doesn't work because we are forcing R to calculate the average of a chr column - **name** which is coded as a bunch of text, and R doesn't quite know what to do with it. Instead, we need to zero in on the **age** column specifically. We do this in R by point the function to the specific column within the df we want to evaluate with the **$** sign:"
   ]
  },
  {
   "cell_type": "code",
   "execution_count": 14,
   "metadata": {},
   "outputs": [
    {
     "data": {
      "text/html": [
       "28"
      ],
      "text/latex": [
       "28"
      ],
      "text/markdown": [
       "28"
      ],
      "text/plain": [
       "[1] 28"
      ]
     },
     "metadata": {},
     "output_type": "display_data"
    }
   ],
   "source": [
    "mean(data$age)"
   ]
  },
  {
   "cell_type": "markdown",
   "metadata": {},
   "source": [
    "Now we're talking! Using the same logic, we can find the min, max, range, and length of this column, just like we did with individual vectors last week:"
   ]
  },
  {
   "cell_type": "code",
   "execution_count": 15,
   "metadata": {},
   "outputs": [
    {
     "data": {
      "text/html": [
       "2"
      ],
      "text/latex": [
       "2"
      ],
      "text/markdown": [
       "2"
      ],
      "text/plain": [
       "[1] 2"
      ]
     },
     "metadata": {},
     "output_type": "display_data"
    },
    {
     "data": {
      "text/html": [
       "51"
      ],
      "text/latex": [
       "51"
      ],
      "text/markdown": [
       "51"
      ],
      "text/plain": [
       "[1] 51"
      ]
     },
     "metadata": {},
     "output_type": "display_data"
    },
    {
     "data": {
      "text/html": [
       "<style>\n",
       ".list-inline {list-style: none; margin:0; padding: 0}\n",
       ".list-inline>li {display: inline-block}\n",
       ".list-inline>li:not(:last-child)::after {content: \"\\00b7\"; padding: 0 .5ex}\n",
       "</style>\n",
       "<ol class=list-inline><li>2</li><li>51</li></ol>\n"
      ],
      "text/latex": [
       "\\begin{enumerate*}\n",
       "\\item 2\n",
       "\\item 51\n",
       "\\end{enumerate*}\n"
      ],
      "text/markdown": [
       "1. 2\n",
       "2. 51\n",
       "\n",
       "\n"
      ],
      "text/plain": [
       "[1]  2 51"
      ]
     },
     "metadata": {},
     "output_type": "display_data"
    },
    {
     "data": {
      "text/html": [
       "4"
      ],
      "text/latex": [
       "4"
      ],
      "text/markdown": [
       "4"
      ],
      "text/plain": [
       "[1] 4"
      ]
     },
     "metadata": {},
     "output_type": "display_data"
    }
   ],
   "source": [
    "min(data$age)\n",
    "max(data$age)\n",
    "range(data$age)\n",
    "length(data$age)"
   ]
  },
  {
   "cell_type": "markdown",
   "metadata": {},
   "source": [
    "We can even save some of these values for later use by assigning them to variables:"
   ]
  },
  {
   "cell_type": "code",
   "execution_count": 16,
   "metadata": {},
   "outputs": [],
   "source": [
    "minAge <- min(data$age)\n",
    "maxAge <- max(data$age)"
   ]
  },
  {
   "cell_type": "markdown",
   "metadata": {},
   "source": [
    "Try out some mathematical operations with our new vars:"
   ]
  },
  {
   "cell_type": "code",
   "execution_count": 17,
   "metadata": {},
   "outputs": [
    {
     "data": {
      "text/html": [
       "53"
      ],
      "text/latex": [
       "53"
      ],
      "text/markdown": [
       "53"
      ],
      "text/plain": [
       "[1] 53"
      ]
     },
     "metadata": {},
     "output_type": "display_data"
    }
   ],
   "source": [
    "minAge + maxAge"
   ]
  },
  {
   "cell_type": "code",
   "execution_count": 18,
   "metadata": {},
   "outputs": [
    {
     "data": {
      "text/html": [
       "102"
      ],
      "text/latex": [
       "102"
      ],
      "text/markdown": [
       "102"
      ],
      "text/plain": [
       "[1] 102"
      ]
     },
     "metadata": {},
     "output_type": "display_data"
    }
   ],
   "source": [
    "minAge * maxAge"
   ]
  },
  {
   "cell_type": "markdown",
   "metadata": {},
   "source": [
    "Remember **subsetting**? We can try it on entire dfs as well, not just individual vectors. For example, the following code will only retain the records of people in our data younger than 20:"
   ]
  },
  {
   "cell_type": "code",
   "execution_count": 20,
   "metadata": {},
   "outputs": [
    {
     "data": {
      "text/html": [
       "<table>\n",
       "<caption>A data.frame: 2 × 2</caption>\n",
       "<thead>\n",
       "\t<tr><th></th><th scope=col>name</th><th scope=col>age</th></tr>\n",
       "\t<tr><th></th><th scope=col>&lt;chr&gt;</th><th scope=col>&lt;dbl&gt;</th></tr>\n",
       "</thead>\n",
       "<tbody>\n",
       "\t<tr><th scope=row>3</th><td>Ken   </td><td>13</td></tr>\n",
       "\t<tr><th scope=row>4</th><td>Jordyn</td><td> 2</td></tr>\n",
       "</tbody>\n",
       "</table>\n"
      ],
      "text/latex": [
       "A data.frame: 2 × 2\n",
       "\\begin{tabular}{r|ll}\n",
       "  & name & age\\\\\n",
       "  & <chr> & <dbl>\\\\\n",
       "\\hline\n",
       "\t3 & Ken    & 13\\\\\n",
       "\t4 & Jordyn &  2\\\\\n",
       "\\end{tabular}\n"
      ],
      "text/markdown": [
       "\n",
       "A data.frame: 2 × 2\n",
       "\n",
       "| <!--/--> | name &lt;chr&gt; | age &lt;dbl&gt; |\n",
       "|---|---|---|\n",
       "| 3 | Ken    | 13 |\n",
       "| 4 | Jordyn |  2 |\n",
       "\n"
      ],
      "text/plain": [
       "  name   age\n",
       "3 Ken    13 \n",
       "4 Jordyn  2 "
      ]
     },
     "metadata": {},
     "output_type": "display_data"
    }
   ],
   "source": [
    "youngDf <- data[data$age < 20,]\n",
    "\n",
    "youngDf"
   ]
  },
  {
   "cell_type": "markdown",
   "metadata": {},
   "source": [
    "Let's see how this works: we start out, as usual, by thinking of a name for our new object - **youngDf**. Then, we tell R we want to copy over the contents of the **data** df but only retain those records for which the value in the **age** column is less than 20. Even though it doesn't look like a big deal, the comma (**,**) after **20** is **really important**. It acts as a **separator** between the **rows** and **columns** of a df. To the **left** of the comma is the **row condition** and to the right - the **column one**. In this case then, we ask R to give us only the rows where age < 20, and **ALL** the columns. Remember - if you leave the **column** condition after the comma empty, you essentially tell R you want all columns, which is exactly what we did. "
   ]
  },
  {
   "cell_type": "code",
   "execution_count": null,
   "metadata": {},
   "outputs": [],
   "source": []
  }
 ],
 "metadata": {
  "kernelspec": {
   "display_name": "R",
   "language": "R",
   "name": "ir"
  },
  "language_info": {
   "codemirror_mode": "r",
   "file_extension": ".r",
   "mimetype": "text/x-r-source",
   "name": "R",
   "pygments_lexer": "r",
   "version": "4.0.3"
  }
 },
 "nbformat": 4,
 "nbformat_minor": 4
}
