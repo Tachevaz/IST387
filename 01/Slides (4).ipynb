{
 "cells": [
  {
   "cell_type": "markdown",
   "metadata": {
    "slideshow": {
     "slide_type": "slide"
    }
   },
   "source": [
    "# IST 387: Intro to Data Science\n",
    "- ### Large Lecture Instructor: **Jasmina Tacheva**\n",
    "- ### Lab Instructors: \n",
    "> - ### **Chris Dunham** \n",
    "> - ### **Mabi Harandi**\n",
    "- ### Faculty Assistants:\n",
    "> - ### **Sucheta Lahiri** \n",
    "> - ### **Rahul Wable**"
   ]
  },
  {
   "cell_type": "markdown",
   "metadata": {
    "slideshow": {
     "slide_type": "slide"
    }
   },
   "source": [
    "# Agenda\n",
    "\n",
    "- Course overview\n",
    "- What is data science?\n",
    "- What is data?\n",
    "- Getting started with R\n",
    "\n",
    "![][1]\n",
    "\n",
    "[1]: data:image/jpeg;base64,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 \"DS\""
   ]
  },
  {
   "cell_type": "markdown",
   "metadata": {
    "slideshow": {
     "slide_type": "slide"
    }
   },
   "source": [
    "# Before we get started...\n",
    "\n",
    "<img src=\"https://ist387.s3.us-east-2.amazonaws.com/images/frame+(1).png\">"
   ]
  },
  {
   "cell_type": "markdown",
   "metadata": {
    "slideshow": {
     "slide_type": "slide"
    }
   },
   "source": [
    "# Is there anything they have in common?\n",
    "\n",
    "![][2]\n",
    "\n",
    "[2]: https://designbuddy.com/wp-content/uploads/2012/01/top-100-brands-of-the-world-2011.gif \"Python Logo\""
   ]
  },
  {
   "cell_type": "markdown",
   "metadata": {
    "slideshow": {
     "slide_type": "slide"
    }
   },
   "source": [
    "# Data \n",
    "- ## Any fact, value, or observation\n",
    "\n",
    "## Data or not?\n",
    "\n",
    "- [ ] a numeric cell in an Excel spreadsheet\n",
    "- [ ] a text message\n",
    "- [ ] an Instagram post\n",
    "- [ ] a Youtube video\n",
    "- [ ] a store transaction record in a database table\n",
    "\n"
   ]
  },
  {
   "cell_type": "markdown",
   "metadata": {
    "slideshow": {
     "slide_type": "slide"
    }
   },
   "source": [
    "# Data \n",
    "- ## Any fact, value, or observation\n",
    "\n",
    "## Structured or not?\n",
    "\n",
    "- [ ] <font color='green'>a numeric cell in an Excel spreadsheet</font>\n",
    "- [ ] <font color='red'>a text message</font>\n",
    "- [ ] <font color='red'>an Instagram post</font>\n",
    "- [ ] <font color='red'>a Youtube video</font>\n",
    "- [ ] <font color='green'>a store transaction record in a database table</font>"
   ]
  },
  {
   "cell_type": "markdown",
   "metadata": {
    "slideshow": {
     "slide_type": "slide"
    }
   },
   "source": [
    "# Data\n",
    "\n",
    "<img src=\"https://ist387.s3.us-east-2.amazonaws.com/images/lec1_6.png\" width=\"600\"> <img src=\"https://ist387.s3.us-east-2.amazonaws.com/images/lec1_7.png\">"
   ]
  },
  {
   "cell_type": "markdown",
   "metadata": {
    "slideshow": {
     "slide_type": "slide"
    }
   },
   "source": [
    "![][2]\n",
    "\n",
    "[2]:https://ist387.s3.us-east-2.amazonaws.com/images/lec1_2.png\n",
    "https://pribot.org/polisis"
   ]
  },
  {
   "cell_type": "markdown",
   "metadata": {
    "slideshow": {
     "slide_type": "slide"
    }
   },
   "source": [
    "<img src=\"https://ist387.s3.us-east-2.amazonaws.com/images/1_YwWAyT-rduI2kssk0Pb9Lg.png\">"
   ]
  },
  {
   "cell_type": "markdown",
   "metadata": {
    "slideshow": {
     "slide_type": "slide"
    }
   },
   "source": [
    "#### Who do you think knows you better:<br>\n",
    "A. Facebook <br>\n",
    "B. Your friends"
   ]
  },
  {
   "cell_type": "markdown",
   "metadata": {
    "slideshow": {
     "slide_type": "slide"
    }
   },
   "source": [
    "# The Power of Human Data <br>\n",
    "\n",
    "Facebook likes & personality prediction: <br>\n",
    "--> 10 likes: more accurate prediction than a classmate <br>\n",
    "--> 70 likes: more accurate prediction than most of your friends <br>\n",
    "--> 150 likes: more accurate prediction than your family  <br>\n",
    "--> 300 likes: more accurate prediction than your romantic partner <br>\n",
    "\n",
    "### **“The world’s most valuable resource is no longer oil, but data”** ***The Economist***\n",
    "\n",
    "\n",
    "<img src=\"https://ist387.s3.us-east-2.amazonaws.com/images/lec1_3.png\" width=\"250\">"
   ]
  },
  {
   "cell_type": "markdown",
   "metadata": {
    "slideshow": {
     "slide_type": "slide"
    }
   },
   "source": [
    "# Data Value Extraction\n",
    "\n",
    "<img src=\"https://ist387.s3.us-east-2.amazonaws.com/images/lec1_5.jpg\" width=\"600\">"
   ]
  },
  {
   "cell_type": "markdown",
   "metadata": {
    "slideshow": {
     "slide_type": "slide"
    }
   },
   "source": [
    "# Can you construct a value extraction pyramid starting with “101.1°F/38°C” as the bottom layer?\n",
    "\n",
    "<img src=\"https://ist387.s3.us-east-2.amazonaws.com/images/lec1_5.jpg\" width=\"600\">"
   ]
  },
  {
   "cell_type": "markdown",
   "metadata": {
    "slideshow": {
     "slide_type": "slide"
    }
   },
   "source": [
    "# Who creates these models? <br>\n",
    "\n",
    "## ANSWER: Data Scientists!\n",
    "\n",
    "![][2]\n",
    "\n",
    "[2]: https://ist387.s3.us-east-2.amazonaws.com/images/lec1_4.png"
   ]
  },
  {
   "cell_type": "markdown",
   "metadata": {
    "slideshow": {
     "slide_type": "slide"
    }
   },
   "source": [
    "# Definition\n",
    "\n",
    "Emerging area of work concerned with the collection, preparation, analysis, visualization, management, and preservation of large volumes of data. <br>\n",
    "\n",
    "\n",
    "Interdisciplinary field combining expertise from different areas, especially: domain knowledge, math & statistics, computer science, & communication.\n",
    "\n",
    "### “[U]sing data in novel ways to build things” DJ Patil \n",
    "\n",
    "<img src=\"https://images.yourstory.com/cs/wordpress/2017/07/DJ-Patil-Ola.jpg\" width=\"500\">\n"
   ]
  },
  {
   "cell_type": "markdown",
   "metadata": {
    "slideshow": {
     "slide_type": "slide"
    }
   },
   "source": [
    "# Common Misconceptions\n",
    "\n",
    "## 1. You must be a math/computer science wiz to be a data scientist --> WRONG!\n",
    "\n",
    "<img src=\"https://ist387.s3.us-east-2.amazonaws.com/images/lec1_8.png\">\n",
    "\n",
    "\n"
   ]
  },
  {
   "cell_type": "markdown",
   "metadata": {
    "slideshow": {
     "slide_type": "slide"
    }
   },
   "source": [
    "# Common Misconceptions\n",
    "\n",
    "\n",
    "## 2. Data science is just a fad, it won’t last long --> Definitely WRONG!\n",
    "\n",
    "### “By 2024, a shortage of 250,000 data scientists is predicted in the United States alone.” \n",
    "***The Data Scientist Job and the Future***\n"
   ]
  },
  {
   "cell_type": "markdown",
   "metadata": {
    "slideshow": {
     "slide_type": "slide"
    }
   },
   "source": [
    "# Common Misconceptions\n",
    "\n",
    "\n",
    "## 3. Artificial intelligence will replace data scientists  --> WRONG!\n",
    "\n",
    "<img src=\"https://ist387.s3.us-east-2.amazonaws.com/images/lec1_9.jpg\">"
   ]
  },
  {
   "cell_type": "markdown",
   "metadata": {
    "slideshow": {
     "slide_type": "slide"
    }
   },
   "source": [
    "# Exciting developments in data science\n",
    "\n",
    "## Computer Vision\n",
    "\n",
    " https://ist387.s3.us-east-2.amazonaws.com/images/Nicolas+Cage+face+in+Friends+movie.mp4\n",
    " \n",
    "## Computer Dreaming\n",
    "\n",
    " https://www.youtube.com/watch?v=I-EIVlHvHRM"
   ]
  },
  {
   "cell_type": "markdown",
   "metadata": {
    "slideshow": {
     "slide_type": "slide"
    }
   },
   "source": [
    "# Why R? \n",
    "- Free and open source <br>\n",
    "- Runs on all major platforms<br>\n",
    "- Large and active R user community = ample online resources<br>\n",
    "- Ready access to cutting-edge features via R packages <br>\n",
    "- Developed by statisticians specifically for data analysis<br>\n",
    "- One of the top programming languages for data science!\n",
    " \n",
    " <img src=\"https://i.pinimg.com/originals/d5/65/5f/d5655fdef0557f6387b7b4e1fd397e17.png\" width=\"200\">\n"
   ]
  },
  {
   "cell_type": "code",
   "execution_count": null,
   "metadata": {
    "slideshow": {
     "slide_type": "slide"
    }
   },
   "outputs": [],
   "source": [
    "#printing\n",
    "\"hello world!\""
   ]
  },
  {
   "cell_type": "code",
   "execution_count": null,
   "metadata": {
    "slideshow": {
     "slide_type": "slide"
    }
   },
   "outputs": [],
   "source": [
    "a <- \"hello world\"\n",
    "a"
   ]
  },
  {
   "cell_type": "code",
   "execution_count": null,
   "metadata": {
    "slideshow": {
     "slide_type": "slide"
    }
   },
   "outputs": [],
   "source": [
    "5+17"
   ]
  },
  {
   "cell_type": "code",
   "execution_count": null,
   "metadata": {
    "slideshow": {
     "slide_type": "slide"
    }
   },
   "outputs": [],
   "source": [
    "x=8\n",
    "y=9\n",
    "x+y"
   ]
  },
  {
   "cell_type": "markdown",
   "metadata": {
    "slideshow": {
     "slide_type": "slide"
    }
   },
   "source": [
    "# To Recap:\n",
    "\n",
    "## 3 deliverables each week:\n",
    "\n",
    "- Weekly Challenges on Blackboard (11:00 am Tuesday - 11:59 pm Monday) EASIEST\n",
    "- Weekly Lab Assignments on Blackboard, RStudio (Thursdays) EASIER\n",
    "- Weekly HW Assignments on JupyterHub/Blackboard or RStudio/Blackboard (Thursday morning - 11:59 pm Monday) (should be) EASY"
   ]
  },
  {
   "cell_type": "markdown",
   "metadata": {
    "slideshow": {
     "slide_type": "slide"
    }
   },
   "source": [
    "# I'm here to help:\n",
    "\n",
    "<img src=\"https://ist387.s3.us-east-2.amazonaws.com/images/frame+(2).png\">"
   ]
  }
 ],
 "metadata": {
  "celltoolbar": "Slideshow",
  "kernelspec": {
   "display_name": "R",
   "language": "R",
   "name": "ir"
  },
  "language_info": {
   "codemirror_mode": "r",
   "file_extension": ".r",
   "mimetype": "text/x-r-source",
   "name": "R",
   "pygments_lexer": "r",
   "version": "4.0.3"
  }
 },
 "nbformat": 4,
 "nbformat_minor": 4
}
