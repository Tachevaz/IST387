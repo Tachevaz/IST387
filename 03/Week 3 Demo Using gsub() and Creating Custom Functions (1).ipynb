{
 "cells": [
  {
   "cell_type": "markdown",
   "metadata": {},
   "source": [
    "#### gsub() is an R function whose name stands for \"global substitution\"\n",
    "\n",
    "You can think of it as the R version on \"Find/Replace\" in Excel. Let's look at an example:\n",
    "\n",
    "![][1]\n",
    "\n",
    "[1]: \n",
    "https://ist387.s3.us-east-2.amazonaws.com/images/Picture1.png \"DS\""
   ]
  },
  {
   "cell_type": "markdown",
   "metadata": {},
   "source": [
    "#### What would be the outcome in the \"users\" column of this spreadsheet if you press \"Replace All\"?"
   ]
  },
  {
   "cell_type": "markdown",
   "metadata": {},
   "source": [
    "Correct - since the \"Replace with:\" box is empty, the \"users\" column will now contain just the usernames of these 3 students, since \"@syr.edu\" will have been replaced with... nothing. As you can see, nothing can often sometimes actually do something! \n",
    "\n",
    "**users** <br>\n",
    "alp <br>\n",
    "sh67 <br>\n",
    "tans <br>"
   ]
  },
  {
   "cell_type": "markdown",
   "metadata": {},
   "source": [
    "Now let's try to achieve the same result in R! We will start out by replicating the data from the 3 Excel columns into 3 R vectors:"
   ]
  },
  {
   "cell_type": "code",
   "execution_count": 5,
   "metadata": {},
   "outputs": [],
   "source": [
    "names <- c(\"Alex\", \"Shu\", \"Tanya\")\n",
    "ages <- c(28, 17, 35)\n",
    "users <- c(\"alp@syr.edu\", \"sh67@syr.edu\", \"tans@syr.edu\")"
   ]
  },
  {
   "cell_type": "markdown",
   "metadata": {},
   "source": [
    "Let's check if it worked by printing, or calling the 3 vectors: "
   ]
  },
  {
   "cell_type": "code",
   "execution_count": 7,
   "metadata": {},
   "outputs": [
    {
     "data": {
      "text/html": [
       "<style>\n",
       ".list-inline {list-style: none; margin:0; padding: 0}\n",
       ".list-inline>li {display: inline-block}\n",
       ".list-inline>li:not(:last-child)::after {content: \"\\00b7\"; padding: 0 .5ex}\n",
       "</style>\n",
       "<ol class=list-inline><li>'Alex'</li><li>'Shu'</li><li>'Tanya'</li></ol>\n"
      ],
      "text/latex": [
       "\\begin{enumerate*}\n",
       "\\item 'Alex'\n",
       "\\item 'Shu'\n",
       "\\item 'Tanya'\n",
       "\\end{enumerate*}\n"
      ],
      "text/markdown": [
       "1. 'Alex'\n",
       "2. 'Shu'\n",
       "3. 'Tanya'\n",
       "\n",
       "\n"
      ],
      "text/plain": [
       "[1] \"Alex\"  \"Shu\"   \"Tanya\""
      ]
     },
     "metadata": {},
     "output_type": "display_data"
    },
    {
     "data": {
      "text/html": [
       "<style>\n",
       ".list-inline {list-style: none; margin:0; padding: 0}\n",
       ".list-inline>li {display: inline-block}\n",
       ".list-inline>li:not(:last-child)::after {content: \"\\00b7\"; padding: 0 .5ex}\n",
       "</style>\n",
       "<ol class=list-inline><li>28</li><li>17</li><li>35</li></ol>\n"
      ],
      "text/latex": [
       "\\begin{enumerate*}\n",
       "\\item 28\n",
       "\\item 17\n",
       "\\item 35\n",
       "\\end{enumerate*}\n"
      ],
      "text/markdown": [
       "1. 28\n",
       "2. 17\n",
       "3. 35\n",
       "\n",
       "\n"
      ],
      "text/plain": [
       "[1] 28 17 35"
      ]
     },
     "metadata": {},
     "output_type": "display_data"
    },
    {
     "data": {
      "text/html": [
       "<style>\n",
       ".list-inline {list-style: none; margin:0; padding: 0}\n",
       ".list-inline>li {display: inline-block}\n",
       ".list-inline>li:not(:last-child)::after {content: \"\\00b7\"; padding: 0 .5ex}\n",
       "</style>\n",
       "<ol class=list-inline><li>'alp@syr.edu'</li><li>'sh67@syr.edu'</li><li>'tans@syr.edu'</li></ol>\n"
      ],
      "text/latex": [
       "\\begin{enumerate*}\n",
       "\\item 'alp@syr.edu'\n",
       "\\item 'sh67@syr.edu'\n",
       "\\item 'tans@syr.edu'\n",
       "\\end{enumerate*}\n"
      ],
      "text/markdown": [
       "1. 'alp@syr.edu'\n",
       "2. 'sh67@syr.edu'\n",
       "3. 'tans@syr.edu'\n",
       "\n",
       "\n"
      ],
      "text/plain": [
       "[1] \"alp@syr.edu\"  \"sh67@syr.edu\" \"tans@syr.edu\""
      ]
     },
     "metadata": {},
     "output_type": "display_data"
    }
   ],
   "source": [
    "names\n",
    "ages\n",
    "users"
   ]
  },
  {
   "cell_type": "markdown",
   "metadata": {},
   "source": [
    "It looks like they're all there! Time to merge them into a dataframe with 3 rows and 3 columns to replicate what we see in the spreadsheet screenshot above:"
   ]
  },
  {
   "cell_type": "code",
   "execution_count": 8,
   "metadata": {},
   "outputs": [],
   "source": [
    "students <- data.frame(names, ages, users)"
   ]
  },
  {
   "cell_type": "markdown",
   "metadata": {},
   "source": [
    "It ran without error. Let's print it to see if it looks the way it's supposed to:"
   ]
  },
  {
   "cell_type": "code",
   "execution_count": 9,
   "metadata": {},
   "outputs": [
    {
     "data": {
      "text/html": [
       "<table>\n",
       "<caption>A data.frame: 3 × 3</caption>\n",
       "<thead>\n",
       "\t<tr><th scope=col>names</th><th scope=col>ages</th><th scope=col>users</th></tr>\n",
       "\t<tr><th scope=col>&lt;chr&gt;</th><th scope=col>&lt;dbl&gt;</th><th scope=col>&lt;chr&gt;</th></tr>\n",
       "</thead>\n",
       "<tbody>\n",
       "\t<tr><td>Alex </td><td>28</td><td>alp@syr.edu </td></tr>\n",
       "\t<tr><td>Shu  </td><td>17</td><td>sh67@syr.edu</td></tr>\n",
       "\t<tr><td>Tanya</td><td>35</td><td>tans@syr.edu</td></tr>\n",
       "</tbody>\n",
       "</table>\n"
      ],
      "text/latex": [
       "A data.frame: 3 × 3\n",
       "\\begin{tabular}{lll}\n",
       " names & ages & users\\\\\n",
       " <chr> & <dbl> & <chr>\\\\\n",
       "\\hline\n",
       "\t Alex  & 28 & alp@syr.edu \\\\\n",
       "\t Shu   & 17 & sh67@syr.edu\\\\\n",
       "\t Tanya & 35 & tans@syr.edu\\\\\n",
       "\\end{tabular}\n"
      ],
      "text/markdown": [
       "\n",
       "A data.frame: 3 × 3\n",
       "\n",
       "| names &lt;chr&gt; | ages &lt;dbl&gt; | users &lt;chr&gt; |\n",
       "|---|---|---|\n",
       "| Alex  | 28 | alp@syr.edu  |\n",
       "| Shu   | 17 | sh67@syr.edu |\n",
       "| Tanya | 35 | tans@syr.edu |\n",
       "\n"
      ],
      "text/plain": [
       "  names ages users       \n",
       "1 Alex  28   alp@syr.edu \n",
       "2 Shu   17   sh67@syr.edu\n",
       "3 Tanya 35   tans@syr.edu"
      ]
     },
     "metadata": {},
     "output_type": "display_data"
    }
   ],
   "source": [
    "students"
   ]
  },
  {
   "cell_type": "markdown",
   "metadata": {},
   "source": [
    "All good! We are now ready to use the gsub() function to clean the \"users\" column so we are only left with the username of each student, i.e. get rid of the \"@syr.edu\" suffix:"
   ]
  },
  {
   "cell_type": "code",
   "execution_count": 10,
   "metadata": {},
   "outputs": [],
   "source": [
    "students$usernames <- gsub(\"@syr.edu\", \"\", students$users)"
   ]
  },
  {
   "cell_type": "markdown",
   "metadata": {},
   "source": [
    "Did we overwrite the \"users\" column or did we actually do something else? Let's see by printing the students df again:"
   ]
  },
  {
   "cell_type": "code",
   "execution_count": 11,
   "metadata": {},
   "outputs": [
    {
     "data": {
      "text/html": [
       "<table>\n",
       "<caption>A data.frame: 3 × 4</caption>\n",
       "<thead>\n",
       "\t<tr><th scope=col>names</th><th scope=col>ages</th><th scope=col>users</th><th scope=col>usernames</th></tr>\n",
       "\t<tr><th scope=col>&lt;chr&gt;</th><th scope=col>&lt;dbl&gt;</th><th scope=col>&lt;chr&gt;</th><th scope=col>&lt;chr&gt;</th></tr>\n",
       "</thead>\n",
       "<tbody>\n",
       "\t<tr><td>Alex </td><td>28</td><td>alp@syr.edu </td><td>alp </td></tr>\n",
       "\t<tr><td>Shu  </td><td>17</td><td>sh67@syr.edu</td><td>sh67</td></tr>\n",
       "\t<tr><td>Tanya</td><td>35</td><td>tans@syr.edu</td><td>tans</td></tr>\n",
       "</tbody>\n",
       "</table>\n"
      ],
      "text/latex": [
       "A data.frame: 3 × 4\n",
       "\\begin{tabular}{llll}\n",
       " names & ages & users & usernames\\\\\n",
       " <chr> & <dbl> & <chr> & <chr>\\\\\n",
       "\\hline\n",
       "\t Alex  & 28 & alp@syr.edu  & alp \\\\\n",
       "\t Shu   & 17 & sh67@syr.edu & sh67\\\\\n",
       "\t Tanya & 35 & tans@syr.edu & tans\\\\\n",
       "\\end{tabular}\n"
      ],
      "text/markdown": [
       "\n",
       "A data.frame: 3 × 4\n",
       "\n",
       "| names &lt;chr&gt; | ages &lt;dbl&gt; | users &lt;chr&gt; | usernames &lt;chr&gt; |\n",
       "|---|---|---|---|\n",
       "| Alex  | 28 | alp@syr.edu  | alp  |\n",
       "| Shu   | 17 | sh67@syr.edu | sh67 |\n",
       "| Tanya | 35 | tans@syr.edu | tans |\n",
       "\n"
      ],
      "text/plain": [
       "  names ages users        usernames\n",
       "1 Alex  28   alp@syr.edu  alp      \n",
       "2 Shu   17   sh67@syr.edu sh67     \n",
       "3 Tanya 35   tans@syr.edu tans     "
      ]
     },
     "metadata": {},
     "output_type": "display_data"
    }
   ],
   "source": [
    "students"
   ]
  },
  {
   "cell_type": "markdown",
   "metadata": {},
   "source": [
    "As you can see, we didn't exactly overwrite it. Instead, we created a new column called \"usernames.\" How would you overwrite \"users\" instead? Hint: \"usernames\" from line 10 should instead be: users. <br>\n",
    "\n",
    "What is the syntax of gsub() in line 10? That is, what arguments does it take to work? Let's break down the stuff in parentheses: \"@syr.edu\" is the stuff we want gsub() to find. Just like you would type the characters you want to find in the Excel Find function. It's wrapped in quotes because it is a string of text (= chr). <br>\n",
    "\n",
    "The second argument, \"\", is what we want to replace the found string with. In our case, just like we left the Replace field blank in Excel, we are telling R we want to replace \"@syr.edu\" with... NOTHING!, empy string. <br>\n",
    "\n",
    "Finally, the third argument, students$users, tells gsub() which df column exactly to perform this Find/Replace function on. In our case we want it to focus on the \"users\" column, and not, for example, \"names\" or \"ages.\""
   ]
  },
  {
   "cell_type": "markdown",
   "metadata": {},
   "source": [
    "#### gsub() shortcuts you may find useful\n",
    "\n",
    "In Excel, you need to type explicitly the character or symbol you want to find and/or replace. R on the other hand, can be used both with explicit statements like that, or with more general searches. <br>\n",
    "\n",
    "The following code will find the expression \"Good\" and remove it from the word \"Goodbye\":"
   ]
  },
  {
   "cell_type": "code",
   "execution_count": 12,
   "metadata": {},
   "outputs": [
    {
     "data": {
      "text/html": [
       "'bye'"
      ],
      "text/latex": [
       "'bye'"
      ],
      "text/markdown": [
       "'bye'"
      ],
      "text/plain": [
       "[1] \"bye\""
      ]
     },
     "metadata": {},
     "output_type": "display_data"
    }
   ],
   "source": [
    "gsub(\"Good\", \"\", \"Goodbye\")"
   ]
  },
  {
   "cell_type": "markdown",
   "metadata": {},
   "source": [
    "You can see if the function is case-sensitive by trying the same syntax on \"goodbye\" instead:"
   ]
  },
  {
   "cell_type": "code",
   "execution_count": 13,
   "metadata": {},
   "outputs": [
    {
     "data": {
      "text/html": [
       "'goodbye'"
      ],
      "text/latex": [
       "'goodbye'"
      ],
      "text/markdown": [
       "'goodbye'"
      ],
      "text/plain": [
       "[1] \"goodbye\""
      ]
     },
     "metadata": {},
     "output_type": "display_data"
    }
   ],
   "source": [
    "gsub(\"Good\", \"\", \"goodbye\")"
   ]
  },
  {
   "cell_type": "markdown",
   "metadata": {},
   "source": [
    "Now let's try it with a more general search. What if I wanted to find and replace all the numbers in a sentence without explicitly putting in every single number separately? Let's take the following sentence as an example:"
   ]
  },
  {
   "cell_type": "code",
   "execution_count": 16,
   "metadata": {},
   "outputs": [],
   "source": [
    "sentence <- \"I am 29 years old, and weigh 130 lbs\""
   ]
  },
  {
   "cell_type": "markdown",
   "metadata": {},
   "source": [
    "I could do something like this:"
   ]
  },
  {
   "cell_type": "code",
   "execution_count": 17,
   "metadata": {},
   "outputs": [
    {
     "data": {
      "text/html": [
       "'I am X years old, and weigh 130 lbs'"
      ],
      "text/latex": [
       "'I am X years old, and weigh 130 lbs'"
      ],
      "text/markdown": [
       "'I am X years old, and weigh 130 lbs'"
      ],
      "text/plain": [
       "[1] \"I am X years old, and weigh 130 lbs\""
      ]
     },
     "metadata": {},
     "output_type": "display_data"
    }
   ],
   "source": [
    "gsub(\"29\", \"X\", sentence)"
   ]
  },
  {
   "cell_type": "markdown",
   "metadata": {},
   "source": [
    "But if I wanted to identify and replace both numbers (or any number of numbers for that matter) in one go, I can do something like this:"
   ]
  },
  {
   "cell_type": "code",
   "execution_count": 19,
   "metadata": {},
   "outputs": [
    {
     "data": {
      "text/html": [
       "'I am X years old, and weigh X lbs'"
      ],
      "text/latex": [
       "'I am X years old, and weigh X lbs'"
      ],
      "text/markdown": [
       "'I am X years old, and weigh X lbs'"
      ],
      "text/plain": [
       "[1] \"I am X years old, and weigh X lbs\""
      ]
     },
     "metadata": {},
     "output_type": "display_data"
    }
   ],
   "source": [
    "gsub(\"\\\\d+\", \"X\", sentence)"
   ]
  },
  {
   "cell_type": "markdown",
   "metadata": {},
   "source": [
    "\"\\\\d+\" will catch any number. \"d\" stands for digit."
   ]
  },
  {
   "cell_type": "markdown",
   "metadata": {},
   "source": [
    "What does this one do:"
   ]
  },
  {
   "cell_type": "code",
   "execution_count": 20,
   "metadata": {},
   "outputs": [
    {
     "data": {
      "text/html": [
       "'X X X X X, X X X X'"
      ],
      "text/latex": [
       "'X X X X X, X X X X'"
      ],
      "text/markdown": [
       "'X X X X X, X X X X'"
      ],
      "text/plain": [
       "[1] \"X X X X X, X X X X\""
      ]
     },
     "metadata": {},
     "output_type": "display_data"
    }
   ],
   "source": [
    "gsub(\"\\\\w+\", \"X\", sentence)"
   ]
  },
  {
   "cell_type": "markdown",
   "metadata": {},
   "source": [
    "How about this:"
   ]
  },
  {
   "cell_type": "code",
   "execution_count": 21,
   "metadata": {},
   "outputs": [
    {
     "data": {
      "text/html": [
       "'IXamX29XyearsXold,XandXweighX130Xlbs'"
      ],
      "text/latex": [
       "'IXamX29XyearsXold,XandXweighX130Xlbs'"
      ],
      "text/markdown": [
       "'IXamX29XyearsXold,XandXweighX130Xlbs'"
      ],
      "text/plain": [
       "[1] \"IXamX29XyearsXold,XandXweighX130Xlbs\""
      ]
     },
     "metadata": {},
     "output_type": "display_data"
    }
   ],
   "source": [
    "gsub(\"\\\\s\", \"X\", sentence)"
   ]
  },
  {
   "cell_type": "markdown",
   "metadata": {},
   "source": [
    "You can learn more about this cool feature called \"regular expression\" here: http://www.endmemo.com/r/gsub.php"
   ]
  },
  {
   "cell_type": "markdown",
   "metadata": {},
   "source": [
    "Search pattern helpers like regular expression are there to make our work easier. **Functions** have a similar purpose in coding - they automate tasks so instead of having to run the same lines of code for things we do often over and over again, we can run the code once, wrap it in a function, and just call the function the next time we need to accomplish a similar task."
   ]
  },
  {
   "cell_type": "markdown",
   "metadata": {},
   "source": [
    "Let's add another column to our \"students\" df:"
   ]
  },
  {
   "cell_type": "code",
   "execution_count": 22,
   "metadata": {},
   "outputs": [],
   "source": [
    "students$gpa <- c(\"gpa_4.3\", \"gpa_3.6\", \"gpa_2.9\")"
   ]
  },
  {
   "cell_type": "code",
   "execution_count": 23,
   "metadata": {},
   "outputs": [
    {
     "data": {
      "text/html": [
       "<table>\n",
       "<caption>A data.frame: 3 × 5</caption>\n",
       "<thead>\n",
       "\t<tr><th scope=col>names</th><th scope=col>ages</th><th scope=col>users</th><th scope=col>usernames</th><th scope=col>gpa</th></tr>\n",
       "\t<tr><th scope=col>&lt;chr&gt;</th><th scope=col>&lt;dbl&gt;</th><th scope=col>&lt;chr&gt;</th><th scope=col>&lt;chr&gt;</th><th scope=col>&lt;chr&gt;</th></tr>\n",
       "</thead>\n",
       "<tbody>\n",
       "\t<tr><td>Alex </td><td>28</td><td>alp@syr.edu </td><td>alp </td><td>gpa_4.3</td></tr>\n",
       "\t<tr><td>Shu  </td><td>17</td><td>sh67@syr.edu</td><td>sh67</td><td>gpa_3.6</td></tr>\n",
       "\t<tr><td>Tanya</td><td>35</td><td>tans@syr.edu</td><td>tans</td><td>gpa_2.9</td></tr>\n",
       "</tbody>\n",
       "</table>\n"
      ],
      "text/latex": [
       "A data.frame: 3 × 5\n",
       "\\begin{tabular}{lllll}\n",
       " names & ages & users & usernames & gpa\\\\\n",
       " <chr> & <dbl> & <chr> & <chr> & <chr>\\\\\n",
       "\\hline\n",
       "\t Alex  & 28 & alp@syr.edu  & alp  & gpa\\_4.3\\\\\n",
       "\t Shu   & 17 & sh67@syr.edu & sh67 & gpa\\_3.6\\\\\n",
       "\t Tanya & 35 & tans@syr.edu & tans & gpa\\_2.9\\\\\n",
       "\\end{tabular}\n"
      ],
      "text/markdown": [
       "\n",
       "A data.frame: 3 × 5\n",
       "\n",
       "| names &lt;chr&gt; | ages &lt;dbl&gt; | users &lt;chr&gt; | usernames &lt;chr&gt; | gpa &lt;chr&gt; |\n",
       "|---|---|---|---|---|\n",
       "| Alex  | 28 | alp@syr.edu  | alp  | gpa_4.3 |\n",
       "| Shu   | 17 | sh67@syr.edu | sh67 | gpa_3.6 |\n",
       "| Tanya | 35 | tans@syr.edu | tans | gpa_2.9 |\n",
       "\n"
      ],
      "text/plain": [
       "  names ages users        usernames gpa    \n",
       "1 Alex  28   alp@syr.edu  alp       gpa_4.3\n",
       "2 Shu   17   sh67@syr.edu sh67      gpa_3.6\n",
       "3 Tanya 35   tans@syr.edu tans      gpa_2.9"
      ]
     },
     "metadata": {},
     "output_type": "display_data"
    }
   ],
   "source": [
    "students"
   ]
  },
  {
   "cell_type": "markdown",
   "metadata": {},
   "source": [
    "Our next task is to calculate the average GPA of this 3-person class. Let's break down this task into steps: <br>\n",
    "1. We need to get to the numbers in the \"gpa\" column by getting rid of the \"gpa_\" suffix. Luckily, we know a function that can help us do just that:"
   ]
  },
  {
   "cell_type": "code",
   "execution_count": 24,
   "metadata": {},
   "outputs": [],
   "source": [
    "students$gpa <- gsub(\"gpa_\", \"\", students$gpa)"
   ]
  },
  {
   "cell_type": "code",
   "execution_count": 25,
   "metadata": {},
   "outputs": [
    {
     "data": {
      "text/html": [
       "<style>\n",
       ".list-inline {list-style: none; margin:0; padding: 0}\n",
       ".list-inline>li {display: inline-block}\n",
       ".list-inline>li:not(:last-child)::after {content: \"\\00b7\"; padding: 0 .5ex}\n",
       "</style>\n",
       "<ol class=list-inline><li>'4.3'</li><li>'3.6'</li><li>'2.9'</li></ol>\n"
      ],
      "text/latex": [
       "\\begin{enumerate*}\n",
       "\\item '4.3'\n",
       "\\item '3.6'\n",
       "\\item '2.9'\n",
       "\\end{enumerate*}\n"
      ],
      "text/markdown": [
       "1. '4.3'\n",
       "2. '3.6'\n",
       "3. '2.9'\n",
       "\n",
       "\n"
      ],
      "text/plain": [
       "[1] \"4.3\" \"3.6\" \"2.9\""
      ]
     },
     "metadata": {},
     "output_type": "display_data"
    }
   ],
   "source": [
    "students$gpa"
   ]
  },
  {
   "cell_type": "markdown",
   "metadata": {},
   "source": [
    "Success! Can we then just use vector math on the \"gpa\" variable and get our answer? Let's try:"
   ]
  },
  {
   "cell_type": "code",
   "execution_count": 26,
   "metadata": {},
   "outputs": [
    {
     "name": "stderr",
     "output_type": "stream",
     "text": [
      "Warning message in mean.default(students$gpa):\n",
      "“argument is not numeric or logical: returning NA”\n"
     ]
    },
    {
     "data": {
      "text/html": [
       "&lt;NA&gt;"
      ],
      "text/latex": [
       "<NA>"
      ],
      "text/markdown": [
       "&lt;NA&gt;"
      ],
      "text/plain": [
       "[1] NA"
      ]
     },
     "metadata": {},
     "output_type": "display_data"
    }
   ],
   "source": [
    "mean(students$gpa)"
   ]
  },
  {
   "cell_type": "markdown",
   "metadata": {},
   "source": [
    "Hmm, R doesn't seem to like our simple command, and tells us that the argument we provided to the mean() function is not numeric. We do see numbers though, what's going on? We can quickly check the df for more information:"
   ]
  },
  {
   "cell_type": "code",
   "execution_count": 27,
   "metadata": {},
   "outputs": [
    {
     "data": {
      "text/html": [
       "<table>\n",
       "<caption>A data.frame: 3 × 5</caption>\n",
       "<thead>\n",
       "\t<tr><th scope=col>names</th><th scope=col>ages</th><th scope=col>users</th><th scope=col>usernames</th><th scope=col>gpa</th></tr>\n",
       "\t<tr><th scope=col>&lt;chr&gt;</th><th scope=col>&lt;dbl&gt;</th><th scope=col>&lt;chr&gt;</th><th scope=col>&lt;chr&gt;</th><th scope=col>&lt;chr&gt;</th></tr>\n",
       "</thead>\n",
       "<tbody>\n",
       "\t<tr><td>Alex </td><td>28</td><td>alp@syr.edu </td><td>alp </td><td>4.3</td></tr>\n",
       "\t<tr><td>Shu  </td><td>17</td><td>sh67@syr.edu</td><td>sh67</td><td>3.6</td></tr>\n",
       "\t<tr><td>Tanya</td><td>35</td><td>tans@syr.edu</td><td>tans</td><td>2.9</td></tr>\n",
       "</tbody>\n",
       "</table>\n"
      ],
      "text/latex": [
       "A data.frame: 3 × 5\n",
       "\\begin{tabular}{lllll}\n",
       " names & ages & users & usernames & gpa\\\\\n",
       " <chr> & <dbl> & <chr> & <chr> & <chr>\\\\\n",
       "\\hline\n",
       "\t Alex  & 28 & alp@syr.edu  & alp  & 4.3\\\\\n",
       "\t Shu   & 17 & sh67@syr.edu & sh67 & 3.6\\\\\n",
       "\t Tanya & 35 & tans@syr.edu & tans & 2.9\\\\\n",
       "\\end{tabular}\n"
      ],
      "text/markdown": [
       "\n",
       "A data.frame: 3 × 5\n",
       "\n",
       "| names &lt;chr&gt; | ages &lt;dbl&gt; | users &lt;chr&gt; | usernames &lt;chr&gt; | gpa &lt;chr&gt; |\n",
       "|---|---|---|---|---|\n",
       "| Alex  | 28 | alp@syr.edu  | alp  | 4.3 |\n",
       "| Shu   | 17 | sh67@syr.edu | sh67 | 3.6 |\n",
       "| Tanya | 35 | tans@syr.edu | tans | 2.9 |\n",
       "\n"
      ],
      "text/plain": [
       "  names ages users        usernames gpa\n",
       "1 Alex  28   alp@syr.edu  alp       4.3\n",
       "2 Shu   17   sh67@syr.edu sh67      3.6\n",
       "3 Tanya 35   tans@syr.edu tans      2.9"
      ]
     },
     "metadata": {},
     "output_type": "display_data"
    }
   ],
   "source": [
    "students"
   ]
  },
  {
   "cell_type": "markdown",
   "metadata": {},
   "source": [
    "I see now - the \"gpa\" var is still coded as <chr>, i.e. character, not a number. Step 2 in our process then should be to convert this variable into numeric:"
   ]
  },
  {
   "cell_type": "code",
   "execution_count": 28,
   "metadata": {},
   "outputs": [],
   "source": [
    "students$gpa <- as.numeric(students$gpa)"
   ]
  },
  {
   "cell_type": "code",
   "execution_count": 29,
   "metadata": {},
   "outputs": [
    {
     "data": {
      "text/html": [
       "<table>\n",
       "<caption>A data.frame: 3 × 5</caption>\n",
       "<thead>\n",
       "\t<tr><th scope=col>names</th><th scope=col>ages</th><th scope=col>users</th><th scope=col>usernames</th><th scope=col>gpa</th></tr>\n",
       "\t<tr><th scope=col>&lt;chr&gt;</th><th scope=col>&lt;dbl&gt;</th><th scope=col>&lt;chr&gt;</th><th scope=col>&lt;chr&gt;</th><th scope=col>&lt;dbl&gt;</th></tr>\n",
       "</thead>\n",
       "<tbody>\n",
       "\t<tr><td>Alex </td><td>28</td><td>alp@syr.edu </td><td>alp </td><td>4.3</td></tr>\n",
       "\t<tr><td>Shu  </td><td>17</td><td>sh67@syr.edu</td><td>sh67</td><td>3.6</td></tr>\n",
       "\t<tr><td>Tanya</td><td>35</td><td>tans@syr.edu</td><td>tans</td><td>2.9</td></tr>\n",
       "</tbody>\n",
       "</table>\n"
      ],
      "text/latex": [
       "A data.frame: 3 × 5\n",
       "\\begin{tabular}{lllll}\n",
       " names & ages & users & usernames & gpa\\\\\n",
       " <chr> & <dbl> & <chr> & <chr> & <dbl>\\\\\n",
       "\\hline\n",
       "\t Alex  & 28 & alp@syr.edu  & alp  & 4.3\\\\\n",
       "\t Shu   & 17 & sh67@syr.edu & sh67 & 3.6\\\\\n",
       "\t Tanya & 35 & tans@syr.edu & tans & 2.9\\\\\n",
       "\\end{tabular}\n"
      ],
      "text/markdown": [
       "\n",
       "A data.frame: 3 × 5\n",
       "\n",
       "| names &lt;chr&gt; | ages &lt;dbl&gt; | users &lt;chr&gt; | usernames &lt;chr&gt; | gpa &lt;dbl&gt; |\n",
       "|---|---|---|---|---|\n",
       "| Alex  | 28 | alp@syr.edu  | alp  | 4.3 |\n",
       "| Shu   | 17 | sh67@syr.edu | sh67 | 3.6 |\n",
       "| Tanya | 35 | tans@syr.edu | tans | 2.9 |\n",
       "\n"
      ],
      "text/plain": [
       "  names ages users        usernames gpa\n",
       "1 Alex  28   alp@syr.edu  alp       4.3\n",
       "2 Shu   17   sh67@syr.edu sh67      3.6\n",
       "3 Tanya 35   tans@syr.edu tans      2.9"
      ]
     },
     "metadata": {},
     "output_type": "display_data"
    }
   ],
   "source": [
    "students"
   ]
  },
  {
   "cell_type": "markdown",
   "metadata": {},
   "source": [
    "\"dbl\" stands for \"double\" - a numeric data type. Let's try the mean() function again:"
   ]
  },
  {
   "cell_type": "code",
   "execution_count": 30,
   "metadata": {},
   "outputs": [
    {
     "data": {
      "text/html": [
       "3.6"
      ],
      "text/latex": [
       "3.6"
      ],
      "text/markdown": [
       "3.6"
      ],
      "text/plain": [
       "[1] 3.6"
      ]
     },
     "metadata": {},
     "output_type": "display_data"
    }
   ],
   "source": [
    "mean(students$gpa)"
   ]
  },
  {
   "cell_type": "markdown",
   "metadata": {},
   "source": [
    "Woohoo, it worked! Essentially, we needed to execute the following steps of code: <br>\n",
    "1. Clean the \"gpa\" variable using **gsub()** <br>\n",
    "2. Convert the cleaned \"gpa\" variable from chr to a numeric type using **as.numeric()** <br>\n",
    "3. Calculate the average using **mean()**"
   ]
  },
  {
   "cell_type": "markdown",
   "metadata": {},
   "source": [
    "Imagine the following situation: your boss asks you to perform this task on 90 different classes of students. And only gives you an hour! If my math is correct, that means running 90x3 lines of code (and that's not even counting the code you need to read in all this data). There must be an easier way! <br>\n",
    "Indeed, there is. We can create a function called **averageGPAcalculator()** and automate this process. Here is how it works: <br>\n",
    "We need to think of a name for our function first. I already suggested one, let's use it:"
   ]
  },
  {
   "cell_type": "code",
   "execution_count": 33,
   "metadata": {},
   "outputs": [],
   "source": [
    "averageGPAcalculator <- function(input){\n",
    "    step1 <- \"do something here\"\n",
    "    step2 <- \"do something else\"\n",
    "    step3 <- \"maybe even some more\"\n",
    "    return(step3)\n",
    "}"
   ]
  },
  {
   "cell_type": "markdown",
   "metadata": {},
   "source": [
    "If you click \"Run\", nothing will happen. This is because these lines of code just memorize the function. To use it, we need to actually \"call\" it on something. We need an input. Let's try it on a text string: "
   ]
  },
  {
   "cell_type": "code",
   "execution_count": 35,
   "metadata": {},
   "outputs": [
    {
     "data": {
      "text/html": [
       "'maybe even some more'"
      ],
      "text/latex": [
       "'maybe even some more'"
      ],
      "text/markdown": [
       "'maybe even some more'"
      ],
      "text/plain": [
       "[1] \"maybe even some more\""
      ]
     },
     "metadata": {},
     "output_type": "display_data"
    }
   ],
   "source": [
    "averageGPAcalculator(\"what can I do with this?\")"
   ]
  },
  {
   "cell_type": "markdown",
   "metadata": {},
   "source": [
    "The output is 'maybe even some more', how so? Let's discuss the different elements of this function. <br>\n",
    "1. We declared it by giving it a name, averageGPAcalculator. <br>\n",
    "2. We told R it's not anything else, but a **function**, <br>\n",
    "3. ...and told it that our function will take a single argument which we called \"input\" - you could have used any other word and it would still work because it's nothing more than a placeholder. <br>\n",
    "4. Inside the curly braces, {}, is where the body of the function is, i.e. the stuff we want it to do. In this case, we have 3 steps, but you could really have as many or as few as you want. <br>\n",
    "5. When we got done with the last step, we told R we want it to output the result of the last step with the return() function. Had this return() line not been there, we wouldn't have seen the fruit of our labor."
   ]
  },
  {
   "cell_type": "markdown",
   "metadata": {},
   "source": [
    "This function is not very useful though. Whatever input, aka argument, we provide, it will always return the exact same thing, \"maybe even some more.\" <br>\n",
    "To make it perform the task we set out to figure out - actually calculating the average GPA of a class, we'd need to modify the steps in the body of the function:"
   ]
  },
  {
   "cell_type": "code",
   "execution_count": 36,
   "metadata": {},
   "outputs": [],
   "source": [
    "averageGPAcalculator <- function(input){\n",
    "    step1 <- gsub(\"gpa_\", \"\", input$gpa)\n",
    "    step2 <- as.numeric(step1)\n",
    "    step3 <- mean(step2)\n",
    "    return(step3)\n",
    "}"
   ]
  },
  {
   "cell_type": "markdown",
   "metadata": {},
   "source": [
    "What we did was essentially take the separate commands we executed earlier and bundle them together into a function. Let's test it on our **students** df. If the function runs correctly, we should get the same value for the average GPA as in the single steps we performed earlier - 3.6:"
   ]
  },
  {
   "cell_type": "code",
   "execution_count": 37,
   "metadata": {},
   "outputs": [
    {
     "data": {
      "text/html": [
       "3.6"
      ],
      "text/latex": [
       "3.6"
      ],
      "text/markdown": [
       "3.6"
      ],
      "text/plain": [
       "[1] 3.6"
      ]
     },
     "metadata": {},
     "output_type": "display_data"
    }
   ],
   "source": [
    "averageGPAcalculator(students)"
   ]
  },
  {
   "cell_type": "markdown",
   "metadata": {},
   "source": [
    "Great, it works! Now we know that we can tackle any df which has a similar setup in just one line of code! Let's create another df and try it again:"
   ]
  },
  {
   "cell_type": "code",
   "execution_count": 39,
   "metadata": {},
   "outputs": [],
   "source": [
    "name <- c(\"Bree\", \"Grace\", \"Akshat\", \"Penny\", \"Leon\")\n",
    "gpa <- c(2.3, 4.0, 3.9, 3.5, 2.8)\n",
    "anotherGroupOfStudents <- data.frame(name, gpa)"
   ]
  },
  {
   "cell_type": "code",
   "execution_count": 40,
   "metadata": {},
   "outputs": [
    {
     "data": {
      "text/html": [
       "3.3"
      ],
      "text/latex": [
       "3.3"
      ],
      "text/markdown": [
       "3.3"
      ],
      "text/plain": [
       "[1] 3.3"
      ]
     },
     "metadata": {},
     "output_type": "display_data"
    }
   ],
   "source": [
    "averageGPAcalculator(anotherGroupOfStudents)"
   ]
  },
  {
   "cell_type": "markdown",
   "metadata": {},
   "source": [
    "You can practice on your own by creating new dfs or tweaking the body of the function;)"
   ]
  },
  {
   "cell_type": "code",
   "execution_count": null,
   "metadata": {},
   "outputs": [],
   "source": []
  }
 ],
 "metadata": {
  "kernelspec": {
   "display_name": "R",
   "language": "R",
   "name": "ir"
  },
  "language_info": {
   "codemirror_mode": "r",
   "file_extension": ".r",
   "mimetype": "text/x-r-source",
   "name": "R",
   "pygments_lexer": "r",
   "version": "4.0.3"
  }
 },
 "nbformat": 4,
 "nbformat_minor": 4
}
