{
 "cells": [
  {
   "cell_type": "markdown",
   "metadata": {},
   "source": [
    "## Supervised Machine Learning in R\n",
    "\n",
    "To be able to run the code in this tutorial and complete your HW/lab assignments, you need to install and library the following packages: \n",
    "- kernlab\n",
    "- caret:"
   ]
  },
  {
   "cell_type": "code",
   "execution_count": 9,
   "metadata": {},
   "outputs": [
    {
     "name": "stderr",
     "output_type": "stream",
     "text": [
      "Loading required package: lattice\n",
      "\n",
      "\n",
      "Attaching package: ‘caret’\n",
      "\n",
      "\n",
      "The following object is masked from ‘package:purrr’:\n",
      "\n",
      "    lift\n",
      "\n",
      "\n"
     ]
    }
   ],
   "source": [
    "#install.packages(c(\"kernlab\",\"caret\"))\n",
    "library(kernlab)\n",
    "library(caret)"
   ]
  },
  {
   "cell_type": "markdown",
   "metadata": {},
   "source": [
    "This tutorial will introduce you to **supervised machine learning in R**. \n",
    "Although the examples below are based on the dataset used in your HW assignment, you can use the same logic to complete your lab assignment. Please email me if you have any questions.  \n",
    "\n",
    "### Supervised Machine Learning in R (using support vector machines, aka SVM)\n",
    "\n",
    "Let's store the dataset available at: https://ist387.s3.us-east-2.amazonaws.com/data/GermanCredit.csv in a dataframe called **credit** using the **read_csv()** function from the **tidyverse** package:"
   ]
  },
  {
   "cell_type": "code",
   "execution_count": 2,
   "metadata": {},
   "outputs": [
    {
     "name": "stderr",
     "output_type": "stream",
     "text": [
      "── \u001b[1mAttaching packages\u001b[22m ─────────────────────────────────────── tidyverse 1.3.0 ──\n",
      "\n",
      "\u001b[32m✔\u001b[39m \u001b[34mggplot2\u001b[39m 3.3.2     \u001b[32m✔\u001b[39m \u001b[34mpurrr  \u001b[39m 0.3.4\n",
      "\u001b[32m✔\u001b[39m \u001b[34mtibble \u001b[39m 3.0.4     \u001b[32m✔\u001b[39m \u001b[34mdplyr  \u001b[39m 1.0.2\n",
      "\u001b[32m✔\u001b[39m \u001b[34mtidyr  \u001b[39m 1.1.2     \u001b[32m✔\u001b[39m \u001b[34mstringr\u001b[39m 1.4.0\n",
      "\u001b[32m✔\u001b[39m \u001b[34mreadr  \u001b[39m 1.4.0     \u001b[32m✔\u001b[39m \u001b[34mforcats\u001b[39m 0.5.0\n",
      "\n",
      "── \u001b[1mConflicts\u001b[22m ────────────────────────────────────────── tidyverse_conflicts() ──\n",
      "\u001b[31m✖\u001b[39m \u001b[34mggplot2\u001b[39m::\u001b[32malpha()\u001b[39m masks \u001b[34mkernlab\u001b[39m::alpha()\n",
      "\u001b[31m✖\u001b[39m \u001b[34mpurrr\u001b[39m::\u001b[32mcross()\u001b[39m   masks \u001b[34mkernlab\u001b[39m::cross()\n",
      "\u001b[31m✖\u001b[39m \u001b[34mdplyr\u001b[39m::\u001b[32mfilter()\u001b[39m  masks \u001b[34mstats\u001b[39m::filter()\n",
      "\u001b[31m✖\u001b[39m \u001b[34mdplyr\u001b[39m::\u001b[32mlag()\u001b[39m     masks \u001b[34mstats\u001b[39m::lag()\n",
      "\n",
      "\n",
      "\u001b[36m──\u001b[39m \u001b[1m\u001b[1mColumn specification\u001b[1m\u001b[22m \u001b[36m────────────────────────────────────────────────────────\u001b[39m\n",
      "cols(\n",
      "  .default = col_character(),\n",
      "  duration = \u001b[32mcol_double()\u001b[39m,\n",
      "  amount = \u001b[32mcol_double()\u001b[39m,\n",
      "  installment_rate = \u001b[32mcol_double()\u001b[39m,\n",
      "  present_residence = \u001b[32mcol_double()\u001b[39m,\n",
      "  age = \u001b[32mcol_double()\u001b[39m,\n",
      "  number_credits = \u001b[32mcol_double()\u001b[39m,\n",
      "  people_liable = \u001b[32mcol_double()\u001b[39m,\n",
      "  credit_risk = \u001b[32mcol_double()\u001b[39m\n",
      ")\n",
      "\u001b[36mℹ\u001b[39m Use \u001b[30m\u001b[47m\u001b[30m\u001b[47m`spec()`\u001b[47m\u001b[30m\u001b[49m\u001b[39m for the full column specifications.\n",
      "\n",
      "\n"
     ]
    }
   ],
   "source": [
    "library(tidyverse)\n",
    "url=\"https://ist387.s3.us-east-2.amazonaws.com/data/GermanCredit.csv\"\n",
    "credit <- read_csv(url)"
   ]
  },
  {
   "cell_type": "markdown",
   "metadata": {},
   "source": [
    "It's always a good idea to inspect the dataframe we'll be working with and get an idea about the variables stored in it:"
   ]
  },
  {
   "cell_type": "code",
   "execution_count": 3,
   "metadata": {},
   "outputs": [
    {
     "data": {
      "text/html": [
       "<table>\n",
       "<caption>A tibble: 6 × 21</caption>\n",
       "<thead>\n",
       "\t<tr><th scope=col>status</th><th scope=col>duration</th><th scope=col>credit_history</th><th scope=col>purpose</th><th scope=col>amount</th><th scope=col>savings</th><th scope=col>employment_duration</th><th scope=col>installment_rate</th><th scope=col>personal_status_sex</th><th scope=col>other_debtors</th><th scope=col>⋯</th><th scope=col>property</th><th scope=col>age</th><th scope=col>other_installment_plans</th><th scope=col>housing</th><th scope=col>number_credits</th><th scope=col>job</th><th scope=col>people_liable</th><th scope=col>telephone</th><th scope=col>foreign_worker</th><th scope=col>credit_risk</th></tr>\n",
       "\t<tr><th scope=col>&lt;chr&gt;</th><th scope=col>&lt;dbl&gt;</th><th scope=col>&lt;chr&gt;</th><th scope=col>&lt;chr&gt;</th><th scope=col>&lt;dbl&gt;</th><th scope=col>&lt;chr&gt;</th><th scope=col>&lt;chr&gt;</th><th scope=col>&lt;dbl&gt;</th><th scope=col>&lt;chr&gt;</th><th scope=col>&lt;chr&gt;</th><th scope=col>⋯</th><th scope=col>&lt;chr&gt;</th><th scope=col>&lt;dbl&gt;</th><th scope=col>&lt;chr&gt;</th><th scope=col>&lt;chr&gt;</th><th scope=col>&lt;dbl&gt;</th><th scope=col>&lt;chr&gt;</th><th scope=col>&lt;dbl&gt;</th><th scope=col>&lt;chr&gt;</th><th scope=col>&lt;chr&gt;</th><th scope=col>&lt;dbl&gt;</th></tr>\n",
       "</thead>\n",
       "<tbody>\n",
       "\t<tr><td><span style=white-space:pre-wrap>... &lt; 100 DM       </span></td><td> 6</td><td>critical account/other credits existing </td><td>domestic appliances</td><td>1169</td><td>unknown/no savings account</td><td><span style=white-space:pre-wrap>... &gt;= 7 years    </span></td><td>4</td><td><span style=white-space:pre-wrap>male : single                      </span></td><td><span style=white-space:pre-wrap>none     </span></td><td>⋯</td><td><span style=white-space:pre-wrap>real estate                                      </span></td><td>67</td><td>none</td><td><span style=white-space:pre-wrap>own     </span></td><td>2</td><td>skilled employee/official</td><td>1</td><td>yes</td><td>yes</td><td>1</td></tr>\n",
       "\t<tr><td><span style=white-space:pre-wrap>0 &lt;= ... &lt; 200 DM  </span></td><td>48</td><td>existing credits paid back duly till now</td><td>domestic appliances</td><td>5951</td><td><span style=white-space:pre-wrap>... &lt; 100 DM              </span></td><td>1 &lt;= ... &lt; 4 years</td><td>2</td><td>female : divorced/separated/married</td><td><span style=white-space:pre-wrap>none     </span></td><td>⋯</td><td><span style=white-space:pre-wrap>real estate                                      </span></td><td>22</td><td>none</td><td><span style=white-space:pre-wrap>own     </span></td><td>1</td><td>skilled employee/official</td><td>1</td><td>no </td><td>yes</td><td>0</td></tr>\n",
       "\t<tr><td>no checking account</td><td>12</td><td>critical account/other credits existing </td><td><span style=white-space:pre-wrap>retraining         </span></td><td>2096</td><td><span style=white-space:pre-wrap>... &lt; 100 DM              </span></td><td>4 &lt;= ... &lt; 7 years</td><td>2</td><td><span style=white-space:pre-wrap>male : single                      </span></td><td><span style=white-space:pre-wrap>none     </span></td><td>⋯</td><td><span style=white-space:pre-wrap>real estate                                      </span></td><td>49</td><td>none</td><td><span style=white-space:pre-wrap>own     </span></td><td>1</td><td><span style=white-space:pre-wrap>unskilled - resident     </span></td><td>2</td><td>no </td><td>yes</td><td>1</td></tr>\n",
       "\t<tr><td><span style=white-space:pre-wrap>... &lt; 100 DM       </span></td><td>42</td><td>existing credits paid back duly till now</td><td><span style=white-space:pre-wrap>radio/television   </span></td><td>7882</td><td><span style=white-space:pre-wrap>... &lt; 100 DM              </span></td><td>4 &lt;= ... &lt; 7 years</td><td>2</td><td><span style=white-space:pre-wrap>male : single                      </span></td><td>guarantor</td><td>⋯</td><td>building society savings agreement/life insurance</td><td>45</td><td>none</td><td>for free</td><td>1</td><td>skilled employee/official</td><td>2</td><td>no </td><td>yes</td><td>1</td></tr>\n",
       "\t<tr><td><span style=white-space:pre-wrap>... &lt; 100 DM       </span></td><td>24</td><td><span style=white-space:pre-wrap>delay in paying off in the past         </span></td><td><span style=white-space:pre-wrap>car (new)          </span></td><td>4870</td><td><span style=white-space:pre-wrap>... &lt; 100 DM              </span></td><td>1 &lt;= ... &lt; 4 years</td><td>3</td><td><span style=white-space:pre-wrap>male : single                      </span></td><td><span style=white-space:pre-wrap>none     </span></td><td>⋯</td><td><span style=white-space:pre-wrap>unknown/no property                              </span></td><td>53</td><td>none</td><td>for free</td><td>2</td><td>skilled employee/official</td><td>2</td><td>no </td><td>yes</td><td>0</td></tr>\n",
       "\t<tr><td>no checking account</td><td>36</td><td>existing credits paid back duly till now</td><td><span style=white-space:pre-wrap>retraining         </span></td><td>9055</td><td>unknown/no savings account</td><td>1 &lt;= ... &lt; 4 years</td><td>2</td><td><span style=white-space:pre-wrap>male : single                      </span></td><td><span style=white-space:pre-wrap>none     </span></td><td>⋯</td><td><span style=white-space:pre-wrap>unknown/no property                              </span></td><td>35</td><td>none</td><td>for free</td><td>1</td><td><span style=white-space:pre-wrap>unskilled - resident     </span></td><td>2</td><td>yes</td><td>yes</td><td>1</td></tr>\n",
       "</tbody>\n",
       "</table>\n"
      ],
      "text/latex": [
       "A tibble: 6 × 21\n",
       "\\begin{tabular}{lllllllllllllllllllll}\n",
       " status & duration & credit\\_history & purpose & amount & savings & employment\\_duration & installment\\_rate & personal\\_status\\_sex & other\\_debtors & ⋯ & property & age & other\\_installment\\_plans & housing & number\\_credits & job & people\\_liable & telephone & foreign\\_worker & credit\\_risk\\\\\n",
       " <chr> & <dbl> & <chr> & <chr> & <dbl> & <chr> & <chr> & <dbl> & <chr> & <chr> & ⋯ & <chr> & <dbl> & <chr> & <chr> & <dbl> & <chr> & <dbl> & <chr> & <chr> & <dbl>\\\\\n",
       "\\hline\n",
       "\t ... < 100 DM        &  6 & critical account/other credits existing  & domestic appliances & 1169 & unknown/no savings account & ... >= 7 years     & 4 & male : single                       & none      & ⋯ & real estate                                       & 67 & none & own      & 2 & skilled employee/official & 1 & yes & yes & 1\\\\\n",
       "\t 0 <= ... < 200 DM   & 48 & existing credits paid back duly till now & domestic appliances & 5951 & ... < 100 DM               & 1 <= ... < 4 years & 2 & female : divorced/separated/married & none      & ⋯ & real estate                                       & 22 & none & own      & 1 & skilled employee/official & 1 & no  & yes & 0\\\\\n",
       "\t no checking account & 12 & critical account/other credits existing  & retraining          & 2096 & ... < 100 DM               & 4 <= ... < 7 years & 2 & male : single                       & none      & ⋯ & real estate                                       & 49 & none & own      & 1 & unskilled - resident      & 2 & no  & yes & 1\\\\\n",
       "\t ... < 100 DM        & 42 & existing credits paid back duly till now & radio/television    & 7882 & ... < 100 DM               & 4 <= ... < 7 years & 2 & male : single                       & guarantor & ⋯ & building society savings agreement/life insurance & 45 & none & for free & 1 & skilled employee/official & 2 & no  & yes & 1\\\\\n",
       "\t ... < 100 DM        & 24 & delay in paying off in the past          & car (new)           & 4870 & ... < 100 DM               & 1 <= ... < 4 years & 3 & male : single                       & none      & ⋯ & unknown/no property                               & 53 & none & for free & 2 & skilled employee/official & 2 & no  & yes & 0\\\\\n",
       "\t no checking account & 36 & existing credits paid back duly till now & retraining          & 9055 & unknown/no savings account & 1 <= ... < 4 years & 2 & male : single                       & none      & ⋯ & unknown/no property                               & 35 & none & for free & 1 & unskilled - resident      & 2 & yes & yes & 1\\\\\n",
       "\\end{tabular}\n"
      ],
      "text/markdown": [
       "\n",
       "A tibble: 6 × 21\n",
       "\n",
       "| status &lt;chr&gt; | duration &lt;dbl&gt; | credit_history &lt;chr&gt; | purpose &lt;chr&gt; | amount &lt;dbl&gt; | savings &lt;chr&gt; | employment_duration &lt;chr&gt; | installment_rate &lt;dbl&gt; | personal_status_sex &lt;chr&gt; | other_debtors &lt;chr&gt; | ⋯ ⋯ | property &lt;chr&gt; | age &lt;dbl&gt; | other_installment_plans &lt;chr&gt; | housing &lt;chr&gt; | number_credits &lt;dbl&gt; | job &lt;chr&gt; | people_liable &lt;dbl&gt; | telephone &lt;chr&gt; | foreign_worker &lt;chr&gt; | credit_risk &lt;dbl&gt; |\n",
       "|---|---|---|---|---|---|---|---|---|---|---|---|---|---|---|---|---|---|---|---|---|\n",
       "| ... &lt; 100 DM        |  6 | critical account/other credits existing  | domestic appliances | 1169 | unknown/no savings account | ... &gt;= 7 years     | 4 | male : single                       | none      | ⋯ | real estate                                       | 67 | none | own      | 2 | skilled employee/official | 1 | yes | yes | 1 |\n",
       "| 0 &lt;= ... &lt; 200 DM   | 48 | existing credits paid back duly till now | domestic appliances | 5951 | ... &lt; 100 DM               | 1 &lt;= ... &lt; 4 years | 2 | female : divorced/separated/married | none      | ⋯ | real estate                                       | 22 | none | own      | 1 | skilled employee/official | 1 | no  | yes | 0 |\n",
       "| no checking account | 12 | critical account/other credits existing  | retraining          | 2096 | ... &lt; 100 DM               | 4 &lt;= ... &lt; 7 years | 2 | male : single                       | none      | ⋯ | real estate                                       | 49 | none | own      | 1 | unskilled - resident      | 2 | no  | yes | 1 |\n",
       "| ... &lt; 100 DM        | 42 | existing credits paid back duly till now | radio/television    | 7882 | ... &lt; 100 DM               | 4 &lt;= ... &lt; 7 years | 2 | male : single                       | guarantor | ⋯ | building society savings agreement/life insurance | 45 | none | for free | 1 | skilled employee/official | 2 | no  | yes | 1 |\n",
       "| ... &lt; 100 DM        | 24 | delay in paying off in the past          | car (new)           | 4870 | ... &lt; 100 DM               | 1 &lt;= ... &lt; 4 years | 3 | male : single                       | none      | ⋯ | unknown/no property                               | 53 | none | for free | 2 | skilled employee/official | 2 | no  | yes | 0 |\n",
       "| no checking account | 36 | existing credits paid back duly till now | retraining          | 9055 | unknown/no savings account | 1 &lt;= ... &lt; 4 years | 2 | male : single                       | none      | ⋯ | unknown/no property                               | 35 | none | for free | 1 | unskilled - resident      | 2 | yes | yes | 1 |\n",
       "\n"
      ],
      "text/plain": [
       "  status              duration credit_history                          \n",
       "1 ... < 100 DM         6       critical account/other credits existing \n",
       "2 0 <= ... < 200 DM   48       existing credits paid back duly till now\n",
       "3 no checking account 12       critical account/other credits existing \n",
       "4 ... < 100 DM        42       existing credits paid back duly till now\n",
       "5 ... < 100 DM        24       delay in paying off in the past         \n",
       "6 no checking account 36       existing credits paid back duly till now\n",
       "  purpose             amount savings                    employment_duration\n",
       "1 domestic appliances 1169   unknown/no savings account ... >= 7 years     \n",
       "2 domestic appliances 5951   ... < 100 DM               1 <= ... < 4 years \n",
       "3 retraining          2096   ... < 100 DM               4 <= ... < 7 years \n",
       "4 radio/television    7882   ... < 100 DM               4 <= ... < 7 years \n",
       "5 car (new)           4870   ... < 100 DM               1 <= ... < 4 years \n",
       "6 retraining          9055   unknown/no savings account 1 <= ... < 4 years \n",
       "  installment_rate personal_status_sex                 other_debtors ⋯\n",
       "1 4                male : single                       none          ⋯\n",
       "2 2                female : divorced/separated/married none          ⋯\n",
       "3 2                male : single                       none          ⋯\n",
       "4 2                male : single                       guarantor     ⋯\n",
       "5 3                male : single                       none          ⋯\n",
       "6 2                male : single                       none          ⋯\n",
       "  property                                          age other_installment_plans\n",
       "1 real estate                                       67  none                   \n",
       "2 real estate                                       22  none                   \n",
       "3 real estate                                       49  none                   \n",
       "4 building society savings agreement/life insurance 45  none                   \n",
       "5 unknown/no property                               53  none                   \n",
       "6 unknown/no property                               35  none                   \n",
       "  housing  number_credits job                       people_liable telephone\n",
       "1 own      2              skilled employee/official 1             yes      \n",
       "2 own      1              skilled employee/official 1             no       \n",
       "3 own      1              unskilled - resident      2             no       \n",
       "4 for free 1              skilled employee/official 2             no       \n",
       "5 for free 2              skilled employee/official 2             no       \n",
       "6 for free 1              unskilled - resident      2             yes      \n",
       "  foreign_worker credit_risk\n",
       "1 yes            1          \n",
       "2 yes            0          \n",
       "3 yes            1          \n",
       "4 yes            1          \n",
       "5 yes            0          \n",
       "6 yes            1          "
      ]
     },
     "metadata": {},
     "output_type": "display_data"
    }
   ],
   "source": [
    "head(credit)"
   ]
  },
  {
   "cell_type": "markdown",
   "metadata": {},
   "source": [
    "We will use another banking dataset to train an SVM model to classify potential borrowers into 2 groups of credit risk – **reliable borrowers** and **borrowers posing a risk**. You can learn more about the variables in the dataset here:\n",
    "https://archive.ics.uci.edu/ml/datasets/Statlog+%28German+Credit+Data%29\n",
    "\n",
    "SVM needs numerical predictors (known in machine learning as **features**) to make a prediction about good vs. bad credit. Therefore, let's create a **subset** of **credit** which contains only the variable we are trying to predict and the numerical variables in the data:"
   ]
  },
  {
   "cell_type": "code",
   "execution_count": 4,
   "metadata": {},
   "outputs": [],
   "source": [
    "cred <- data.frame(duration=credit$duration, \n",
    "                   amount=credit$amount, \n",
    "                   installment_rate=credit$installment_rate, \n",
    "                   present_residence=credit$present_residence, \n",
    "                   age=credit$age, \n",
    "                   credit_history=credit$number_credits, \n",
    "                   people_liable=credit$people_liable, \n",
    "                   credit_risk=as.factor(credit$credit_risk))"
   ]
  },
  {
   "cell_type": "markdown",
   "metadata": {},
   "source": [
    "Let's take a look at this new dataframe, **cred**:"
   ]
  },
  {
   "cell_type": "code",
   "execution_count": 5,
   "metadata": {},
   "outputs": [
    {
     "data": {
      "text/html": [
       "<table>\n",
       "<caption>A data.frame: 6 × 8</caption>\n",
       "<thead>\n",
       "\t<tr><th></th><th scope=col>duration</th><th scope=col>amount</th><th scope=col>installment_rate</th><th scope=col>present_residence</th><th scope=col>age</th><th scope=col>credit_history</th><th scope=col>people_liable</th><th scope=col>credit_risk</th></tr>\n",
       "\t<tr><th></th><th scope=col>&lt;dbl&gt;</th><th scope=col>&lt;dbl&gt;</th><th scope=col>&lt;dbl&gt;</th><th scope=col>&lt;dbl&gt;</th><th scope=col>&lt;dbl&gt;</th><th scope=col>&lt;dbl&gt;</th><th scope=col>&lt;dbl&gt;</th><th scope=col>&lt;fct&gt;</th></tr>\n",
       "</thead>\n",
       "<tbody>\n",
       "\t<tr><th scope=row>1</th><td> 6</td><td>1169</td><td>4</td><td>4</td><td>67</td><td>2</td><td>1</td><td>1</td></tr>\n",
       "\t<tr><th scope=row>2</th><td>48</td><td>5951</td><td>2</td><td>2</td><td>22</td><td>1</td><td>1</td><td>0</td></tr>\n",
       "\t<tr><th scope=row>3</th><td>12</td><td>2096</td><td>2</td><td>3</td><td>49</td><td>1</td><td>2</td><td>1</td></tr>\n",
       "\t<tr><th scope=row>4</th><td>42</td><td>7882</td><td>2</td><td>4</td><td>45</td><td>1</td><td>2</td><td>1</td></tr>\n",
       "\t<tr><th scope=row>5</th><td>24</td><td>4870</td><td>3</td><td>4</td><td>53</td><td>2</td><td>2</td><td>0</td></tr>\n",
       "\t<tr><th scope=row>6</th><td>36</td><td>9055</td><td>2</td><td>4</td><td>35</td><td>1</td><td>2</td><td>1</td></tr>\n",
       "</tbody>\n",
       "</table>\n"
      ],
      "text/latex": [
       "A data.frame: 6 × 8\n",
       "\\begin{tabular}{r|llllllll}\n",
       "  & duration & amount & installment\\_rate & present\\_residence & age & credit\\_history & people\\_liable & credit\\_risk\\\\\n",
       "  & <dbl> & <dbl> & <dbl> & <dbl> & <dbl> & <dbl> & <dbl> & <fct>\\\\\n",
       "\\hline\n",
       "\t1 &  6 & 1169 & 4 & 4 & 67 & 2 & 1 & 1\\\\\n",
       "\t2 & 48 & 5951 & 2 & 2 & 22 & 1 & 1 & 0\\\\\n",
       "\t3 & 12 & 2096 & 2 & 3 & 49 & 1 & 2 & 1\\\\\n",
       "\t4 & 42 & 7882 & 2 & 4 & 45 & 1 & 2 & 1\\\\\n",
       "\t5 & 24 & 4870 & 3 & 4 & 53 & 2 & 2 & 0\\\\\n",
       "\t6 & 36 & 9055 & 2 & 4 & 35 & 1 & 2 & 1\\\\\n",
       "\\end{tabular}\n"
      ],
      "text/markdown": [
       "\n",
       "A data.frame: 6 × 8\n",
       "\n",
       "| <!--/--> | duration &lt;dbl&gt; | amount &lt;dbl&gt; | installment_rate &lt;dbl&gt; | present_residence &lt;dbl&gt; | age &lt;dbl&gt; | credit_history &lt;dbl&gt; | people_liable &lt;dbl&gt; | credit_risk &lt;fct&gt; |\n",
       "|---|---|---|---|---|---|---|---|---|\n",
       "| 1 |  6 | 1169 | 4 | 4 | 67 | 2 | 1 | 1 |\n",
       "| 2 | 48 | 5951 | 2 | 2 | 22 | 1 | 1 | 0 |\n",
       "| 3 | 12 | 2096 | 2 | 3 | 49 | 1 | 2 | 1 |\n",
       "| 4 | 42 | 7882 | 2 | 4 | 45 | 1 | 2 | 1 |\n",
       "| 5 | 24 | 4870 | 3 | 4 | 53 | 2 | 2 | 0 |\n",
       "| 6 | 36 | 9055 | 2 | 4 | 35 | 1 | 2 | 1 |\n",
       "\n"
      ],
      "text/plain": [
       "  duration amount installment_rate present_residence age credit_history\n",
       "1  6       1169   4                4                 67  2             \n",
       "2 48       5951   2                2                 22  1             \n",
       "3 12       2096   2                3                 49  1             \n",
       "4 42       7882   2                4                 45  1             \n",
       "5 24       4870   3                4                 53  2             \n",
       "6 36       9055   2                4                 35  1             \n",
       "  people_liable credit_risk\n",
       "1 1             1          \n",
       "2 1             0          \n",
       "3 2             1          \n",
       "4 2             1          \n",
       "5 2             0          \n",
       "6 2             1          "
      ]
     },
     "metadata": {},
     "output_type": "display_data"
    }
   ],
   "source": [
    "head(cred)"
   ]
  },
  {
   "cell_type": "markdown",
   "metadata": {},
   "source": [
    "We can see that all the variables except **credit_risk** - the one we are trying to predict - contain numbers.\n",
    "\n",
    "Our next task is to create the so-called train-test split, i.e. split our **cred** data into a **train set** and a **test set** by randomly selecting 70 percent of the indices from **cred** and using them to subset from it to create a **train set**, while using the remaining 30 percent for the **test set**: "
   ]
  },
  {
   "cell_type": "code",
   "execution_count": 10,
   "metadata": {},
   "outputs": [],
   "source": [
    "trainList <- createDataPartition(y=cred$credit_risk, p=.70, list=FALSE)\n",
    "trainSet <- cred[trainList,]\n",
    "testSet <- cred[-trainList,]"
   ]
  },
  {
   "cell_type": "markdown",
   "metadata": {},
   "source": [
    "We can use the **dim()** function on each new dataset to ensure we enacted a 70:30 split:"
   ]
  },
  {
   "cell_type": "code",
   "execution_count": 11,
   "metadata": {},
   "outputs": [
    {
     "data": {
      "text/html": [
       "<style>\n",
       ".list-inline {list-style: none; margin:0; padding: 0}\n",
       ".list-inline>li {display: inline-block}\n",
       ".list-inline>li:not(:last-child)::after {content: \"\\00b7\"; padding: 0 .5ex}\n",
       "</style>\n",
       "<ol class=list-inline><li>700</li><li>8</li></ol>\n"
      ],
      "text/latex": [
       "\\begin{enumerate*}\n",
       "\\item 700\n",
       "\\item 8\n",
       "\\end{enumerate*}\n"
      ],
      "text/markdown": [
       "1. 700\n",
       "2. 8\n",
       "\n",
       "\n"
      ],
      "text/plain": [
       "[1] 700   8"
      ]
     },
     "metadata": {},
     "output_type": "display_data"
    },
    {
     "data": {
      "text/html": [
       "<style>\n",
       ".list-inline {list-style: none; margin:0; padding: 0}\n",
       ".list-inline>li {display: inline-block}\n",
       ".list-inline>li:not(:last-child)::after {content: \"\\00b7\"; padding: 0 .5ex}\n",
       "</style>\n",
       "<ol class=list-inline><li>300</li><li>8</li></ol>\n"
      ],
      "text/latex": [
       "\\begin{enumerate*}\n",
       "\\item 300\n",
       "\\item 8\n",
       "\\end{enumerate*}\n"
      ],
      "text/markdown": [
       "1. 300\n",
       "2. 8\n",
       "\n",
       "\n"
      ],
      "text/plain": [
       "[1] 300   8"
      ]
     },
     "metadata": {},
     "output_type": "display_data"
    }
   ],
   "source": [
    "dim(trainSet)\n",
    "dim(testSet)"
   ]
  },
  {
   "cell_type": "markdown",
   "metadata": {},
   "source": [
    "We are now ready to **train** an SVM model by exposing it to the **train set** and letting it **learn** from its data. Remember to install and library the **kernlab** and **caret** packages if you haven't done so already: "
   ]
  },
  {
   "cell_type": "code",
   "execution_count": 12,
   "metadata": {},
   "outputs": [
    {
     "data": {
      "text/plain": [
       "Support Vector Machine object of class \"ksvm\" \n",
       "\n",
       "SV type: C-svc  (classification) \n",
       " parameter : cost C = 5 \n",
       "\n",
       "Gaussian Radial Basis kernel function. \n",
       " Hyperparameter : sigma =  0.127447825748301 \n",
       "\n",
       "Number of Support Vectors : 439 \n",
       "\n",
       "Objective Function Value : -1703.19 \n",
       "Training error : 0.211429 \n",
       "Cross validation error : 0.282815 \n",
       "Probability model included. "
      ]
     },
     "metadata": {},
     "output_type": "display_data"
    }
   ],
   "source": [
    "ksvm(credit_risk ~ ., data=trainSet, kernel= \"rbfdot\", kpar = \"automatic\", \n",
    "     C = 5, cross = 3, prob.model = TRUE)"
   ]
  },
  {
   "cell_type": "markdown",
   "metadata": {},
   "source": [
    "The most important arguments from the **ksvm()** function which creates the SVM model are **C** and **cross**. As we mentioned in the Week 12 slides, **C** is a **cost parameter** which determines how much your model should be penalized for a misclassification, aka an **error** in its work. You can learn more about **cross(validation)** here: https://towardsdatascience.com/cross-validation-explained-evaluating-estimator-performance-e51e5430ff85"
   ]
  },
  {
   "cell_type": "markdown",
   "metadata": {},
   "source": [
    "The output of the model lets you assess important SVM-related statistics; the most critical one we are interested in is the value of the **cross validation** error because it tells us about the quality of our model - the lower, the better, but with this dataset, it's around 30 percent. To be able to use our model in the future though, especially for classifying new cases, we need to store it in a variable. Let's store the model in a variable called **svmOut** - your results may slightly differ from the model we ran above because of the inherent randomness of the model's activation:"
   ]
  },
  {
   "cell_type": "code",
   "execution_count": 13,
   "metadata": {},
   "outputs": [
    {
     "data": {
      "text/plain": [
       "Support Vector Machine object of class \"ksvm\" \n",
       "\n",
       "SV type: C-svc  (classification) \n",
       " parameter : cost C = 5 \n",
       "\n",
       "Gaussian Radial Basis kernel function. \n",
       " Hyperparameter : sigma =  0.132716033630377 \n",
       "\n",
       "Number of Support Vectors : 441 \n",
       "\n",
       "Objective Function Value : -1689.346 \n",
       "Training error : 0.21 \n",
       "Cross validation error : 0.294303 \n",
       "Probability model included. "
      ]
     },
     "metadata": {},
     "output_type": "display_data"
    }
   ],
   "source": [
    "svmOut <- ksvm(credit_risk ~ ., data=trainSet, kernel= \"rbfdot\", kpar = \"automatic\", \n",
    "               C = 5, cross = 3, prob.model = TRUE)\n",
    "\n",
    "svmOut"
   ]
  },
  {
   "cell_type": "markdown",
   "metadata": {},
   "source": [
    "Now comes the interesting part. So far, our model was simply learning from the **train set** - it was shown the numeric predictors and then the **correct answer** in the face of the outcome variable, **credit risk**, so it was able to identify certain patterns between the predictors and the outcome. The real test comes when we only show it the predictors and force it to guess the correct outcome. We do this with the **predict()** function and the **test set**:"
   ]
  },
  {
   "cell_type": "code",
   "execution_count": 14,
   "metadata": {},
   "outputs": [],
   "source": [
    "svmPred <- predict(svmOut, # use the built model \"svmOutput\" to predict \n",
    "                   testSet, # use testData to generate predictions\n",
    "                   type = \"response\" # request \"votes\" from the prediction process\n",
    ")"
   ]
  },
  {
   "cell_type": "markdown",
   "metadata": {},
   "source": [
    "As you can see, we've saved our work in a vector called **svmPred**, let's take a look at it:"
   ]
  },
  {
   "cell_type": "code",
   "execution_count": 15,
   "metadata": {},
   "outputs": [
    {
     "data": {
      "text/html": [
       "<style>\n",
       ".list-inline {list-style: none; margin:0; padding: 0}\n",
       ".list-inline>li {display: inline-block}\n",
       ".list-inline>li:not(:last-child)::after {content: \"\\00b7\"; padding: 0 .5ex}\n",
       "</style>\n",
       "<ol class=list-inline><li>1</li><li>1</li><li>1</li><li>1</li><li>0</li><li>1</li></ol>\n",
       "\n",
       "<details>\n",
       "\t<summary style=display:list-item;cursor:pointer>\n",
       "\t\t<strong>Levels</strong>:\n",
       "\t</summary>\n",
       "\t<style>\n",
       "\t.list-inline {list-style: none; margin:0; padding: 0}\n",
       "\t.list-inline>li {display: inline-block}\n",
       "\t.list-inline>li:not(:last-child)::after {content: \"\\00b7\"; padding: 0 .5ex}\n",
       "\t</style>\n",
       "\t<ol class=list-inline><li>'0'</li><li>'1'</li></ol>\n",
       "</details>"
      ],
      "text/latex": [
       "\\begin{enumerate*}\n",
       "\\item 1\n",
       "\\item 1\n",
       "\\item 1\n",
       "\\item 1\n",
       "\\item 0\n",
       "\\item 1\n",
       "\\end{enumerate*}\n",
       "\n",
       "\\emph{Levels}: \\begin{enumerate*}\n",
       "\\item '0'\n",
       "\\item '1'\n",
       "\\end{enumerate*}\n"
      ],
      "text/markdown": [
       "1. 1\n",
       "2. 1\n",
       "3. 1\n",
       "4. 1\n",
       "5. 0\n",
       "6. 1\n",
       "\n",
       "\n",
       "\n",
       "**Levels**: 1. '0'\n",
       "2. '1'\n",
       "\n",
       "\n"
      ],
      "text/plain": [
       "[1] 1 1 1 1 0 1\n",
       "Levels: 0 1"
      ]
     },
     "metadata": {},
     "output_type": "display_data"
    }
   ],
   "source": [
    "head(svmPred)"
   ]
  },
  {
   "cell_type": "markdown",
   "metadata": {},
   "source": [
    "It contains just 0s and 1s because this is how our outcome variable, **credit risk**, is formatted. Essentially, for each observation in the **test set**, the model made a prediction - good credit or bad credit, and saved its prediction in **svmPred**. To see how well it performed, we use the so-called **confusion matrix** which compares the answers the model gave against the actual answers we have in the **test set**: "
   ]
  },
  {
   "cell_type": "code",
   "execution_count": 16,
   "metadata": {},
   "outputs": [
    {
     "data": {
      "text/plain": [
       "   svmPred\n",
       "      0   1\n",
       "  0  18  72\n",
       "  1  22 188"
      ]
     },
     "metadata": {},
     "output_type": "display_data"
    }
   ],
   "source": [
    "table(testSet$credit_risk,svmPred)"
   ]
  },
  {
   "cell_type": "markdown",
   "metadata": {},
   "source": [
    "I will explain how the confusion matrix works in class, but if you forget, check out this brief article which explains it nicely: https://towardsdatascience.com/understanding-confusion-matrix-a9ad42dcfd62\n",
    "There is a way to generate the same confusion matrix directly from the **caret** package, plus the **e1071** package - you should get the same results:"
   ]
  },
  {
   "cell_type": "code",
   "execution_count": 18,
   "metadata": {},
   "outputs": [
    {
     "name": "stderr",
     "output_type": "stream",
     "text": [
      "Updating HTML index of packages in '.Library'\n",
      "\n",
      "Making 'packages.html' ...\n",
      " done\n",
      "\n"
     ]
    },
    {
     "data": {
      "text/plain": [
       "Confusion Matrix and Statistics\n",
       "\n",
       "          Reference\n",
       "Prediction   0   1\n",
       "         0  18  72\n",
       "         1  22 188\n",
       "                                          \n",
       "               Accuracy : 0.6867          \n",
       "                 95% CI : (0.6309, 0.7387)\n",
       "    No Information Rate : 0.8667          \n",
       "    P-Value [Acc > NIR] : 1               \n",
       "                                          \n",
       "                  Kappa : 0.1132          \n",
       "                                          \n",
       " Mcnemar's Test P-Value : 4.327e-07       \n",
       "                                          \n",
       "            Sensitivity : 0.4500          \n",
       "            Specificity : 0.7231          \n",
       "         Pos Pred Value : 0.2000          \n",
       "         Neg Pred Value : 0.8952          \n",
       "             Prevalence : 0.1333          \n",
       "         Detection Rate : 0.0600          \n",
       "   Detection Prevalence : 0.3000          \n",
       "      Balanced Accuracy : 0.5865          \n",
       "                                          \n",
       "       'Positive' Class : 0               \n",
       "                                          "
      ]
     },
     "metadata": {},
     "output_type": "display_data"
    }
   ],
   "source": [
    "install.packages('e1071')\n",
    "library(e1071)\n",
    "confusionMatrix(testSet$credit_risk, svmPred)"
   ]
  }
 ],
 "metadata": {
  "kernelspec": {
   "display_name": "R",
   "language": "R",
   "name": "ir"
  },
  "language_info": {
   "codemirror_mode": "r",
   "file_extension": ".r",
   "mimetype": "text/x-r-source",
   "name": "R",
   "pygments_lexer": "r",
   "version": "4.0.3"
  }
 },
 "nbformat": 4,
 "nbformat_minor": 4
}
