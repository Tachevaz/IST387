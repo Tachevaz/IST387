{
 "cells": [
  {
   "cell_type": "markdown",
   "metadata": {
    "slideshow": {
     "slide_type": "slide"
    }
   },
   "source": [
    "# IST 387: Week 2\n",
    "\n",
    "## Data and Dataframes\n",
    "\n",
    "### Today:\n",
    "\n",
    "- Data science vs. data analytics\n",
    "- Workflow of a data science project\n",
    "- How does R store data?\n",
    "- Basic dataframe operations\n",
    "\n"
   ]
  },
  {
   "cell_type": "markdown",
   "metadata": {
    "slideshow": {
     "slide_type": "slide"
    }
   },
   "source": [
    "# Data Science vs. Data Analytics - What's the Difference?\n",
    "\n",
    "Data analytics: <br>\n",
    "- examines large data sets to identify trends, develop charts, and create visual presentations to aid decision-making\n",
    "- draws insights from analyzing existing data\n",
    "- typical skills: data mining, database management, statistical analysis\n",
    "\n",
    "Data science:\n",
    "- designs and deploys new processes for data modeling and production using prototypes, algorithms, predictive models, and custom analysis.\n",
    "- makes inferences about the unknown\n",
    "- typical skills: data anlytics skills + machine learning & software development"
   ]
  },
  {
   "cell_type": "markdown",
   "metadata": {},
   "source": [
    "# Workflow of a data science project\n",
    "\n",
    "<img src=\"https://ist387.s3.us-east-2.amazonaws.com/images/How%2Bto%2Bstart%2Byour%2Bfirst%2Bdata%2Bscience%2Bproject.png\">"
   ]
  },
  {
   "cell_type": "markdown",
   "metadata": {
    "slideshow": {
     "slide_type": "slide"
    }
   },
   "source": [
    "# Step 1: What problem would you like to solve?\n",
    "\n",
    "- Strive for an impactful solution to an important problem\n",
    "- Using data science for social good is becoming increasingly important\n",
    "- The problem you identify will give you a clue about the data you need to solve it\n",
    "\n",
    "## \"Don't suggest autonmating anything if you haven't thought carefully about ethics\" *DataKind*\n",
    "\n"
   ]
  },
  {
   "cell_type": "markdown",
   "metadata": {
    "slideshow": {
     "slide_type": "slide"
    }
   },
   "source": [
    "# Step 2: Decide what data to collect\n",
    "- Does the data already exist (secondary/archival data) or do you need to generate it (survey/ethnography, etc.)?\n",
    "- Before you think globally, start local\n",
    "- Consider open-source, publicly available data\n",
    "\n"
   ]
  },
  {
   "cell_type": "markdown",
   "metadata": {
    "slideshow": {
     "slide_type": "slide"
    }
   },
   "source": [
    "# Step 3: Collect Data\n",
    "\n",
    "## Some critical questions to ask of datasets\n",
    "\n",
    "- What does the dataset represent?\n",
    "- Where did the data come from? Is the data source credible?\n",
    "- How was it collected and entered?\n",
    "- How confident are you in your understanding of the data?\n",
    "- What biases could be baked into the data?\n",
    "- How might these deficiencies influence the project outcomes?"
   ]
  },
  {
   "cell_type": "markdown",
   "metadata": {
    "slideshow": {
     "slide_type": "slide"
    }
   },
   "source": [
    "# Step 4: Exploratory Data Analysis (EDA)\n",
    "\n",
    "- What kind of data is there in the dataset?\n",
    "- What is the distribution of the data?\n",
    "- How do different variables relate to each other?\n"
   ]
  },
  {
   "cell_type": "markdown",
   "metadata": {
    "slideshow": {
     "slide_type": "slide"
    }
   },
   "source": [
    "# We will tackle the remaining steps throughout the semester but for now...\n",
    "\n",
    "## Consider these ethical guidelines:\n",
    "\n",
    "- Ethics and **\"response-ability\"** are a process, not a destination! \n",
    "- Account for vulnerable stakeholders (anyone who could possibly be impacted by your project)\n",
    "- Discuss the values your algorithm does or does not embody\n",
    "- What's the worst thing that could happen, not just for you but also for your stakeholders?\n",
    "- Design ***with***, not *for*."
   ]
  },
  {
   "cell_type": "markdown",
   "metadata": {
    "slideshow": {
     "slide_type": "slide"
    }
   },
   "source": [
    "# How does R store data?\n",
    "\n",
    "- Last time, we talked about variables storing individual values, such as:\n"
   ]
  },
  {
   "cell_type": "code",
   "execution_count": 8,
   "metadata": {},
   "outputs": [],
   "source": [
    "x <- 5\n",
    "a <- \"Hi there!\"\n",
    "myVar <- FALSE"
   ]
  },
  {
   "cell_type": "code",
   "execution_count": 9,
   "metadata": {},
   "outputs": [
    {
     "data": {
      "text/html": [
       "20"
      ],
      "text/latex": [
       "20"
      ],
      "text/markdown": [
       "20"
      ],
      "text/plain": [
       "[1] 20"
      ]
     },
     "metadata": {},
     "output_type": "display_data"
    },
    {
     "data": {
      "text/html": [
       "1"
      ],
      "text/latex": [
       "1"
      ],
      "text/markdown": [
       "1"
      ],
      "text/plain": [
       "[1] 1"
      ]
     },
     "metadata": {},
     "output_type": "display_data"
    },
    {
     "data": {
      "text/html": [
       "FALSE"
      ],
      "text/latex": [
       "FALSE"
      ],
      "text/markdown": [
       "FALSE"
      ],
      "text/plain": [
       "[1] FALSE"
      ]
     },
     "metadata": {},
     "output_type": "display_data"
    }
   ],
   "source": [
    "x + 15\n",
    "length(a)\n",
    "isTRUE(myVar)"
   ]
  },
  {
   "cell_type": "markdown",
   "metadata": {
    "slideshow": {
     "slide_type": "slide"
    }
   },
   "source": [
    "# We even talked about...\n",
    "\n",
    "## Vectors!\n",
    "\n",
    "- 1-dimensional R objects storing multiple values bundled together:"
   ]
  },
  {
   "cell_type": "code",
   "execution_count": 11,
   "metadata": {},
   "outputs": [],
   "source": [
    "myVec <- c(15, 12, 67, 23)\n",
    "anotherVec <- c(\"Bei\", \"Preston\", \"Ray\", \"Malia\")\n",
    "thirdVec <- c(TRUE, TRUE, FALSE, TRUE)"
   ]
  },
  {
   "cell_type": "code",
   "execution_count": 12,
   "metadata": {},
   "outputs": [
    {
     "data": {
      "text/html": [
       "<style>\n",
       ".list-inline {list-style: none; margin:0; padding: 0}\n",
       ".list-inline>li {display: inline-block}\n",
       ".list-inline>li:not(:last-child)::after {content: \"\\00b7\"; padding: 0 .5ex}\n",
       "</style>\n",
       "<ol class=list-inline><li>15</li><li>12</li><li>67</li><li>23</li></ol>\n"
      ],
      "text/latex": [
       "\\begin{enumerate*}\n",
       "\\item 15\n",
       "\\item 12\n",
       "\\item 67\n",
       "\\item 23\n",
       "\\end{enumerate*}\n"
      ],
      "text/markdown": [
       "1. 15\n",
       "2. 12\n",
       "3. 67\n",
       "4. 23\n",
       "\n",
       "\n"
      ],
      "text/plain": [
       "[1] 15 12 67 23"
      ]
     },
     "metadata": {},
     "output_type": "display_data"
    },
    {
     "data": {
      "text/html": [
       "<style>\n",
       ".list-inline {list-style: none; margin:0; padding: 0}\n",
       ".list-inline>li {display: inline-block}\n",
       ".list-inline>li:not(:last-child)::after {content: \"\\00b7\"; padding: 0 .5ex}\n",
       "</style>\n",
       "<ol class=list-inline><li>'Bei'</li><li>'Preston'</li><li>'Ray'</li><li>'Malia'</li></ol>\n"
      ],
      "text/latex": [
       "\\begin{enumerate*}\n",
       "\\item 'Bei'\n",
       "\\item 'Preston'\n",
       "\\item 'Ray'\n",
       "\\item 'Malia'\n",
       "\\end{enumerate*}\n"
      ],
      "text/markdown": [
       "1. 'Bei'\n",
       "2. 'Preston'\n",
       "3. 'Ray'\n",
       "4. 'Malia'\n",
       "\n",
       "\n"
      ],
      "text/plain": [
       "[1] \"Bei\"     \"Preston\" \"Ray\"     \"Malia\"  "
      ]
     },
     "metadata": {},
     "output_type": "display_data"
    },
    {
     "data": {
      "text/html": [
       "<style>\n",
       ".list-inline {list-style: none; margin:0; padding: 0}\n",
       ".list-inline>li {display: inline-block}\n",
       ".list-inline>li:not(:last-child)::after {content: \"\\00b7\"; padding: 0 .5ex}\n",
       "</style>\n",
       "<ol class=list-inline><li>TRUE</li><li>TRUE</li><li>FALSE</li><li>TRUE</li></ol>\n"
      ],
      "text/latex": [
       "\\begin{enumerate*}\n",
       "\\item TRUE\n",
       "\\item TRUE\n",
       "\\item FALSE\n",
       "\\item TRUE\n",
       "\\end{enumerate*}\n"
      ],
      "text/markdown": [
       "1. TRUE\n",
       "2. TRUE\n",
       "3. FALSE\n",
       "4. TRUE\n",
       "\n",
       "\n"
      ],
      "text/plain": [
       "[1]  TRUE  TRUE FALSE  TRUE"
      ]
     },
     "metadata": {},
     "output_type": "display_data"
    }
   ],
   "source": [
    "myVec\n",
    "anotherVec\n",
    "thirdVec"
   ]
  },
  {
   "cell_type": "markdown",
   "metadata": {
    "slideshow": {
     "slide_type": "slide"
    }
   },
   "source": [
    "# But what about big datasets? How do they get stored?\n",
    "\n",
    "## Answer: Dataframes!\n",
    "- R's fundamental data structure"
   ]
  }
 ],
 "metadata": {
  "celltoolbar": "Slideshow",
  "kernelspec": {
   "display_name": "R",
   "language": "R",
   "name": "ir"
  },
  "language_info": {
   "codemirror_mode": "r",
   "file_extension": ".r",
   "mimetype": "text/x-r-source",
   "name": "R",
   "pygments_lexer": "r",
   "version": "4.0.3"
  }
 },
 "nbformat": 4,
 "nbformat_minor": 4
}
