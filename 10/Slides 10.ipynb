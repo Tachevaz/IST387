{
 "cells": [
  {
   "cell_type": "markdown",
   "metadata": {
    "slideshow": {
     "slide_type": "slide"
    }
   },
   "source": [
    "# IST 387: Week 10\n",
    "\n",
    "### Introduction to data mining in R (Ch. 17)"
   ]
  },
  {
   "cell_type": "markdown",
   "metadata": {
    "slideshow": {
     "slide_type": "slide"
    }
   },
   "source": [
    "## Data Mining\n",
    "\n",
    "- Discovering patterns in existing data sets using algorithms\n",
    "- Helps make sense of large amounts of raw data\n",
    "\n",
    "<img src=\"https://ist387.s3.us-east-2.amazonaws.com/images/m1.jpg\">"
   ]
  },
  {
   "cell_type": "markdown",
   "metadata": {
    "slideshow": {
     "slide_type": "slide"
    }
   },
   "source": [
    "## Association Rule Mining\n",
    "\n",
    "- Used for finding interesting relations between items in datasets\n",
    "- Also known as **affinity analysis**\n",
    "- Ever heard of the “beer and diapers” example? \n",
    "<img src=\"https://ist387.s3.us-east-2.amazonaws.com/images/m3.jpg\">"
   ]
  },
  {
   "cell_type": "markdown",
   "metadata": {
    "slideshow": {
     "slide_type": "slide"
    }
   },
   "source": [
    "## Challenges to Keep in Mind\n",
    "\n",
    "- Doesn’t tell us why something is happening, just that it happens\n",
    "- Doesn’t show individual preferences – need time series data for that\n",
    "- Need to consider other variables, e.g. gender, age, time of day/week/month\n",
    "<img src=\"https://ist387.s3.us-east-2.amazonaws.com/images/m4.jpg\">\n"
   ]
  },
  {
   "cell_type": "markdown",
   "metadata": {
    "slideshow": {
     "slide_type": "slide"
    }
   },
   "source": [
    "<img src=\"https://ist387.s3.us-east-2.amazonaws.com/images/m5.png\">"
   ]
  },
  {
   "cell_type": "markdown",
   "metadata": {
    "slideshow": {
     "slide_type": "slide"
    }
   },
   "source": [
    "<img src=\"https://ist387.s3.us-east-2.amazonaws.com/images/m6.png\">"
   ]
  }
 ],
 "metadata": {
  "celltoolbar": "Slideshow",
  "kernelspec": {
   "display_name": "R",
   "language": "R",
   "name": "ir"
  },
  "language_info": {
   "codemirror_mode": "r",
   "file_extension": ".r",
   "mimetype": "text/x-r-source",
   "name": "R",
   "pygments_lexer": "r",
   "version": "4.0.3"
  }
 },
 "nbformat": 4,
 "nbformat_minor": 4
}
