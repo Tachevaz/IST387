{
 "cells": [
  {
   "cell_type": "markdown",
   "metadata": {
    "slideshow": {
     "slide_type": "slide"
    }
   },
   "source": [
    "## Before we start:\n",
    "\n",
    "<img src=\"https://ist387.s3.us-east-2.amazonaws.com/images/frame+(7).png\">"
   ]
  },
  {
   "cell_type": "markdown",
   "metadata": {
    "slideshow": {
     "slide_type": "slide"
    }
   },
   "source": [
    "# IST 387: Week 14\n",
    "\n",
    "### Data Ethics"
   ]
  },
  {
   "cell_type": "markdown",
   "metadata": {
    "slideshow": {
     "slide_type": "slide"
    }
   },
   "source": [
    "<img src=\"https://ist387.s3.us-east-2.amazonaws.com/2021-04-10+18_05_05-Technically+Wrong_+Sexist+Apps%2C+Biased+Algorithms%2C+and+Other+Threats+of+Toxic+Te.png\">"
   ]
  },
  {
   "cell_type": "markdown",
   "metadata": {
    "slideshow": {
     "slide_type": "slide"
    }
   },
   "source": [
    "<img src=\"https://miro.medium.com/max/5000/1*PJw8otdAc7NmgckVqWjkbw.png\" width=\"500\">"
   ]
  },
  {
   "cell_type": "markdown",
   "metadata": {
    "slideshow": {
     "slide_type": "slide"
    }
   },
   "source": [
    "## What is data justice?\n",
    "\n",
    "### Data Justice involves a commitment to:\n",
    "\n",
    "→ researching and analyzing data in ways that are equitable, ethical, and morally just\n",
    "\n",
    "→ understanding how marginalized groups are helped or harmed by data-driven practices\n",
    "\n",
    "→ identifying and resolving structural inequities that surface in data-driven research"
   ]
  },
  {
   "cell_type": "markdown",
   "metadata": {
    "slideshow": {
     "slide_type": "slide"
    }
   },
   "source": [
    "<img src=\"https://miro.medium.com/max/1870/1*s2hOVNc8SPNUjZufAOgHpg.png\">"
   ]
  },
  {
   "cell_type": "markdown",
   "metadata": {
    "slideshow": {
     "slide_type": "slide"
    }
   },
   "source": [
    "## How can data justice help?\n",
    "\n",
    "- can help shape our vision for and practice of research\n",
    "- focus on community-centered and community-driven research\n",
    "- facilitate genuine and lasting social change\n",
    "- sometimes ceasing to use an algorithm is more just than trying to \"fix\" it "
   ]
  },
  {
   "cell_type": "markdown",
   "metadata": {
    "slideshow": {
     "slide_type": "slide"
    }
   },
   "source": [
    "## Who practices data justice?\n",
    "\n",
    "- Algorithmic Justice League: https://www.ajl.org/\n",
    "- Data Justice Lab: https://datajusticelab.org/about/\n",
    "- Our Data Bodies: https://www.odbproject.org/about-us-2/"
   ]
  },
  {
   "cell_type": "markdown",
   "metadata": {
    "slideshow": {
     "slide_type": "slide"
    }
   },
   "source": [
    "<img src=\"https://ist387.s3.us-east-2.amazonaws.com/images/frame+(8).png\">"
   ]
  },
  {
   "cell_type": "markdown",
   "metadata": {
    "slideshow": {
     "slide_type": "slide"
    }
   },
   "source": [
    "### Continued Learning Resources\n",
    "\n",
    "- Feel free to contribute: https://docs.google.com/document/d/1l_V3QjWdHcpEQJTYUKmz7c1J4AEndk92AaAAsOOsuN4/edit"
   ]
  },
  {
   "cell_type": "markdown",
   "metadata": {
    "slideshow": {
     "slide_type": "slide"
    }
   },
   "source": [
    "## Course Evaluations\n",
    "\n",
    "### BlackBoard > Course Feedback\n",
    "\n",
    "- If we reach 65% response rate by 11:59 pm today, I'll drop everyone's lowest Weekly Challenge score"
   ]
  },
  {
   "cell_type": "markdown",
   "metadata": {
    "slideshow": {
     "slide_type": "slide"
    }
   },
   "source": [
    "## Final Project\n",
    "\n",
    "- Due by 11:59 pm on May 21st\n",
    "- Formatted as a HW assignment: available on both JupyterHub (in HW folder; please save it as an .HTML file) and BB (under Content; please knit it as a .PDF)\n"
   ]
  }
 ],
 "metadata": {
  "celltoolbar": "Slideshow",
  "kernelspec": {
   "display_name": "R",
   "language": "R",
   "name": "ir"
  },
  "language_info": {
   "codemirror_mode": "r",
   "file_extension": ".r",
   "mimetype": "text/x-r-source",
   "name": "R",
   "pygments_lexer": "r",
   "version": "4.0.3"
  }
 },
 "nbformat": 4,
 "nbformat_minor": 4
}
