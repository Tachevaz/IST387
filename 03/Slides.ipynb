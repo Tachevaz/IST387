{
 "cells": [
  {
   "cell_type": "markdown",
   "metadata": {
    "slideshow": {
     "slide_type": "slide"
    }
   },
   "source": [
    "# IST 387: Week 3\n",
    "\n",
    "- What we've learned so far\n",
    "- Data cleaning\n",
    "- Functions in R"
   ]
  },
  {
   "cell_type": "markdown",
   "metadata": {
    "slideshow": {
     "slide_type": "slide"
    }
   },
   "source": [
    "# Before we get started:\n",
    "\n",
    "<img src=\"https://ist387.s3.us-east-2.amazonaws.com/images/frame+(2).png\">"
   ]
  },
  {
   "cell_type": "markdown",
   "metadata": {
    "slideshow": {
     "slide_type": "slide"
    }
   },
   "source": [
    "# What we've learned so far\n",
    "\n",
    "1. Creating **dataframes**\n",
    "2. Inspecting dataframes using **View()**, **summary()**, and **str()**\n",
    "3. **Indexing** into vectors and dataframes \n",
    "4. Finding min/max values using **max()**, **min()**, **which.max()**, and **which.min()**\n",
    "5. Sorting dataframes using **subsetting** and **order()**\n",
    "6. Creating df **subsets** based on **logical conditions**\n"
   ]
  },
  {
   "cell_type": "markdown",
   "metadata": {
    "slideshow": {
     "slide_type": "slide"
    }
   },
   "source": [
    "# Workflow of a data science project\n",
    "\n",
    "<img src=\"https://ist387.s3.us-east-2.amazonaws.com/images/How%2Bto%2Bstart%2Byour%2Bfirst%2Bdata%2Bscience%2Bproject.png\" width=\"850\">"
   ]
  },
  {
   "cell_type": "markdown",
   "metadata": {
    "slideshow": {
     "slide_type": "slide"
    }
   },
   "source": [
    "# Data cleaning\n",
    "\n",
    "## Also known as **data munging/wrangling**:\n",
    " - Inspecting dataframes\n",
    " - Formatting text from character strings using gsub()\n",
    " - Creating new variables using vector math\n",
    " - Reading csv files "
   ]
  },
  {
   "cell_type": "markdown",
   "metadata": {
    "slideshow": {
     "slide_type": "slide"
    }
   },
   "source": [
    "# Functions\n",
    "\n",
    "- A block of code used to accomplish a task\n",
    "- 2 steps:\n",
    " - **declaring** a function\n",
    " - **calling** a function\n",
    " \n",
    " <img src=\"https://ist387.s3.us-east-2.amazonaws.com/images/le3_1.png\">"
   ]
  },
  {
   "cell_type": "markdown",
   "metadata": {
    "slideshow": {
     "slide_type": "slide"
    }
   },
   "source": [
    " <img src=\"https://ist387.s3.us-east-2.amazonaws.com/images/lec3_2.png\">"
   ]
  },
  {
   "cell_type": "markdown",
   "metadata": {
    "slideshow": {
     "slide_type": "slide"
    }
   },
   "source": [
    "# Defining a function\n",
    "\n",
    "<img src=\"https://ist387.s3.us-east-2.amazonaws.com/images/lec3_4.png\">"
   ]
  },
  {
   "cell_type": "markdown",
   "metadata": {
    "slideshow": {
     "slide_type": "slide"
    }
   },
   "source": [
    "# Calling a function\n",
    "\n",
    "<img src=\"https://ist387.s3.us-east-2.amazonaws.com/images/lec3_5.png\">"
   ]
  },
  {
   "cell_type": "markdown",
   "metadata": {
    "slideshow": {
     "slide_type": "slide"
    }
   },
   "source": [
    "# What does this function do?\n",
    "\n",
    "<img src=\"https://ist387.s3.us-east-2.amazonaws.com/images/lec3_6.png\">"
   ]
  }
 ],
 "metadata": {
  "celltoolbar": "Slideshow",
  "kernelspec": {
   "display_name": "R",
   "language": "R",
   "name": "ir"
  },
  "language_info": {
   "codemirror_mode": "r",
   "file_extension": ".r",
   "mimetype": "text/x-r-source",
   "name": "R",
   "pygments_lexer": "r",
   "version": "4.0.3"
  }
 },
 "nbformat": 4,
 "nbformat_minor": 4
}
