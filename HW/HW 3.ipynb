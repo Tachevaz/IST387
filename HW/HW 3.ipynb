{
 "cells": [
  {
   "cell_type": "markdown",
   "metadata": {},
   "source": [
    "# IST 387 HW 3\n",
    "##### Copyright 2021, Jeffrey Stanton, Jeffrey Saltz, and Jasmina Tacheva"
   ]
  },
  {
   "cell_type": "code",
   "execution_count": 9,
   "metadata": {},
   "outputs": [],
   "source": [
    "# Enter your name here: "
   ]
  },
  {
   "cell_type": "markdown",
   "metadata": {},
   "source": [
    "### Attribution statement: (choose only one and delete the rest)"
   ]
  },
  {
   "cell_type": "code",
   "execution_count": 2,
   "metadata": {},
   "outputs": [],
   "source": [
    "# 1. I did this homework by myself, with help from the book and the professor.\n",
    "# 2. I did this homework with help from the book and the professor and these Internet sources:\n",
    "# 3. I did this homework with help from <Name of another student> but did not cut and paste any code."
   ]
  },
  {
   "cell_type": "markdown",
   "metadata": {},
   "source": [
    "### Reminders of things to practice from last week: \n",
    "Make a data frame\t\tdata.frame( ) <br>\n",
    "Row index of max/min\twhich.max( )  which.min( )<br>\n",
    "Sort value or order rows\tsort( )   order( )<br>\n",
    "Descriptive statistics \tmean( ) sum( ) max( ) <br>\n",
    "Conditional statement\tif (condition) “true stuff” else “false stuff”<br>\n",
    "\n",
    "### This Week: \n",
    "Often, when you get a dataset, it is not in the format you want. You can (and should) use code to refine the dataset to become more useful. As Chapter 6 of Introduction to Data Science mentions, this is called “data munging.” In this homework, you will read in a dataset from the web and work on it (in a data frame) to improve its usefulness.\n"
   ]
  },
  {
   "cell_type": "markdown",
   "metadata": {},
   "source": [
    "## Part 1: Use read_csv( ) to read a CSV file from the web into a data frame:"
   ]
  },
  {
   "cell_type": "markdown",
   "metadata": {},
   "source": [
    "A.\tUse R code to read directly from a URL on the web. Store the dataset into a new dataframe, called dfComps. <br>\n",
    "The URL is:    <br>\n",
    "\"https://ist387.s3.us-east-2.amazonaws.com/data/Companies.csv\" <br>\n",
    "**Hint:** use read_csv( ), not read.csv( ). This is from the **tidyverse package**. Check the help to compare them.\n"
   ]
  },
  {
   "cell_type": "code",
   "execution_count": null,
   "metadata": {},
   "outputs": [],
   "source": []
  },
  {
   "cell_type": "markdown",
   "metadata": {},
   "source": [
    "## Part 2: Create a new data frame that only contains companies with a homepage URL:"
   ]
  },
  {
   "cell_type": "markdown",
   "metadata": {},
   "source": [
    "B.\tUse head( ) and tail( ) to examine the **dfComps** dataframe. <br>\n",
    "**Add a block comment that briefly describes what you see.**"
   ]
  },
  {
   "cell_type": "code",
   "execution_count": null,
   "metadata": {},
   "outputs": [],
   "source": []
  },
  {
   "cell_type": "markdown",
   "metadata": {},
   "source": [
    "C.\tCreate a variable (called **noURL**) that has a value of **TRUE** if a company is missing a homepage URL."
   ]
  },
  {
   "cell_type": "code",
   "execution_count": null,
   "metadata": {},
   "outputs": [],
   "source": []
  },
  {
   "cell_type": "markdown",
   "metadata": {},
   "source": [
    "D.\tUse the table( ) command to summarize the contents of **noURL**. <br>\n",
    "**Write a comment interpreting what you see – how many companies are missing a homepage URL?**"
   ]
  },
  {
   "cell_type": "code",
   "execution_count": null,
   "metadata": {},
   "outputs": [],
   "source": []
  },
  {
   "cell_type": "markdown",
   "metadata": {},
   "source": [
    "E.\tUse **subsetting** to create a new dataframe that contains only the companies with homepage URLs (store that dataframe in **urlComps**)."
   ]
  },
  {
   "cell_type": "code",
   "execution_count": null,
   "metadata": {},
   "outputs": [],
   "source": []
  },
  {
   "cell_type": "markdown",
   "metadata": {},
   "source": [
    "F.\tUse the dim() command on **urlComps** to confirm that the data frame contains **44,435** observations and **19** columns/variables."
   ]
  },
  {
   "cell_type": "code",
   "execution_count": null,
   "metadata": {},
   "outputs": [],
   "source": []
  },
  {
   "cell_type": "markdown",
   "metadata": {},
   "source": [
    "## Part 3: Analyze the numeric variables in the dataframe."
   ]
  },
  {
   "cell_type": "markdown",
   "metadata": {},
   "source": [
    "G.\tHow many **numeric variables** does the dataframe have? You can figure that out by looking at the output of **str(urlComps)**. "
   ]
  },
  {
   "cell_type": "code",
   "execution_count": null,
   "metadata": {},
   "outputs": [],
   "source": []
  },
  {
   "cell_type": "markdown",
   "metadata": {},
   "source": [
    "H.\tWhat is the average number of funding rounds for the companies in **urlComps**?"
   ]
  },
  {
   "cell_type": "code",
   "execution_count": null,
   "metadata": {},
   "outputs": [],
   "source": []
  },
  {
   "cell_type": "markdown",
   "metadata": {},
   "source": [
    "I.\tWhat year was the oldest company in the dataframe founded? <br>\n",
    "**Hint:** If you get a value of “NA,” most likely there are missing values in this variable which preclude R from properly calculating the min & max values. Instead of running, for example, mean(urlComps$founded_year), something like this will work for determining the average: "
   ]
  },
  {
   "cell_type": "code",
   "execution_count": 3,
   "metadata": {},
   "outputs": [
    {
     "ename": "ERROR",
     "evalue": "Error in mean(urlComps$founded_year, na.rm = TRUE): object 'urlComps' not found\n",
     "output_type": "error",
     "traceback": [
      "Error in mean(urlComps$founded_year, na.rm = TRUE): object 'urlComps' not found\nTraceback:\n",
      "1. mean(urlComps$founded_year, na.rm = TRUE)"
     ]
    }
   ],
   "source": [
    "mean(urlComps$founded_year, na.rm=TRUE)\n",
    "#Modify the code above to find the oldest company in the df."
   ]
  },
  {
   "cell_type": "markdown",
   "metadata": {},
   "source": [
    "J.\tCreate another dataframe containing the companies that do not have homepage URLs. Find out the mean number of funding rounds for those companies. Compare that to the answer you recorded for problem H."
   ]
  },
  {
   "cell_type": "code",
   "execution_count": null,
   "metadata": {},
   "outputs": [],
   "source": []
  },
  {
   "cell_type": "markdown",
   "metadata": {},
   "source": [
    "## Part 4:  Use gsub() to clean the data."
   ]
  },
  {
   "cell_type": "markdown",
   "metadata": {},
   "source": [
    "K.\tThe **permalink variable** in **urlComps** contains the name of each company but the names are currently preceded by the prefix “/organization/”. We can use gsub() to clean the values of this variable:"
   ]
  },
  {
   "cell_type": "code",
   "execution_count": 4,
   "metadata": {},
   "outputs": [
    {
     "ename": "ERROR",
     "evalue": "Error in gsub(\"/organization/\", \"\", urlComps$permalink): object 'urlComps' not found\n",
     "output_type": "error",
     "traceback": [
      "Error in gsub(\"/organization/\", \"\", urlComps$permalink): object 'urlComps' not found\nTraceback:\n",
      "1. gsub(\"/organization/\", \"\", urlComps$permalink)"
     ]
    }
   ],
   "source": [
    "urlComps$company <- gsub(\"/organization/\", \"\", urlComps$permalink)\n",
    "#Write a comment explaining what this line of code does."
   ]
  },
  {
   "cell_type": "markdown",
   "metadata": {},
   "source": [
    "L.\tCan you identify another variable which should be numeric but is currently coded as character? Use the as.numeric() function to add a new variable to **urlComps** which contains the values from the char variable as numbers. Do you notice anything about the number of NA values in this new column compared to the original “char” one?  "
   ]
  },
  {
   "cell_type": "code",
   "execution_count": null,
   "metadata": {},
   "outputs": [],
   "source": []
  },
  {
   "cell_type": "markdown",
   "metadata": {},
   "source": [
    "M.\tTo ensure the char values are converted correctly, we first need to remove the spaces between the numbers in the variable. Use the gsub() command to do that. Check if this works:"
   ]
  },
  {
   "cell_type": "code",
   "execution_count": 5,
   "metadata": {},
   "outputs": [
    {
     "ename": "ERROR",
     "evalue": "Error in gsub(\"\\\\s\", \"\", urlComps$funding_total_usd): object 'urlComps' not found\n",
     "output_type": "error",
     "traceback": [
      "Error in gsub(\"\\\\s\", \"\", urlComps$funding_total_usd): object 'urlComps' not found\nTraceback:\n",
      "1. gsub(\"\\\\s\", \"\", urlComps$funding_total_usd)"
     ]
    }
   ],
   "source": [
    "urlComps$funding_new <- gsub(\"\\\\s\",\"\", urlComps$funding_total_usd)\n",
    "#Does this variable look better than the one we created in L? Explain in a comment:"
   ]
  },
  {
   "cell_type": "markdown",
   "metadata": {},
   "source": [
    "N.\tYou are now ready to convert urlComps$funding_new to numeric using as.numeric() again. Calculate the average funding amount for **urlComps**. If you get “NA,” try using the na.rm=TRUE argument from problem I."
   ]
  },
  {
   "cell_type": "code",
   "execution_count": null,
   "metadata": {},
   "outputs": [],
   "source": []
  },
  {
   "cell_type": "markdown",
   "metadata": {},
   "source": [
    "## Part 5:  Create a function to automate the process from L-N:"
   ]
  },
  {
   "cell_type": "markdown",
   "metadata": {},
   "source": [
    "O.\tThe following function should work most of the time. Make sure to run this code before trying to test it. That is how you make the new function known to R. **Add comments to each line explaining what it does:**"
   ]
  },
  {
   "cell_type": "code",
   "execution_count": 6,
   "metadata": {},
   "outputs": [],
   "source": [
    "convertCharToNum <- function(char_string) {\n",
    "  step1 <- gsub(\"\\\\s\",\"\", char_string)\n",
    "  step2 <- as.numeric(step1)\n",
    "  return(step2)\n",
    "}"
   ]
  },
  {
   "cell_type": "markdown",
   "metadata": {},
   "source": [
    "P.\tRun your new function on the **funding_total_usd** variable in **urlComps**:"
   ]
  },
  {
   "cell_type": "code",
   "execution_count": 7,
   "metadata": {},
   "outputs": [
    {
     "ename": "ERROR",
     "evalue": "Error in gsub(\"\\\\s\", \"\", char_string): object 'urlComps' not found\n",
     "output_type": "error",
     "traceback": [
      "Error in gsub(\"\\\\s\", \"\", char_string): object 'urlComps' not found\nTraceback:\n",
      "1. convertCharToNum(urlComps$funding_total_usd)",
      "2. gsub(\"\\\\s\", \"\", char_string)   # at line 2 of file <text>"
     ]
    }
   ],
   "source": [
    "convertCharToNum(urlComps$funding_total_usd)"
   ]
  },
  {
   "cell_type": "markdown",
   "metadata": {},
   "source": [
    "Q.\tAssign the result of P to a variable in the dataframe:"
   ]
  },
  {
   "cell_type": "code",
   "execution_count": 8,
   "metadata": {},
   "outputs": [
    {
     "ename": "ERROR",
     "evalue": "Error in gsub(\"\\\\s\", \"\", char_string): object 'urlComps' not found\n",
     "output_type": "error",
     "traceback": [
      "Error in gsub(\"\\\\s\", \"\", char_string): object 'urlComps' not found\nTraceback:\n",
      "1. convertCharToNum(urlComps$funding_total_usd)",
      "2. gsub(\"\\\\s\", \"\", char_string)   # at line 2 of file <text>"
     ]
    }
   ],
   "source": [
    "urlComps$funding_total_num <- convertCharToNum(urlComps$funding_total_usd)"
   ]
  },
  {
   "cell_type": "markdown",
   "metadata": {},
   "source": [
    "Calculate the average of this new variable (you may need to use the rm.na=TRUE argument again). Is it the same as the value you got in N? Explain."
   ]
  },
  {
   "cell_type": "code",
   "execution_count": null,
   "metadata": {},
   "outputs": [],
   "source": []
  }
 ],
 "metadata": {
  "kernelspec": {
   "display_name": "R",
   "language": "R",
   "name": "ir"
  },
  "language_info": {
   "codemirror_mode": "r",
   "file_extension": ".r",
   "mimetype": "text/x-r-source",
   "name": "R",
   "pygments_lexer": "r",
   "version": "4.0.3"
  }
 },
 "nbformat": 4,
 "nbformat_minor": 4
}
