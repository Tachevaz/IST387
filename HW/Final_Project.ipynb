{
 "cells": [
  {
   "cell_type": "markdown",
   "metadata": {},
   "source": [
    "## Final Project\n",
    "\n",
    "### Rules of Engagement: \n",
    "\n",
    "This is an **honor system assignment**: You may consult your professor, your lab instructor, the textbook, and material on the Internet at any time. You may not consult, collaborate, or seek assistance from any other human besides your professor and lab instructor. Your attribution statement, at the top of your R-code file, should reflect these constraints. You may not share your results or work in progress with any other human besides your professor or lab instructor. Note that your data file is unique to you: The results that other students in IST387 obtain will be different from yours.\n",
    "\n",
    "### Project Goal: \n",
    "\n",
    "The goal of this term project is for you to use all of the skills you have developed in the labs/homework to make sense of a novel dataset, to perform some essential analyses on the dataset, and to explain/document what you have done. The dataset contains real-life hotel stay data, with each row representing a hotel booking.\n",
    "\n",
    "### The Data File: \n",
    "\n",
    "Here are the variables you will find in your data file:\n",
    "\n",
    "•\t**IsCanceled**: Categorical Value indicating if the booking was canceled (1) or not (0) <br>\n",
    "•\t**LeadTime**: Integer, Number of days that elapsed between the entering date of the booking into and the arrival date <br>\n",
    "•\t**StaysInWeekendNights**: Integer, Number of weekend nights (Saturday or Sunday) the guest stayed or booked to stay at the hotel <br>\n",
    "•\t**StaysInWeekNights**: Integer, Number of week nights (Monday to Friday) the guest stayed or booked to stay at the hotel <br>\n",
    "•\t**Adults**: Integer, Number of adults <br>\n",
    "•\t**Children**: Integer, Number of children <br>\n",
    "•\t**Babies**: Integer, Number of babies <br>\n",
    "•\t**Meal**: Categorical, Type of meal booked. Categories are presented in standard hospitality meal packages: <br>\n",
    "Undefined/SC – no meal package; <br>\n",
    "BB – Bed & Breakfast; <br>\n",
    "HB – Half board (breakfast and one other meal – usually dinner); <br>\n",
    "FB – Full board (breakfast, lunch and dinner) <br>\n",
    "•\t**Country**: Categorical, Country of origin. Categories are represented in the ISO 3155–3:2013 format <br>\n",
    "•\t**MarketSegment**: Categorical, Market segment designation. In categories, the term “TA” means “Travel Agents” and “TO” means “Tour Operators” <br>\n",
    "•\t**IsRepeatedGuest**: Categorical, Value indicating if the booking name was from a repeated guest (1) or not (0) <br>\n",
    "•\t**PreviousCancellations**: Integer, Number of previous bookings that were cancelled by the customer prior to the current booking <br>\n",
    "•\t**PreviousBookingsNotCanceled**: Integer, Number of previous bookings not cancelled by the customer prior to the current booking <br>\n",
    "•\t**ReservedRoomType**: Categorical, Code of room type reserved. Code is presented instead of designation for anonymity reasons <br>\n",
    "•\t**AssignedRoomType**: Categorical, Code for the type of room assigned to the booking. Sometimes the assigned room type differs from the reserved room type due to hotel operation reasons (e.g. overbooking) or by customer request. Code is presented instead of designation for anonymity reasons <br>\n",
    "•\t**BookingChanges**: Integer, Number of changes/amendments made to the booking from the moment the booking was entered on the PMS until the moment of check-in or cancellation <br>\n",
    "•\t**DepositType**: Categorical, Indication on if the customer made a deposit to guarantee the booking. \n",
    "This variable can assume three categories:<br>\n",
    "No Deposit – no deposit was made.<br>\n",
    "Non Refund – a deposit was made in the value of the total stay cost.<br>\n",
    "Refundable – a deposit was made with a value under the total cost of stay.<br>\n",
    "•\t**CustomerType**: Categorical, Type of booking, assuming one of four categories: <br>\n",
    "Contract - when the booking has an allotment or other type of contract associated to it;<br>\n",
    "Group – when the booking is associated to a group;<br>\n",
    "Transient – when the booking is not part of a group or contract, and is not associated to other transient booking;<br>\n",
    "Transient-party – when the booking is transient, but is associated to at least other transient booking<br>\n",
    "•\t**RequiredCardParkingSpaces**: Integer, Number of car parking spaces required by the customer<br>\n",
    "•\t**TotalOfSpecialRequests**: Integer, Number of special requests made by the customer (e.g. twin bed or high floor)<br>\n",
    "\n",
    "### Ten Steps to Complete the Project:\n",
    "\n",
    "1.\tUse **read_csv()** to read your CSV file (https://ist387.s3.us-east-2.amazonaws.com/data/Resort.csv) into a dataframe called **booking**. Describe the variables in the dataframe using descriptive statistics – add a brief comment to explain what you see. How many observations and variables does the dataframe have? - Add a comment."
   ]
  },
  {
   "cell_type": "code",
   "execution_count": null,
   "metadata": {},
   "outputs": [],
   "source": []
  },
  {
   "cell_type": "markdown",
   "metadata": {},
   "source": [
    "2.\tCheck the numerical variables for missing values using the **is.na()** technique we used in HW 8:"
   ]
  },
  {
   "cell_type": "code",
   "execution_count": null,
   "metadata": {},
   "outputs": [],
   "source": []
  },
  {
   "cell_type": "markdown",
   "metadata": {},
   "source": [
    "3.\tCreate histograms for any 3 numeric variables. Write a sentence about each histogram, describing its distribution. Generate tables (using the **table()** function) for any 3 categorical response variables (e.g., **Meal**), and write a sentence for each, describing what you see. Add a comment listing the country with the largest number of bookings and show the code you used to identify it:"
   ]
  },
  {
   "cell_type": "code",
   "execution_count": null,
   "metadata": {},
   "outputs": [],
   "source": []
  },
  {
   "cell_type": "markdown",
   "metadata": {},
   "source": [
    "4.\tCreate three boxplots for **IsCanceled**, using each of these grouping variables: **LeadTime**, **StaysInWeekNights**, **PreviousCancellations**. Add a comment explaining each boxplot:"
   ]
  },
  {
   "cell_type": "code",
   "execution_count": null,
   "metadata": {},
   "outputs": [],
   "source": []
  },
  {
   "cell_type": "markdown",
   "metadata": {},
   "source": [
    "5.\tCurrently, the data is at the individual booking level. Using the **aggregate()** function from HW 7 and the midterm, create a new dataframe called **country** based on the **Country** and **IsCanceled** variables, to show the total number of cancellations for each country. Possible names for the resulting two columns in **country** are **name** and **numCanceled**. Using the subsetting technique we showed in HW 7, display the country with the highest number of cancellations: "
   ]
  },
  {
   "cell_type": "code",
   "execution_count": null,
   "metadata": {},
   "outputs": [],
   "source": []
  },
  {
   "cell_type": "markdown",
   "metadata": {},
   "source": [
    "6.\tCreate a color gradient world map where the color of each country indicates its total number of cancellations. Assuming your dataframe is called **country**, here is code to do this: "
   ]
  },
  {
   "cell_type": "code",
   "execution_count": null,
   "metadata": {},
   "outputs": [],
   "source": [
    "install.packages(\"rworldmap\")\n",
    "library(rworldmap)\n",
    "sPDF <- joinCountryData2Map( country, joinCode = \"ISO3\", nameJoinColumn = \"name\")\n",
    "map<-mapCountryData(sPDF, nameColumnToPlot='numCanceled', catMethod=\"logFixedWidth\")"
   ]
  },
  {
   "cell_type": "markdown",
   "metadata": {},
   "source": [
    "Make sure **“name”** in the **nameJoinColumn = \"name\"** parameter corresponds to the name of the column in your **country** dataframe that contains the 3-letter country abbreviations, and **“numCanceled”** in **nameColumnToPlot='numCanceled'** is the same as the **country** variable name containing the total number of cancellations per country. If that is the case, you should be able to see a map after running these commands. Write a comment about what you see in the map above:"
   ]
  },
  {
   "cell_type": "code",
   "execution_count": null,
   "metadata": {},
   "outputs": [],
   "source": []
  },
  {
   "cell_type": "markdown",
   "metadata": {},
   "source": [
    "7.\tReturning to the full data set (**bookings**), convert some of the fields into factor variables and then use **Association Rules Mining** to see if there are patterns of attributes that connect with a canceled booking. Here’s a line of code that converts the main dataframe into a new dataframe that only contains factor variables:"
   ]
  },
  {
   "cell_type": "code",
   "execution_count": null,
   "metadata": {},
   "outputs": [],
   "source": [
    "bookCat <- data.frame(meal=as.factor(bookings$Meal),             \n",
    "                     marketSegment=as.factor(bookings$MarketSegment),       \n",
    "                     isRepeatedGuest=as.factor(bookings$IsRepeatedGuest),       \n",
    "                     assignedRoom=as.factor(bookings$AssignedRoomType), \n",
    "                      customerType=as.factor(bookings$CustomerType),\n",
    "                      bookingChanges=as.factor(bookings$BookingChanges>0),\n",
    "                     canceled=as.factor(bookings$IsCanceled)) "
   ]
  },
  {
   "cell_type": "markdown",
   "metadata": {},
   "source": [
    "Using the **itemFrequencyPlot()** function from HW9, inspect the variables in **bookCat** and include a comment on what you see: "
   ]
  },
  {
   "cell_type": "code",
   "execution_count": null,
   "metadata": {},
   "outputs": [],
   "source": []
  },
  {
   "cell_type": "markdown",
   "metadata": {},
   "source": [
    "8.\tRemember that you can’t use the **bookCat** dataframe as input to **apriori()** directly – you will first have to coerce it to the **transactions class**, just like you did in HW9. Identify at least two high confidence rules that connect with someone canceling their stay. Describe your analysis and these high confidence rules in a few sentences – what do the support, confidence, and lift values of these rules mean? "
   ]
  },
  {
   "cell_type": "code",
   "execution_count": null,
   "metadata": {},
   "outputs": [],
   "source": []
  },
  {
   "cell_type": "markdown",
   "metadata": {},
   "source": [
    "9.\tNext, we will turn to **supervised machine learning** to try and predict cancellations using **ksvm()** from the **kernlab** package as we did in HW10. To use the **ksvm()** model, we first need to focus on the numerical variables in our dataset. Run the following command before you proceed:"
   ]
  },
  {
   "cell_type": "code",
   "execution_count": null,
   "metadata": {},
   "outputs": [],
   "source": [
    "book <- data.frame(leadTime=bookings$LeadTime, \n",
    "                   staysWeekend=bookings$StaysInWeekendNights, \n",
    "                   staysWeek=bookings$StaysInWeekNights, \n",
    "                   adults=bookings$Adults, \n",
    "                   children=bookings$Children, \n",
    "                   babies=bookings$Babies, \n",
    "                   prevCancellations=bookings$PreviousCancellations,\n",
    "                   specialRequests=bookings$TotalOfSpecialRequests,\n",
    "                    canceled=as.factor(bookings$IsCanceled))"
   ]
  },
  {
   "cell_type": "markdown",
   "metadata": {},
   "source": [
    "Using the **createDataPartition()** function from the **caret** package like we did in HW10, partition book into a **trainSet** and a **testSet**, where the **trainSet** is .7 of the entire data and **y=book$canceled**: "
   ]
  },
  {
   "cell_type": "code",
   "execution_count": null,
   "metadata": {},
   "outputs": [],
   "source": []
  },
  {
   "cell_type": "markdown",
   "metadata": {},
   "source": [
    "10.\tYou are now ready to create a **ksvm()** model from the **kernlab** package. Use the same parameters we used in HW10 but don’t forget to change the name of the variable you are predicting to **canceled**. Once your model is trained (it may take about 10 minutes since it’s a big dataset), use the **predict()** function to see how well your model performs on the **testSet**. Finally, using **table()** or **confusionMatrix()** from the **e1071** package, create a confusion matrix and calculate the error of your model like we did in HW10:  "
   ]
  },
  {
   "cell_type": "code",
   "execution_count": null,
   "metadata": {},
   "outputs": [],
   "source": []
  }
 ],
 "metadata": {
  "kernelspec": {
   "display_name": "R",
   "language": "R",
   "name": "ir"
  },
  "language_info": {
   "codemirror_mode": "r",
   "file_extension": ".r",
   "mimetype": "text/x-r-source",
   "name": "R",
   "pygments_lexer": "r",
   "version": "4.0.3"
  }
 },
 "nbformat": 4,
 "nbformat_minor": 4
}
