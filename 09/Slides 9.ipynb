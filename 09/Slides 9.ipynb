{
 "cells": [
  {
   "attachments": {},
   "cell_type": "markdown",
   "metadata": {
    "slideshow": {
     "slide_type": "slide"
    }
   },
   "source": [
    "# IST 387: Week 9\n",
    "\n",
    "### Introduction to linear regression in R (Ch. 16)"
   ]
  },
  {
   "attachments": {},
   "cell_type": "markdown",
   "metadata": {
    "slideshow": {
     "slide_type": "slide"
    }
   },
   "source": [
    "### Question: Given the following random sample, what is your best guess about the test score #10?\n",
    "\n",
    "<img src=\"https://ist387.s3.us-east-2.amazonaws.com/images/2021-04-05+19_02_15-IST387Week8+-+PowerPoint.png\" width=\"300\">"
   ]
  },
  {
   "attachments": {},
   "cell_type": "markdown",
   "metadata": {
    "slideshow": {
     "slide_type": "slide"
    }
   },
   "source": [
    "We only have **one** real variable to work with – the variable we are trying to predict.\n",
    "\n",
    "<img src=\"https://ist387.s3.us-east-2.amazonaws.com/images/2021-04-05+19_02_15-IST387Week8+-+PowerPoint.png\" width=\"300\">\n",
    "\n",
    "What if there were **other variables** that could influence Exam score values?"
   ]
  },
  {
   "attachments": {},
   "cell_type": "markdown",
   "metadata": {
    "slideshow": {
     "slide_type": "slide"
    }
   },
   "source": [
    "## Introducing a Predictor Variable\n",
    "\n",
    "Perhaps **the time a student spends studying** can help explain their test score?\n",
    "\n",
    "Different names, same meaning:\n",
    "\n",
    "<img src=\"https://ist387.s3.us-east-2.amazonaws.com/images/2021-04-05+19_02_31-IST387Week8+-+PowerPoint.png\" width=\"800\">\n"
   ]
  },
  {
   "cell_type": "markdown",
   "metadata": {
    "slideshow": {
     "slide_type": "slide"
    }
   },
   "source": [
    "## Introducing a Predictor Variable\n",
    "\n",
    "<img src=\"https://ist387.s3.us-east-2.amazonaws.com/images/2021-04-05+19_02_58-IST387Week8+-+PowerPoint.png\" width=\"400\">"
   ]
  },
  {
   "cell_type": "markdown",
   "metadata": {
    "slideshow": {
     "slide_type": "slide"
    }
   },
   "source": [
    "## Simple/Bivariate Linear Regression\n",
    "\n",
    "https://thumbs.gfycat.com/JointPartialIslandcanary-mobile.mp4"
   ]
  },
  {
   "attachments": {},
   "cell_type": "markdown",
   "metadata": {
    "slideshow": {
     "slide_type": "slide"
    }
   },
   "source": [
    "## Simple/Bivariate Linear Regression Explained\n",
    "\n",
    "<img src=\"https://ist387.s3.us-east-2.amazonaws.com/images/Picture1use.png\">"
   ]
  }
 ],
 "metadata": {
  "celltoolbar": "Slideshow",
  "kernelspec": {
   "display_name": "R",
   "language": "R",
   "name": "ir"
  },
  "language_info": {
   "codemirror_mode": "r",
   "file_extension": ".r",
   "mimetype": "text/x-r-source",
   "name": "R",
   "pygments_lexer": "r",
   "version": "4.0.3"
  }
 },
 "nbformat": 4,
 "nbformat_minor": 4
}
