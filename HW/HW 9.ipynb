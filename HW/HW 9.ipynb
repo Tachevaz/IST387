{
 "cells": [
  {
   "cell_type": "markdown",
   "metadata": {},
   "source": [
    "# IST 387 HW 9\n",
    "##### Copyright 2021, Jeffrey Stanton, Jeffrey Saltz, and Jasmina Tacheva"
   ]
  },
  {
   "cell_type": "code",
   "execution_count": 1,
   "metadata": {},
   "outputs": [],
   "source": [
    "# Enter your name here: "
   ]
  },
  {
   "cell_type": "markdown",
   "metadata": {},
   "source": [
    "### Attribution statement: (choose only one and delete the rest)"
   ]
  },
  {
   "cell_type": "code",
   "execution_count": 2,
   "metadata": {},
   "outputs": [],
   "source": [
    "# 1. I did this homework by myself, with help from the book and the professor.\n",
    "# 2. I did this homework with help from the book and the professor and these Internet sources:\n",
    "# 3. I did this homework with help from <Name of another student> but did not cut and paste any code."
   ]
  },
  {
   "cell_type": "markdown",
   "metadata": {},
   "source": [
    "**Association mining** can be applied to many data problems beyond the well-known example of **finding relationships between different products in customer shopping data**. In this homework assignment, we will explore **real data** from the banking sector and look for **patterns associated with the likelihood of responding positively to a direct marketing campaign and signing up for a term deposit with the bank (stored in the variable “y”)**. <br>\n",
    "You can find out more about the variables in this dataset here: https://archive.ics.uci.edu/ml/datasets/bank+marketing\n",
    "\n",
    "## Part 1: Explore Data Set\n",
    "\n",
    "A.\tCopy the contents of the following URL to a dataframe called bank: <br>\n",
    "https://ist387.s3.us-east-2.amazonaws.com/data/bank-full.csv\n",
    "\n",
    "**Hint**: Even though this is a .csv file, chances are R won’t be able to read it in correctly using the read_csv() function. If you take a closer look at the contents of the URL file, you may notice each field is separated by a **semicolon** (;) rather than a comma. In situations like this, consider using something like this:"
   ]
  },
  {
   "cell_type": "code",
   "execution_count": 3,
   "metadata": {},
   "outputs": [
    {
     "ename": "ERROR",
     "evalue": "Error in read.table(url, sep = \";\", header = TRUE): 'file' must be a character string or connection\n",
     "output_type": "error",
     "traceback": [
      "Error in read.table(url, sep = \";\", header = TRUE): 'file' must be a character string or connection\nTraceback:\n",
      "1. read.table(url, sep = \";\", header = TRUE)",
      "2. stop(\"'file' must be a character string or connection\")"
     ]
    }
   ],
   "source": [
    "bank <- read.table(url, sep=\";\", header = TRUE)"
   ]
  },
  {
   "cell_type": "markdown",
   "metadata": {},
   "source": [
    "Make sure there are **41,188** rows and **21** columns in your **bank** df."
   ]
  },
  {
   "cell_type": "markdown",
   "metadata": {},
   "source": [
    "B.\tNext, we will focus on some key factor variables from the dataset, and convert a few numeric ones to factor variables. Execute the following commands and write a comment describing how the conversion for each numeric variable works and what the variables in the resulting dataframe are."
   ]
  },
  {
   "cell_type": "code",
   "execution_count": 4,
   "metadata": {},
   "outputs": [
    {
     "ename": "ERROR",
     "evalue": "Error in data.frame(job = bank$job, marital = bank$marital, housing_loan = bank$housing, : object 'bank' not found\n",
     "output_type": "error",
     "traceback": [
      "Error in data.frame(job = bank$job, marital = bank$marital, housing_loan = bank$housing, : object 'bank' not found\nTraceback:\n",
      "1. data.frame(job = bank$job, marital = bank$marital, housing_loan = bank$housing, \n .     young = as.factor((bank$age < median(bank$age))), contacted_more_than_once = as.factor((bank$campaign > \n .         1)), contacted_before_this_campaign = as.factor((bank$previous < \n .         0)), success = (bank$y))"
     ]
    }
   ],
   "source": [
    "bank_new <- data.frame(job=bank$job,\n",
    "                     marital=bank$marital,\n",
    "                     housing_loan=bank$housing,\n",
    "                     young=as.factor((bank$age<median(bank$age))),\n",
    "                     contacted_more_than_once=as.factor((bank$campaign>1)),\n",
    "                     contacted_before_this_campaign=as.factor((bank$previous<0)),\n",
    "                     success=(bank$y))"
   ]
  },
  {
   "cell_type": "markdown",
   "metadata": {},
   "source": [
    "C.\tCount the number of successful term deposit sign-ups, using the table( ) command on the **success** variable."
   ]
  },
  {
   "cell_type": "code",
   "execution_count": null,
   "metadata": {},
   "outputs": [],
   "source": []
  },
  {
   "cell_type": "markdown",
   "metadata": {},
   "source": [
    "D.\tExpress the results of problem C as percentages by sending the results of the table( ) command into the prop.table( ) command."
   ]
  },
  {
   "cell_type": "code",
   "execution_count": null,
   "metadata": {},
   "outputs": [],
   "source": []
  },
  {
   "cell_type": "markdown",
   "metadata": {},
   "source": [
    "E.\tUsing the same techniques, show the percentages for the **marital** and **housing_loan** variables as well."
   ]
  },
  {
   "cell_type": "code",
   "execution_count": null,
   "metadata": {},
   "outputs": [],
   "source": []
  },
  {
   "cell_type": "markdown",
   "metadata": {},
   "source": [
    "## Part 2: Coerce the data frame into transactions\n",
    "\n",
    "F.\tInstall and library two packages: **arules** and **arulesViz**."
   ]
  },
  {
   "cell_type": "code",
   "execution_count": null,
   "metadata": {},
   "outputs": [],
   "source": []
  },
  {
   "cell_type": "markdown",
   "metadata": {},
   "source": [
    "G.\tCoerce the **bank_new** dataframe into a **sparse transactions matrix** called **bankX**."
   ]
  },
  {
   "cell_type": "code",
   "execution_count": null,
   "metadata": {},
   "outputs": [],
   "source": []
  },
  {
   "cell_type": "markdown",
   "metadata": {},
   "source": [
    "H.\tUse the itemFrequency( ) and itemFrequencyPlot( ) commands to explore the contents of **bankX**. What do you see?"
   ]
  },
  {
   "cell_type": "code",
   "execution_count": null,
   "metadata": {},
   "outputs": [],
   "source": []
  },
  {
   "cell_type": "markdown",
   "metadata": {},
   "source": [
    "I.\tThis is a fairly large dataset, so we will explore only the first 10 observations in the **bankX** transaction matrix: "
   ]
  },
  {
   "cell_type": "code",
   "execution_count": 5,
   "metadata": {},
   "outputs": [
    {
     "ename": "ERROR",
     "evalue": "Error in inspect(bankX[1:10]): could not find function \"inspect\"\n",
     "output_type": "error",
     "traceback": [
      "Error in inspect(bankX[1:10]): could not find function \"inspect\"\nTraceback:\n"
     ]
    }
   ],
   "source": [
    "inspect(bankX[1:10]) "
   ]
  },
  {
   "cell_type": "markdown",
   "metadata": {},
   "source": [
    "Explain the difference between **bank_new** and **bankX** in a block comment:"
   ]
  },
  {
   "cell_type": "code",
   "execution_count": null,
   "metadata": {},
   "outputs": [],
   "source": []
  },
  {
   "cell_type": "markdown",
   "metadata": {},
   "source": [
    "## Part 3: Use arules to discover patterns\n",
    "\n",
    "**Support** is the proportion of times that a particular set of items occurs relative to the whole dataset. <br>\n",
    "**Confidence** is proportion of times that the consequent occurs when the antecedent is present. <br>\n",
    "\n",
    "J.\tUse **apriori** to generate a set of rules with support over 0.005 and confidence over 0.3, and trying to predict who successfully signed up for a term deposit. <br>\n",
    "**Hint:** You need to define the **right-hand side rule (rhs)**."
   ]
  },
  {
   "cell_type": "code",
   "execution_count": null,
   "metadata": {},
   "outputs": [],
   "source": []
  },
  {
   "cell_type": "markdown",
   "metadata": {},
   "source": [
    "K.\tUse inspect() to review of the **ruleset**. "
   ]
  },
  {
   "cell_type": "code",
   "execution_count": null,
   "metadata": {},
   "outputs": [],
   "source": []
  },
  {
   "cell_type": "markdown",
   "metadata": {},
   "source": [
    "L.\tUse the output of inspect( ) or inspectDT( ) and describe **any 2 rules** the algorithm found.  "
   ]
  },
  {
   "cell_type": "code",
   "execution_count": null,
   "metadata": {},
   "outputs": [],
   "source": []
  }
 ],
 "metadata": {
  "kernelspec": {
   "display_name": "R",
   "language": "R",
   "name": "ir"
  },
  "language_info": {
   "codemirror_mode": "r",
   "file_extension": ".r",
   "mimetype": "text/x-r-source",
   "name": "R",
   "pygments_lexer": "r",
   "version": "4.0.3"
  }
 },
 "nbformat": 4,
 "nbformat_minor": 4
}
