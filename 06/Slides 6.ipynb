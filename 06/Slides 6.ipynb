{
 "cells": [
  {
   "cell_type": "markdown",
   "metadata": {
    "slideshow": {
     "slide_type": "slide"
    }
   },
   "source": [
    "# IST 387: Week 6\n",
    "\n",
    "### Introduction to visualization in R (Ch. 12)"
   ]
  },
  {
   "cell_type": "markdown",
   "metadata": {
    "slideshow": {
     "slide_type": "slide"
    }
   },
   "source": [
    "## Data Visualization Defined:\n",
    "\n",
    "- The graphical representation of data and information\n",
    "- Provides insight into complex datasets\n",
    "- Ex: graphs (e.g. pie charts), maps, infographics (https://www.visualistan.com/2014/03/education-around-world-infographic.html#postimages), dashboards \n",
    "\n",
    "<img src=\"https://ist387.s3.us-east-2.amazonaws.com/images/Lecture+6/Picture1.png\">"
   ]
  },
  {
   "cell_type": "markdown",
   "metadata": {
    "slideshow": {
     "slide_type": "slide"
    }
   },
   "source": [
    "## \"The Bandwidth of the Senses\"\n",
    "\n",
    "- Sight: comparable to the bandwidth of a computer network\n",
    "- 10x faster processing speed than the sense of touch\n",
    "\n",
    "<img src='https://ist387.s3.us-east-2.amazonaws.com/images/Lecture+6/Picture2.png'>"
   ]
  },
  {
   "cell_type": "markdown",
   "metadata": {
    "slideshow": {
     "slide_type": "slide"
    }
   },
   "source": [
    "## The Dao of Data Viz: Six Principles\n",
    "\n",
    "1. Your senses doth deceive you\n",
    "2. Thou shalt not purposely mislead thine audience\n",
    "3. Some visual encodings are understood better than others\n",
    "4. Some types of graphs are better than others\n",
    "5. Thou shalt avoid noise and distracting elements\n",
    "6. Good visualizations shall tell a story"
   ]
  },
  {
   "cell_type": "markdown",
   "metadata": {
    "slideshow": {
     "slide_type": "slide"
    }
   },
   "source": [
    "## Principle 1: Our senses deceive us\n",
    "\n",
    "It’s not just about the light coming into our eyes…\n",
    "\n",
    "<img src='https://ist387.s3.us-east-2.amazonaws.com/images/Lecture+6/Picture3.jpg'>\n",
    "\n",
    "... it’s about **context** too!"
   ]
  },
  {
   "cell_type": "markdown",
   "metadata": {
    "slideshow": {
     "slide_type": "slide"
    }
   },
   "source": [
    "## Principle 2: Do not mislead your audience\n",
    "\n",
    "<img src='https://ist387.s3.us-east-2.amazonaws.com/images/Lecture+6/Picture19.png'>"
   ]
  },
  {
   "cell_type": "markdown",
   "metadata": {
    "slideshow": {
     "slide_type": "slide"
    }
   },
   "source": [
    "## Principle 2: Do not mislead your audience\n",
    "\n",
    "<img src='https://ist387.s3.us-east-2.amazonaws.com/images/Lecture+6/Picture4.png' width=\"600\">"
   ]
  },
  {
   "cell_type": "markdown",
   "metadata": {
    "slideshow": {
     "slide_type": "slide"
    }
   },
   "source": [
    "## Principle 2: Do not mislead your audience\n",
    "\n",
    "<img src='https://ist387.s3.us-east-2.amazonaws.com/images/Lecture+6/Picture20.png' >"
   ]
  },
  {
   "cell_type": "markdown",
   "metadata": {
    "slideshow": {
     "slide_type": "slide"
    }
   },
   "source": [
    "## Principle 2: Do not mislead your audience\n",
    "\n",
    "### Do not omit data = cherry picking/ suppressing evidence\n",
    "\n",
    "<img src='https://ist387.s3.us-east-2.amazonaws.com/images/Lecture+6/Picture21.png'>\n"
   ]
  },
  {
   "cell_type": "markdown",
   "metadata": {
    "slideshow": {
     "slide_type": "slide"
    }
   },
   "source": [
    "## Principle 2: Do not mislead your audience\n",
    "\n",
    "### Correlation != Causation\n",
    "\n",
    "<img src='https://ist387.s3.us-east-2.amazonaws.com/images/Lecture+6/Picture8.png' width='600'>\n"
   ]
  },
  {
   "cell_type": "markdown",
   "metadata": {
    "slideshow": {
     "slide_type": "slide"
    }
   },
   "source": [
    "## Principle 3: Some visual encodings are decoded more easily than others\n",
    "\n",
    "- Position along a common scale (e.g. **Bar graphs**, **scatter plots**)\n",
    "- Position along nonaligned scales (e.g. **Multiple scatter plots**)\n",
    "- Length, direction, angle (e.g. **Bar charts**, **pie charts**)\n",
    "- Area (e.g. **Bubble charts**, **tree maps**)\n",
    "- Volume, curvature (e.g. **Volume charts**)\n",
    "- Shading, color saturation (e.g. **Heat maps**)\n"
   ]
  },
  {
   "cell_type": "markdown",
   "metadata": {
    "slideshow": {
     "slide_type": "slide"
    }
   },
   "source": [
    "## Principle 3: Some visual encodings are decoded more easily than others\n",
    "\n",
    "<img src='https://ist387.s3.us-east-2.amazonaws.com/images/Lecture+6/Picture23.png' width='1100'>"
   ]
  },
  {
   "cell_type": "markdown",
   "metadata": {
    "slideshow": {
     "slide_type": "slide"
    }
   },
   "source": [
    "## Principle 4: Some chart types are better than others\n",
    "\n",
    "<img src='https://ist387.s3.us-east-2.amazonaws.com/images/Lecture+6/Picture11.png' width=\"800\">"
   ]
  },
  {
   "cell_type": "markdown",
   "metadata": {
    "slideshow": {
     "slide_type": "slide"
    }
   },
   "source": [
    "## Principle 4: Some chart types are better than others\n",
    "\n",
    "<img src='https://ist387.s3.us-east-2.amazonaws.com/images/Lecture+6/Picture12.png' width=\"800\">"
   ]
  },
  {
   "cell_type": "markdown",
   "metadata": {
    "slideshow": {
     "slide_type": "slide"
    }
   },
   "source": [
    "## Principle 4: Some chart types are better than others\n",
    "\n",
    "<img src='https://ist387.s3.us-east-2.amazonaws.com/images/Lecture+6/Picture13.png' width='1100'>"
   ]
  },
  {
   "cell_type": "markdown",
   "metadata": {
    "slideshow": {
     "slide_type": "slide"
    }
   },
   "source": [
    "## Principle 4: Some chart types are better than others\n",
    "\n",
    "<img src='https://ist387.s3.us-east-2.amazonaws.com/images/Lecture+6/Picture14.png' width='1100'>"
   ]
  },
  {
   "cell_type": "markdown",
   "metadata": {
    "slideshow": {
     "slide_type": "slide"
    }
   },
   "source": [
    "## Principle 5: Avoid noise and distracting elements\n",
    "\n",
    "<img src='https://ist387.s3.us-east-2.amazonaws.com/images/Lecture+6/Picture22.png'>\n"
   ]
  },
  {
   "cell_type": "markdown",
   "metadata": {
    "slideshow": {
     "slide_type": "slide"
    }
   },
   "source": [
    "## Principle 5: Avoid noise and distracting elements\n",
    "\n",
    "<img src='https://ist387.s3.us-east-2.amazonaws.com/images/Lecture+6/Picture17.png'>"
   ]
  },
  {
   "cell_type": "markdown",
   "metadata": {
    "slideshow": {
     "slide_type": "slide"
    }
   },
   "source": [
    "## Principle 6: Good visualizations… tell a good story!\n",
    "\n",
    "<img src='https://ist387.s3.us-east-2.amazonaws.com/images/Lecture+6/Picture18.jpg' width='600'>"
   ]
  }
 ],
 "metadata": {
  "celltoolbar": "Slideshow",
  "kernelspec": {
   "display_name": "R",
   "language": "R",
   "name": "ir"
  },
  "language_info": {
   "codemirror_mode": "r",
   "file_extension": ".r",
   "mimetype": "text/x-r-source",
   "name": "R",
   "pygments_lexer": "r",
   "version": "4.0.3"
  }
 },
 "nbformat": 4,
 "nbformat_minor": 4
}
