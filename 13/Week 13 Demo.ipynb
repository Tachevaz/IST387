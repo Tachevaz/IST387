{
 "cells": [
  {
   "cell_type": "markdown",
   "metadata": {},
   "source": [
    "## Text Mining in R\n",
    "\n",
    "To be able to run the code in this tutorial and complete your HW/lab assignments, you need to install and library the following packages: \n",
    "- **quanteda**\n",
    "- **quanteda.textplots**:"
   ]
  },
  {
   "cell_type": "code",
   "execution_count": 3,
   "metadata": {},
   "outputs": [
    {
     "name": "stderr",
     "output_type": "stream",
     "text": [
      "also installing the dependencies ‘ISOcodes’, ‘fastmatch’, ‘RcppParallel’, ‘SnowballC’, ‘stopwords’\n",
      "\n",
      "\n",
      "Updating HTML index of packages in '.Library'\n",
      "\n",
      "Making 'packages.html' ...\n",
      " done\n",
      "\n",
      "Package version: 3.0.0\n",
      "Unicode version: 13.0\n",
      "ICU version: 67.1\n",
      "\n",
      "Parallel computing: 32 of 32 threads used.\n",
      "\n",
      "See https://quanteda.io for tutorials and examples.\n",
      "\n",
      "also installing the dependencies ‘coda’, ‘rle’, ‘extrafontdb’, ‘Rttf2pt1’, ‘statnet.common’, ‘extrafont’, ‘ggrepel’, ‘sna’, ‘igraph’, ‘network’\n",
      "\n",
      "\n",
      "Updating HTML index of packages in '.Library'\n",
      "\n",
      "Making 'packages.html' ...\n",
      " done\n",
      "\n"
     ]
    }
   ],
   "source": [
    "install.packages(\"quanteda\")\n",
    "library(quanteda)\n",
    "\n",
    "install.packages(\"quanteda.textplots\")\n",
    "library(quanteda.textplots)"
   ]
  },
  {
   "cell_type": "markdown",
   "metadata": {},
   "source": [
    "**HW 11** focuses on real-life data collected right here in Syracuse, NY! Here is an article which describes the data and the person behind it: https://samedelstein.medium.com/snowplow-naming-contest-data-2dcd38272caf <br>\n",
    "\n",
    "In this tutorial, we will explore a **subset of your HW data** to demonstrate the techniques needed to complete your assignment. Therefore, in the course of working on your homework, you may notice that the results slightly differ from what you see here, and that's okay - remember that we are only using part of the data in this demo. Nevertheless, the same logic, i.e. the same commands, will apply to HW 11. <br> \n",
    "\n",
    "As usual, our first step is to load the data into R by saving it to a dataframe with the **read_csv()** command from **tidyverse**. Let's call the dataframe **df**. Here is the link to the data: https://ist387.s3.us-east-2.amazonaws.com/data/snowplownamesSmall.csv\n"
   ]
  },
  {
   "cell_type": "code",
   "execution_count": 1,
   "metadata": {},
   "outputs": [
    {
     "name": "stderr",
     "output_type": "stream",
     "text": [
      "── \u001b[1mAttaching packages\u001b[22m ─────────────────────────────────────── tidyverse 1.3.0 ──\n",
      "\n",
      "\u001b[32m✔\u001b[39m \u001b[34mggplot2\u001b[39m 3.3.2     \u001b[32m✔\u001b[39m \u001b[34mpurrr  \u001b[39m 0.3.4\n",
      "\u001b[32m✔\u001b[39m \u001b[34mtibble \u001b[39m 3.0.4     \u001b[32m✔\u001b[39m \u001b[34mdplyr  \u001b[39m 1.0.2\n",
      "\u001b[32m✔\u001b[39m \u001b[34mtidyr  \u001b[39m 1.1.2     \u001b[32m✔\u001b[39m \u001b[34mstringr\u001b[39m 1.4.0\n",
      "\u001b[32m✔\u001b[39m \u001b[34mreadr  \u001b[39m 1.4.0     \u001b[32m✔\u001b[39m \u001b[34mforcats\u001b[39m 0.5.0\n",
      "\n",
      "── \u001b[1mConflicts\u001b[22m ────────────────────────────────────────── tidyverse_conflicts() ──\n",
      "\u001b[31m✖\u001b[39m \u001b[34mdplyr\u001b[39m::\u001b[32mfilter()\u001b[39m masks \u001b[34mstats\u001b[39m::filter()\n",
      "\u001b[31m✖\u001b[39m \u001b[34mdplyr\u001b[39m::\u001b[32mlag()\u001b[39m    masks \u001b[34mstats\u001b[39m::lag()\n",
      "\n",
      "\n",
      "\u001b[36m──\u001b[39m \u001b[1m\u001b[1mColumn specification\u001b[1m\u001b[22m \u001b[36m────────────────────────────────────────────────────────\u001b[39m\n",
      "cols(\n",
      "  submission_number = \u001b[32mcol_double()\u001b[39m,\n",
      "  submitter_name_anonymized = \u001b[31mcol_character()\u001b[39m,\n",
      "  snowplow_name = \u001b[31mcol_character()\u001b[39m,\n",
      "  meaning = \u001b[31mcol_character()\u001b[39m,\n",
      "  winning_name = \u001b[33mcol_logical()\u001b[39m\n",
      ")\n",
      "\n",
      "\n"
     ]
    }
   ],
   "source": [
    "library(tidyverse)\n",
    "url=\"https://ist387.s3.us-east-2.amazonaws.com/data/snowplownamesSmall.csv\"\n",
    "df <- read_csv(url)"
   ]
  },
  {
   "cell_type": "markdown",
   "metadata": {},
   "source": [
    "Let's see what we have with the **head()**, or **View()** command:"
   ]
  },
  {
   "cell_type": "code",
   "execution_count": 2,
   "metadata": {},
   "outputs": [
    {
     "data": {
      "text/html": [
       "<table>\n",
       "<caption>A tibble: 6 × 5</caption>\n",
       "<thead>\n",
       "\t<tr><th scope=col>submission_number</th><th scope=col>submitter_name_anonymized</th><th scope=col>snowplow_name</th><th scope=col>meaning</th><th scope=col>winning_name</th></tr>\n",
       "\t<tr><th scope=col>&lt;dbl&gt;</th><th scope=col>&lt;chr&gt;</th><th scope=col>&lt;chr&gt;</th><th scope=col>&lt;chr&gt;</th><th scope=col>&lt;lgl&gt;</th></tr>\n",
       "</thead>\n",
       "<tbody>\n",
       "\t<tr><td>1</td><td>kjlt9cua</td><td>rudolph            </td><td>The red nose cuts through any storm.                                                                             </td><td>FALSE</td></tr>\n",
       "\t<tr><td>2</td><td>KXKaabXN</td><td>salt life          </td><td>We may not be near the ocean like everyone else with the stickers that say Salt Life, but we have plenty of salt!</td><td>FALSE</td></tr>\n",
       "\t<tr><td>3</td><td>kjlt9cua</td><td>blizzard           </td><td>This plow can handle any storm.                                                                                  </td><td>FALSE</td></tr>\n",
       "\t<tr><td>4</td><td>Rv9sODqp</td><td>butter             </td><td>It's amazing how the snow plows through snow like butter!                                                        </td><td>FALSE</td></tr>\n",
       "\t<tr><td>5</td><td>zzcc5FDn</td><td>santa's 10 reindeer</td><td>They can deliver through the bad weather and snow.                                                               </td><td>FALSE</td></tr>\n",
       "\t<tr><td>6</td><td>wOrKO7XI</td><td>plowy mcplowface   </td><td>It would be a great name                                                                                         </td><td>FALSE</td></tr>\n",
       "</tbody>\n",
       "</table>\n"
      ],
      "text/latex": [
       "A tibble: 6 × 5\n",
       "\\begin{tabular}{lllll}\n",
       " submission\\_number & submitter\\_name\\_anonymized & snowplow\\_name & meaning & winning\\_name\\\\\n",
       " <dbl> & <chr> & <chr> & <chr> & <lgl>\\\\\n",
       "\\hline\n",
       "\t 1 & kjlt9cua & rudolph             & The red nose cuts through any storm.                                                                              & FALSE\\\\\n",
       "\t 2 & KXKaabXN & salt life           & We may not be near the ocean like everyone else with the stickers that say Salt Life, but we have plenty of salt! & FALSE\\\\\n",
       "\t 3 & kjlt9cua & blizzard            & This plow can handle any storm.                                                                                   & FALSE\\\\\n",
       "\t 4 & Rv9sODqp & butter              & It's amazing how the snow plows through snow like butter!                                                         & FALSE\\\\\n",
       "\t 5 & zzcc5FDn & santa's 10 reindeer & They can deliver through the bad weather and snow.                                                                & FALSE\\\\\n",
       "\t 6 & wOrKO7XI & plowy mcplowface    & It would be a great name                                                                                          & FALSE\\\\\n",
       "\\end{tabular}\n"
      ],
      "text/markdown": [
       "\n",
       "A tibble: 6 × 5\n",
       "\n",
       "| submission_number &lt;dbl&gt; | submitter_name_anonymized &lt;chr&gt; | snowplow_name &lt;chr&gt; | meaning &lt;chr&gt; | winning_name &lt;lgl&gt; |\n",
       "|---|---|---|---|---|\n",
       "| 1 | kjlt9cua | rudolph             | The red nose cuts through any storm.                                                                              | FALSE |\n",
       "| 2 | KXKaabXN | salt life           | We may not be near the ocean like everyone else with the stickers that say Salt Life, but we have plenty of salt! | FALSE |\n",
       "| 3 | kjlt9cua | blizzard            | This plow can handle any storm.                                                                                   | FALSE |\n",
       "| 4 | Rv9sODqp | butter              | It's amazing how the snow plows through snow like butter!                                                         | FALSE |\n",
       "| 5 | zzcc5FDn | santa's 10 reindeer | They can deliver through the bad weather and snow.                                                                | FALSE |\n",
       "| 6 | wOrKO7XI | plowy mcplowface    | It would be a great name                                                                                          | FALSE |\n",
       "\n"
      ],
      "text/plain": [
       "  submission_number submitter_name_anonymized snowplow_name      \n",
       "1 1                 kjlt9cua                  rudolph            \n",
       "2 2                 KXKaabXN                  salt life          \n",
       "3 3                 kjlt9cua                  blizzard           \n",
       "4 4                 Rv9sODqp                  butter             \n",
       "5 5                 zzcc5FDn                  santa's 10 reindeer\n",
       "6 6                 wOrKO7XI                  plowy mcplowface   \n",
       "  meaning                                                                                                          \n",
       "1 The red nose cuts through any storm.                                                                             \n",
       "2 We may not be near the ocean like everyone else with the stickers that say Salt Life, but we have plenty of salt!\n",
       "3 This plow can handle any storm.                                                                                  \n",
       "4 It's amazing how the snow plows through snow like butter!                                                        \n",
       "5 They can deliver through the bad weather and snow.                                                               \n",
       "6 It would be a great name                                                                                         \n",
       "  winning_name\n",
       "1 FALSE       \n",
       "2 FALSE       \n",
       "3 FALSE       \n",
       "4 FALSE       \n",
       "5 FALSE       \n",
       "6 FALSE       "
      ]
     },
     "metadata": {},
     "output_type": "display_data"
    }
   ],
   "source": [
    "head(df)"
   ]
  },
  {
   "cell_type": "markdown",
   "metadata": {},
   "source": [
    "For the text analysis, we will focus on the column in **df** which contains an explanation of the **meaning** behind each proposed name - **df$meaning**. <br>\n",
    "To analyze the text data in this column, we first need to transform it into a **document-feature matrix**, using the **corpus()** and **dfm()** functions, and **remove stop words** along the way as a form of **preprocessing**:"
   ]
  },
  {
   "cell_type": "code",
   "execution_count": 4,
   "metadata": {},
   "outputs": [
    {
     "name": "stderr",
     "output_type": "stream",
     "text": [
      "Warning message:\n",
      "“NA is replaced by empty string”\n",
      "Warning message:\n",
      "“'dfm.corpus()' is deprecated. Use 'tokens()' first.”\n",
      "Warning message:\n",
      "“'...' should not be used for tokens() arguments; use 'tokens()' first.”\n",
      "Warning message:\n",
      "“'remove' is deprecated; use dfm_remove() instead”\n"
     ]
    }
   ],
   "source": [
    "corp <- corpus(df$meaning)\n",
    "DFM <- dfm(corp, remove_punct=TRUE, remove=stopwords(\"english\"))"
   ]
  },
  {
   "cell_type": "markdown",
   "metadata": {},
   "source": [
    "**Removing stop words** basically means filtering out the most common words in the English language which don't have a meaning on their own outside of the context they are a part of. Think, for example, of **prepositions** and **pronouns**. The standard list of stop words used in text mining can be found here: https://www.geeksforgeeks.org/removing-stop-words-nltk-python/"
   ]
  },
  {
   "cell_type": "code",
   "execution_count": 8,
   "metadata": {},
   "outputs": [
    {
     "data": {
      "text/html": [
       "<style>\n",
       ".dl-inline {width: auto; margin:0; padding: 0}\n",
       ".dl-inline>dt, .dl-inline>dd {float: none; width: auto; display: inline-block}\n",
       ".dl-inline>dt::after {content: \":\\0020\"; padding-right: .5ex}\n",
       ".dl-inline>dt:not(:first-of-type) {padding-left: .5ex}\n",
       "</style><dl class=dl-inline><dt>text1</dt><dd>'The red nose cuts through any storm.'</dd><dt>text2</dt><dd>'We may not be near the ocean like everyone else with the stickers that say Salt Life, but we have plenty of salt!'</dd><dt>text3</dt><dd>'This plow can handle any storm.'</dd><dt>text4</dt><dd>'It\\'s amazing how the snow plows through snow like butter!'</dd><dt>text5</dt><dd>'They can deliver through the bad weather and snow.'</dd><dt>text6</dt><dd>'It would be a great name'</dd></dl>\n"
      ],
      "text/latex": [
       "\\begin{description*}\n",
       "\\item[text1] 'The red nose cuts through any storm.'\n",
       "\\item[text2] 'We may not be near the ocean like everyone else with the stickers that say Salt Life, but we have plenty of salt!'\n",
       "\\item[text3] 'This plow can handle any storm.'\n",
       "\\item[text4] 'It\\textbackslash{}'s amazing how the snow plows through snow like butter!'\n",
       "\\item[text5] 'They can deliver through the bad weather and snow.'\n",
       "\\item[text6] 'It would be a great name'\n",
       "\\end{description*}\n"
      ],
      "text/markdown": [
       "text1\n",
       ":   'The red nose cuts through any storm.'text2\n",
       ":   'We may not be near the ocean like everyone else with the stickers that say Salt Life, but we have plenty of salt!'text3\n",
       ":   'This plow can handle any storm.'text4\n",
       ":   'It\\'s amazing how the snow plows through snow like butter!'text5\n",
       ":   'They can deliver through the bad weather and snow.'text6\n",
       ":   'It would be a great name'\n",
       "\n"
      ],
      "text/plain": [
       "Corpus consisting of 6 documents.\n",
       "text1 :\n",
       "\"The red nose cuts through any storm.\"\n",
       "\n",
       "text2 :\n",
       "\"We may not be near the ocean like everyone else with the sti...\"\n",
       "\n",
       "text3 :\n",
       "\"This plow can handle any storm.\"\n",
       "\n",
       "text4 :\n",
       "\"It's amazing how the snow plows through snow like butter!\"\n",
       "\n",
       "text5 :\n",
       "\"They can deliver through the bad weather and snow.\"\n",
       "\n",
       "text6 :\n",
       "\"It would be a great name\"\n"
      ]
     },
     "metadata": {},
     "output_type": "display_data"
    },
    {
     "data": {
      "text/html": [
       "50"
      ],
      "text/latex": [
       "50"
      ],
      "text/markdown": [
       "50"
      ],
      "text/plain": [
       "[1] 50"
      ]
     },
     "metadata": {},
     "output_type": "display_data"
    }
   ],
   "source": [
    "head(corp) #a corpus object simply renders the information in the df$meaning column as a collection of documents\n",
    "length(corp) #there are a total of 50 documents in our dataset"
   ]
  },
  {
   "cell_type": "code",
   "execution_count": 6,
   "metadata": {},
   "outputs": [
    {
     "data": {
      "text/plain": [
       "Document-feature matrix of: 6 documents, 161 features (96.79% sparse) and 0 docvars.\n",
       "       features\n",
       "docs    red nose cuts storm may near ocean like everyone else\n",
       "  text1   1    1    1     1   0    0     0    0        0    0\n",
       "  text2   0    0    0     0   1    1     1    1        1    1\n",
       "  text3   0    0    0     1   0    0     0    0        0    0\n",
       "  text4   0    0    0     0   0    0     0    1        0    0\n",
       "  text5   0    0    0     0   0    0     0    0        0    0\n",
       "  text6   0    0    0     0   0    0     0    0        0    0\n",
       "[ reached max_nfeat ... 151 more features ]"
      ]
     },
     "metadata": {},
     "output_type": "display_data"
    }
   ],
   "source": [
    "head(DFM) #a document-feture matrix has 1 row for each document (we have 50 of them) and 1 column for each unique word in the dataset (feature=word; our DFM contains a total of 161 unique words)"
   ]
  },
  {
   "cell_type": "markdown",
   "metadata": {},
   "source": [
    "Once we have the text data formatted as a DFM, we can finally start analyzing it. Usually, starting off with plotting a **wordcloud** to see what the most frequent words in our corpus are, is not a bad idea:"
   ]
  },
  {
   "cell_type": "code",
   "execution_count": 10,
   "metadata": {},
   "outputs": [
    {
     "data": {
      "image/png": "[encoded data removed]",
      "text/plain": [
       "plot without title"
      ]
     },
     "metadata": {
      "image/png": {
       "height": 420,
       "width": 420
      }
     },
     "output_type": "display_data"
    }
   ],
   "source": [
    "textplot_wordcloud(DFM, min_count = 1) #min_count determines the minimum frequency of each word in the cloud"
   ]
  },
  {
   "cell_type": "markdown",
   "metadata": {},
   "source": [
    "We can now move on to a depper level of analysis, such as **sentiment analysis** to see whether our text data is more on the positive or negative opinion side. <br>\n",
    "First, however, we need to **preprocess** the data a bit further by creating a list of the unique words in our corpus based on the DFM we created earlier, and then sort that list so the most frequently occurring words appear on top:"
   ]
  },
  {
   "cell_type": "code",
   "execution_count": 11,
   "metadata": {},
   "outputs": [
    {
     "data": {
      "text/html": [
       "<style>\n",
       ".dl-inline {width: auto; margin:0; padding: 0}\n",
       ".dl-inline>dt, .dl-inline>dd {float: none; width: auto; display: inline-block}\n",
       ".dl-inline>dt::after {content: \":\\0020\"; padding-right: .5ex}\n",
       ".dl-inline>dt:not(:first-of-type) {padding-left: .5ex}\n",
       "</style><dl class=dl-inline><dt>�</dt><dd>20</dd><dt>snow</dt><dd>6</dd><dt>name</dt><dd>6</dd><dt>like</dt><dd>4</dd><dt>syracuse</dt><dd>4</dd><dt>can</dt><dd>3</dd><dt>great</dt><dd>3</dd><dt>north</dt><dd>3</dd><dt>storm</dt><dd>2</dd><dt>salt</dt><dd>2</dd><dt>plow</dt><dd>2</dd><dt>basketball</dt><dd>2</dd><dt>history</dt><dd>2</dd><dt>christmas</dt><dd>2</dd><dt>think</dt><dd>2</dd><dt>city</dt><dd>2</dd><dt>obvious</dt><dd>2</dd><dt>strength</dt><dd>2</dd><dt>stuff</dt><dd>2</dd><dt>boaty</dt><dd>2</dd><dt>mcboatface</dt><dd>2</dd><dt>named</dt><dd>2</dd><dt>frosty</dt><dd>2</dd><dt>character</dt><dd>2</dd><dt>shot</dt><dd>2</dd><dt>game</dt><dd>2</dd><dt>large</dt><dd>2</dd><dt>royal</dt><dd>2</dd><dt>house</dt><dd>2</dd><dt>movie</dt><dd>2</dd><dt>better</dt><dd>2</dd><dt>red</dt><dd>1</dd><dt>nose</dt><dd>1</dd><dt>cuts</dt><dd>1</dd><dt>may</dt><dd>1</dd><dt>near</dt><dd>1</dd><dt>ocean</dt><dd>1</dd><dt>everyone</dt><dd>1</dd><dt>else</dt><dd>1</dd><dt>stickers</dt><dd>1</dd><dt>say</dt><dd>1</dd><dt>life</dt><dd>1</dd><dt>plenty</dt><dd>1</dd><dt>handle</dt><dd>1</dd><dt>amazing</dt><dd>1</dd><dt>plows</dt><dd>1</dd><dt>butter</dt><dd>1</dd><dt>deliver</dt><dd>1</dd><dt>bad</dt><dd>1</dd><dt>weather</dt><dd>1</dd><dt>respect</dt><dd>1</dd><dt>saltine</dt><dd>1</dd><dt>warrior</dt><dd>1</dd><dt>greatest</dt><dd>1</dd><dt>ncaa</dt><dd>1</dd><dt>coach</dt><dd>1</dd><dt>names</dt><dd>1</dd><dt>self</dt><dd>1</dd><dt>explanatory</dt><dd>1</dd><dt>pandemic</dt><dd>1</dd><dt>gifted</dt><dd>1</dd><dt>leadership</dt><dd>1</dd><dt>efforts</dt><dd>1</dd><dt>king</dt><dd>1</dd><dt>plowing</dt><dd>1</dd><dt>local</dt><dd>1</dd><dt>university</dt><dd>1</dd><dt>course</dt><dd>1</dd><dt>hoping</dt><dd>1</dd><dt>connection</dt><dd>1</dd><dt>fighting</dt><dd>1</dd><dt>disease</dt><dd>1</dd><dt>outbreaks</dt><dd>1</dd><dt>snow-themed</dt><dd>1</dd><dt>every</dt><dd>1</dd><dt>morning</dt><dd>1</dd><dt>trust</dt><dd>1</dd><dt>moves</dt><dd>1</dd><dt>way</dt><dd>1</dd><dt>scoops</dt><dd>1</dd><dt>support</dt><dd>1</dd><dt>su</dt><dd>1</dd><dt>athletics</dt><dd>1</dd><dt>daughter</dt><dd>1</dd><dt>7</dt><dd>1</dd><dt>thinks</dt><dd>1</dd><dt>spirit</dt><dd>1</dd><dt>funny</dt><dd>1</dd><dt>hopefully</dt><dd>1</dd><dt>accurate</dt><dd>1</dd><dt>burr</dt><dd>1</dd><dt>cold</dt><dd>1</dd><dt>mixed</dt><dd>1</dd><dt>nice</dt><dd>1</dd><dt>bridgette</dt><dd>1</dd><dt>william</dt><dd>1</dd><dt>walsh</dt><dd>1</dd><dt>snowman</dt><dd>1</dd><dt>famous</dt><dd>1</dd><dt>snowplow</dt><dd>1</dd><dt>play</dt><dd>1</dd><dt>favorite</dt><dd>1</dd><dt>aunt</dt><dd>1</dd><dt>second</dt><dd>1</dd><dt>win</dt><dd>1</dd><dt>huge</dt><dd>1</dd><dt>town</dt><dd>1</dd><dt>clock</dt><dd>1</dd><dt>invented</dt><dd>1</dd><dt>without</dt><dd>1</dd><dt>truck</dt><dd>1</dd><dt>simpsons</dt><dd>1</dd><dt>thrones</dt><dd>1</dd><dt>strong</dt><dd>1</dd><dt>loyal</dt><dd>1</dd><dt>starks</dt><dd>1</dd><dt>one</dt><dd>1</dd><dt>original</dt><dd>1</dd><dt>settlers</dt><dd>1</dd><dt>modern</dt><dd>1</dd><dt>contributed</dt><dd>1</dd><dt>engineering</dt><dd>1</dd><dt>skills</dt><dd>1</dd><dt>development</dt><dd>1</dd><dt>central</dt><dd>1</dd><dt>new</dt><dd>1</dd><dt>york</dt><dd>1</dd><dt>cross</dt><dd>1</dd><dt>ernie</dt><dd>1</dd><dt>davis</dt><dd>1</dd><dt>polar</dt><dd>1</dd><dt>express</dt><dd>1</dd><dt>winter</dt><dd>1</dd><dt>coming</dt><dd>1</dd><dt>busting</dt><dd>1</dd><dt>drifts</dt><dd>1</dd><dt>blizzards</dt><dd>1</dd><dt>defiance</dt><dd>1</dd><dt>storms</dt><dd>1</dd><dt>snowy</dt><dd>1</dd><dt>mcboatface-what-you-get-when-you-let-the-internet-decide.amp.html</dt><dd>1</dd><dt>kaboom</dt><dd>1</dd><dt>sibling</dt><dd>1</dd><dt>https://en.wikipedia.org/wiki/boaty_mcboatface</dt><dd>1</dd><dt>onondaga</dt><dd>1</dd><dt>county</dt><dd>1</dd><dt>kids</dt><dd>1</dd><dt>adults</dt><dd>1</dd><dt>relate</dt><dd>1</dd><dt>cars</dt><dd>1</dd><dt>reference</dt><dd>1</dd><dt>castle</dt><dd>1</dd><dt>located</dt><dd>1</dd><dt>center</dt><dd>1</dd><dt>benefit</dt><dd>1</dd><dt>machine</dt><dd>1</dd><dt>operator</dt><dd>1</dd><dt>organization</dt><dd>1</dd><dt>make</dt><dd>1</dd><dt>lives</dt><dd>1</dd><dt>literally</dt><dd>1</dd></dl>\n"
      ],
      "text/latex": [
       "\\begin{description*}\n",
       "\\item[�] 20\n",
       "\\item[snow] 6\n",
       "\\item[name] 6\n",
       "\\item[like] 4\n",
       "\\item[syracuse] 4\n",
       "\\item[can] 3\n",
       "\\item[great] 3\n",
       "\\item[north] 3\n",
       "\\item[storm] 2\n",
       "\\item[salt] 2\n",
       "\\item[plow] 2\n",
       "\\item[basketball] 2\n",
       "\\item[history] 2\n",
       "\\item[christmas] 2\n",
       "\\item[think] 2\n",
       "\\item[city] 2\n",
       "\\item[obvious] 2\n",
       "\\item[strength] 2\n",
       "\\item[stuff] 2\n",
       "\\item[boaty] 2\n",
       "\\item[mcboatface] 2\n",
       "\\item[named] 2\n",
       "\\item[frosty] 2\n",
       "\\item[character] 2\n",
       "\\item[shot] 2\n",
       "\\item[game] 2\n",
       "\\item[large] 2\n",
       "\\item[royal] 2\n",
       "\\item[house] 2\n",
       "\\item[movie] 2\n",
       "\\item[better] 2\n",
       "\\item[red] 1\n",
       "\\item[nose] 1\n",
       "\\item[cuts] 1\n",
       "\\item[may] 1\n",
       "\\item[near] 1\n",
       "\\item[ocean] 1\n",
       "\\item[everyone] 1\n",
       "\\item[else] 1\n",
       "\\item[stickers] 1\n",
       "\\item[say] 1\n",
       "\\item[life] 1\n",
       "\\item[plenty] 1\n",
       "\\item[handle] 1\n",
       "\\item[amazing] 1\n",
       "\\item[plows] 1\n",
       "\\item[butter] 1\n",
       "\\item[deliver] 1\n",
       "\\item[bad] 1\n",
       "\\item[weather] 1\n",
       "\\item[respect] 1\n",
       "\\item[saltine] 1\n",
       "\\item[warrior] 1\n",
       "\\item[greatest] 1\n",
       "\\item[ncaa] 1\n",
       "\\item[coach] 1\n",
       "\\item[names] 1\n",
       "\\item[self] 1\n",
       "\\item[explanatory] 1\n",
       "\\item[pandemic] 1\n",
       "\\item[gifted] 1\n",
       "\\item[leadership] 1\n",
       "\\item[efforts] 1\n",
       "\\item[king] 1\n",
       "\\item[plowing] 1\n",
       "\\item[local] 1\n",
       "\\item[university] 1\n",
       "\\item[course] 1\n",
       "\\item[hoping] 1\n",
       "\\item[connection] 1\n",
       "\\item[fighting] 1\n",
       "\\item[disease] 1\n",
       "\\item[outbreaks] 1\n",
       "\\item[snow-themed] 1\n",
       "\\item[every] 1\n",
       "\\item[morning] 1\n",
       "\\item[trust] 1\n",
       "\\item[moves] 1\n",
       "\\item[way] 1\n",
       "\\item[scoops] 1\n",
       "\\item[support] 1\n",
       "\\item[su] 1\n",
       "\\item[athletics] 1\n",
       "\\item[daughter] 1\n",
       "\\item[7] 1\n",
       "\\item[thinks] 1\n",
       "\\item[spirit] 1\n",
       "\\item[funny] 1\n",
       "\\item[hopefully] 1\n",
       "\\item[accurate] 1\n",
       "\\item[burr] 1\n",
       "\\item[cold] 1\n",
       "\\item[mixed] 1\n",
       "\\item[nice] 1\n",
       "\\item[bridgette] 1\n",
       "\\item[william] 1\n",
       "\\item[walsh] 1\n",
       "\\item[snowman] 1\n",
       "\\item[famous] 1\n",
       "\\item[snowplow] 1\n",
       "\\item[play] 1\n",
       "\\item[favorite] 1\n",
       "\\item[aunt] 1\n",
       "\\item[second] 1\n",
       "\\item[win] 1\n",
       "\\item[huge] 1\n",
       "\\item[town] 1\n",
       "\\item[clock] 1\n",
       "\\item[invented] 1\n",
       "\\item[without] 1\n",
       "\\item[truck] 1\n",
       "\\item[simpsons] 1\n",
       "\\item[thrones] 1\n",
       "\\item[strong] 1\n",
       "\\item[loyal] 1\n",
       "\\item[starks] 1\n",
       "\\item[one] 1\n",
       "\\item[original] 1\n",
       "\\item[settlers] 1\n",
       "\\item[modern] 1\n",
       "\\item[contributed] 1\n",
       "\\item[engineering] 1\n",
       "\\item[skills] 1\n",
       "\\item[development] 1\n",
       "\\item[central] 1\n",
       "\\item[new] 1\n",
       "\\item[york] 1\n",
       "\\item[cross] 1\n",
       "\\item[ernie] 1\n",
       "\\item[davis] 1\n",
       "\\item[polar] 1\n",
       "\\item[express] 1\n",
       "\\item[winter] 1\n",
       "\\item[coming] 1\n",
       "\\item[busting] 1\n",
       "\\item[drifts] 1\n",
       "\\item[blizzards] 1\n",
       "\\item[defiance] 1\n",
       "\\item[storms] 1\n",
       "\\item[snowy] 1\n",
       "\\item[mcboatface-what-you-get-when-you-let-the-internet-decide.amp.html] 1\n",
       "\\item[kaboom] 1\n",
       "\\item[sibling] 1\n",
       "\\item[https://en.wikipedia.org/wiki/boaty\\textbackslash{}\\_mcboatface] 1\n",
       "\\item[onondaga] 1\n",
       "\\item[county] 1\n",
       "\\item[kids] 1\n",
       "\\item[adults] 1\n",
       "\\item[relate] 1\n",
       "\\item[cars] 1\n",
       "\\item[reference] 1\n",
       "\\item[castle] 1\n",
       "\\item[located] 1\n",
       "\\item[center] 1\n",
       "\\item[benefit] 1\n",
       "\\item[machine] 1\n",
       "\\item[operator] 1\n",
       "\\item[organization] 1\n",
       "\\item[make] 1\n",
       "\\item[lives] 1\n",
       "\\item[literally] 1\n",
       "\\end{description*}\n"
      ],
      "text/markdown": [
       "�\n",
       ":   20snow\n",
       ":   6name\n",
       ":   6like\n",
       ":   4syracuse\n",
       ":   4can\n",
       ":   3great\n",
       ":   3north\n",
       ":   3storm\n",
       ":   2salt\n",
       ":   2plow\n",
       ":   2basketball\n",
       ":   2history\n",
       ":   2christmas\n",
       ":   2think\n",
       ":   2city\n",
       ":   2obvious\n",
       ":   2strength\n",
       ":   2stuff\n",
       ":   2boaty\n",
       ":   2mcboatface\n",
       ":   2named\n",
       ":   2frosty\n",
       ":   2character\n",
       ":   2shot\n",
       ":   2game\n",
       ":   2large\n",
       ":   2royal\n",
       ":   2house\n",
       ":   2movie\n",
       ":   2better\n",
       ":   2red\n",
       ":   1nose\n",
       ":   1cuts\n",
       ":   1may\n",
       ":   1near\n",
       ":   1ocean\n",
       ":   1everyone\n",
       ":   1else\n",
       ":   1stickers\n",
       ":   1say\n",
       ":   1life\n",
       ":   1plenty\n",
       ":   1handle\n",
       ":   1amazing\n",
       ":   1plows\n",
       ":   1butter\n",
       ":   1deliver\n",
       ":   1bad\n",
       ":   1weather\n",
       ":   1respect\n",
       ":   1saltine\n",
       ":   1warrior\n",
       ":   1greatest\n",
       ":   1ncaa\n",
       ":   1coach\n",
       ":   1names\n",
       ":   1self\n",
       ":   1explanatory\n",
       ":   1pandemic\n",
       ":   1gifted\n",
       ":   1leadership\n",
       ":   1efforts\n",
       ":   1king\n",
       ":   1plowing\n",
       ":   1local\n",
       ":   1university\n",
       ":   1course\n",
       ":   1hoping\n",
       ":   1connection\n",
       ":   1fighting\n",
       ":   1disease\n",
       ":   1outbreaks\n",
       ":   1snow-themed\n",
       ":   1every\n",
       ":   1morning\n",
       ":   1trust\n",
       ":   1moves\n",
       ":   1way\n",
       ":   1scoops\n",
       ":   1support\n",
       ":   1su\n",
       ":   1athletics\n",
       ":   1daughter\n",
       ":   17\n",
       ":   1thinks\n",
       ":   1spirit\n",
       ":   1funny\n",
       ":   1hopefully\n",
       ":   1accurate\n",
       ":   1burr\n",
       ":   1cold\n",
       ":   1mixed\n",
       ":   1nice\n",
       ":   1bridgette\n",
       ":   1william\n",
       ":   1walsh\n",
       ":   1snowman\n",
       ":   1famous\n",
       ":   1snowplow\n",
       ":   1play\n",
       ":   1favorite\n",
       ":   1aunt\n",
       ":   1second\n",
       ":   1win\n",
       ":   1huge\n",
       ":   1town\n",
       ":   1clock\n",
       ":   1invented\n",
       ":   1without\n",
       ":   1truck\n",
       ":   1simpsons\n",
       ":   1thrones\n",
       ":   1strong\n",
       ":   1loyal\n",
       ":   1starks\n",
       ":   1one\n",
       ":   1original\n",
       ":   1settlers\n",
       ":   1modern\n",
       ":   1contributed\n",
       ":   1engineering\n",
       ":   1skills\n",
       ":   1development\n",
       ":   1central\n",
       ":   1new\n",
       ":   1york\n",
       ":   1cross\n",
       ":   1ernie\n",
       ":   1davis\n",
       ":   1polar\n",
       ":   1express\n",
       ":   1winter\n",
       ":   1coming\n",
       ":   1busting\n",
       ":   1drifts\n",
       ":   1blizzards\n",
       ":   1defiance\n",
       ":   1storms\n",
       ":   1snowy\n",
       ":   1mcboatface-what-you-get-when-you-let-the-internet-decide.amp.html\n",
       ":   1kaboom\n",
       ":   1sibling\n",
       ":   1https://en.wikipedia.org/wiki/boaty_mcboatface\n",
       ":   1onondaga\n",
       ":   1county\n",
       ":   1kids\n",
       ":   1adults\n",
       ":   1relate\n",
       ":   1cars\n",
       ":   1reference\n",
       ":   1castle\n",
       ":   1located\n",
       ":   1center\n",
       ":   1benefit\n",
       ":   1machine\n",
       ":   1operator\n",
       ":   1organization\n",
       ":   1make\n",
       ":   1lives\n",
       ":   1literally\n",
       ":   1\n",
       "\n"
      ],
      "text/plain": [
       "                                                                � \n",
       "                                                               20 \n",
       "                                                             snow \n",
       "                                                                6 \n",
       "                                                             name \n",
       "                                                                6 \n",
       "                                                             like \n",
       "                                                                4 \n",
       "                                                         syracuse \n",
       "                                                                4 \n",
       "                                                              can \n",
       "                                                                3 \n",
       "                                                            great \n",
       "                                                                3 \n",
       "                                                            north \n",
       "                                                                3 \n",
       "                                                            storm \n",
       "                                                                2 \n",
       "                                                             salt \n",
       "                                                                2 \n",
       "                                                             plow \n",
       "                                                                2 \n",
       "                                                       basketball \n",
       "                                                                2 \n",
       "                                                          history \n",
       "                                                                2 \n",
       "                                                        christmas \n",
       "                                                                2 \n",
       "                                                            think \n",
       "                                                                2 \n",
       "                                                             city \n",
       "                                                                2 \n",
       "                                                          obvious \n",
       "                                                                2 \n",
       "                                                         strength \n",
       "                                                                2 \n",
       "                                                            stuff \n",
       "                                                                2 \n",
       "                                                            boaty \n",
       "                                                                2 \n",
       "                                                       mcboatface \n",
       "                                                                2 \n",
       "                                                            named \n",
       "                                                                2 \n",
       "                                                           frosty \n",
       "                                                                2 \n",
       "                                                        character \n",
       "                                                                2 \n",
       "                                                             shot \n",
       "                                                                2 \n",
       "                                                             game \n",
       "                                                                2 \n",
       "                                                            large \n",
       "                                                                2 \n",
       "                                                            royal \n",
       "                                                                2 \n",
       "                                                            house \n",
       "                                                                2 \n",
       "                                                            movie \n",
       "                                                                2 \n",
       "                                                           better \n",
       "                                                                2 \n",
       "                                                              red \n",
       "                                                                1 \n",
       "                                                             nose \n",
       "                                                                1 \n",
       "                                                             cuts \n",
       "                                                                1 \n",
       "                                                              may \n",
       "                                                                1 \n",
       "                                                             near \n",
       "                                                                1 \n",
       "                                                            ocean \n",
       "                                                                1 \n",
       "                                                         everyone \n",
       "                                                                1 \n",
       "                                                             else \n",
       "                                                                1 \n",
       "                                                         stickers \n",
       "                                                                1 \n",
       "                                                              say \n",
       "                                                                1 \n",
       "                                                             life \n",
       "                                                                1 \n",
       "                                                           plenty \n",
       "                                                                1 \n",
       "                                                           handle \n",
       "                                                                1 \n",
       "                                                          amazing \n",
       "                                                                1 \n",
       "                                                            plows \n",
       "                                                                1 \n",
       "                                                           butter \n",
       "                                                                1 \n",
       "                                                          deliver \n",
       "                                                                1 \n",
       "                                                              bad \n",
       "                                                                1 \n",
       "                                                          weather \n",
       "                                                                1 \n",
       "                                                          respect \n",
       "                                                                1 \n",
       "                                                          saltine \n",
       "                                                                1 \n",
       "                                                          warrior \n",
       "                                                                1 \n",
       "                                                         greatest \n",
       "                                                                1 \n",
       "                                                             ncaa \n",
       "                                                                1 \n",
       "                                                            coach \n",
       "                                                                1 \n",
       "                                                            names \n",
       "                                                                1 \n",
       "                                                             self \n",
       "                                                                1 \n",
       "                                                      explanatory \n",
       "                                                                1 \n",
       "                                                         pandemic \n",
       "                                                                1 \n",
       "                                                           gifted \n",
       "                                                                1 \n",
       "                                                       leadership \n",
       "                                                                1 \n",
       "                                                          efforts \n",
       "                                                                1 \n",
       "                                                             king \n",
       "                                                                1 \n",
       "                                                          plowing \n",
       "                                                                1 \n",
       "                                                            local \n",
       "                                                                1 \n",
       "                                                       university \n",
       "                                                                1 \n",
       "                                                           course \n",
       "                                                                1 \n",
       "                                                           hoping \n",
       "                                                                1 \n",
       "                                                       connection \n",
       "                                                                1 \n",
       "                                                         fighting \n",
       "                                                                1 \n",
       "                                                          disease \n",
       "                                                                1 \n",
       "                                                        outbreaks \n",
       "                                                                1 \n",
       "                                                      snow-themed \n",
       "                                                                1 \n",
       "                                                            every \n",
       "                                                                1 \n",
       "                                                          morning \n",
       "                                                                1 \n",
       "                                                            trust \n",
       "                                                                1 \n",
       "                                                            moves \n",
       "                                                                1 \n",
       "                                                              way \n",
       "                                                                1 \n",
       "                                                           scoops \n",
       "                                                                1 \n",
       "                                                          support \n",
       "                                                                1 \n",
       "                                                               su \n",
       "                                                                1 \n",
       "                                                        athletics \n",
       "                                                                1 \n",
       "                                                         daughter \n",
       "                                                                1 \n",
       "                                                                7 \n",
       "                                                                1 \n",
       "                                                           thinks \n",
       "                                                                1 \n",
       "                                                           spirit \n",
       "                                                                1 \n",
       "                                                            funny \n",
       "                                                                1 \n",
       "                                                        hopefully \n",
       "                                                                1 \n",
       "                                                         accurate \n",
       "                                                                1 \n",
       "                                                             burr \n",
       "                                                                1 \n",
       "                                                             cold \n",
       "                                                                1 \n",
       "                                                            mixed \n",
       "                                                                1 \n",
       "                                                             nice \n",
       "                                                                1 \n",
       "                                                        bridgette \n",
       "                                                                1 \n",
       "                                                          william \n",
       "                                                                1 \n",
       "                                                            walsh \n",
       "                                                                1 \n",
       "                                                          snowman \n",
       "                                                                1 \n",
       "                                                           famous \n",
       "                                                                1 \n",
       "                                                         snowplow \n",
       "                                                                1 \n",
       "                                                             play \n",
       "                                                                1 \n",
       "                                                         favorite \n",
       "                                                                1 \n",
       "                                                             aunt \n",
       "                                                                1 \n",
       "                                                           second \n",
       "                                                                1 \n",
       "                                                              win \n",
       "                                                                1 \n",
       "                                                             huge \n",
       "                                                                1 \n",
       "                                                             town \n",
       "                                                                1 \n",
       "                                                            clock \n",
       "                                                                1 \n",
       "                                                         invented \n",
       "                                                                1 \n",
       "                                                          without \n",
       "                                                                1 \n",
       "                                                            truck \n",
       "                                                                1 \n",
       "                                                         simpsons \n",
       "                                                                1 \n",
       "                                                          thrones \n",
       "                                                                1 \n",
       "                                                           strong \n",
       "                                                                1 \n",
       "                                                            loyal \n",
       "                                                                1 \n",
       "                                                           starks \n",
       "                                                                1 \n",
       "                                                              one \n",
       "                                                                1 \n",
       "                                                         original \n",
       "                                                                1 \n",
       "                                                         settlers \n",
       "                                                                1 \n",
       "                                                           modern \n",
       "                                                                1 \n",
       "                                                      contributed \n",
       "                                                                1 \n",
       "                                                      engineering \n",
       "                                                                1 \n",
       "                                                           skills \n",
       "                                                                1 \n",
       "                                                      development \n",
       "                                                                1 \n",
       "                                                          central \n",
       "                                                                1 \n",
       "                                                              new \n",
       "                                                                1 \n",
       "                                                             york \n",
       "                                                                1 \n",
       "                                                            cross \n",
       "                                                                1 \n",
       "                                                            ernie \n",
       "                                                                1 \n",
       "                                                            davis \n",
       "                                                                1 \n",
       "                                                            polar \n",
       "                                                                1 \n",
       "                                                          express \n",
       "                                                                1 \n",
       "                                                           winter \n",
       "                                                                1 \n",
       "                                                           coming \n",
       "                                                                1 \n",
       "                                                          busting \n",
       "                                                                1 \n",
       "                                                           drifts \n",
       "                                                                1 \n",
       "                                                        blizzards \n",
       "                                                                1 \n",
       "                                                         defiance \n",
       "                                                                1 \n",
       "                                                           storms \n",
       "                                                                1 \n",
       "                                                            snowy \n",
       "                                                                1 \n",
       "mcboatface-what-you-get-when-you-let-the-internet-decide.amp.html \n",
       "                                                                1 \n",
       "                                                           kaboom \n",
       "                                                                1 \n",
       "                                                          sibling \n",
       "                                                                1 \n",
       "                   https://en.wikipedia.org/wiki/boaty_mcboatface \n",
       "                                                                1 \n",
       "                                                         onondaga \n",
       "                                                                1 \n",
       "                                                           county \n",
       "                                                                1 \n",
       "                                                             kids \n",
       "                                                                1 \n",
       "                                                           adults \n",
       "                                                                1 \n",
       "                                                           relate \n",
       "                                                                1 \n",
       "                                                             cars \n",
       "                                                                1 \n",
       "                                                        reference \n",
       "                                                                1 \n",
       "                                                           castle \n",
       "                                                                1 \n",
       "                                                          located \n",
       "                                                                1 \n",
       "                                                           center \n",
       "                                                                1 \n",
       "                                                          benefit \n",
       "                                                                1 \n",
       "                                                          machine \n",
       "                                                                1 \n",
       "                                                         operator \n",
       "                                                                1 \n",
       "                                                     organization \n",
       "                                                                1 \n",
       "                                                             make \n",
       "                                                                1 \n",
       "                                                            lives \n",
       "                                                                1 \n",
       "                                                        literally \n",
       "                                                                1 "
      ]
     },
     "metadata": {},
     "output_type": "display_data"
    }
   ],
   "source": [
    "m <- as.matrix(DFM)\n",
    "wordCounts <- colSums(m)\n",
    "wordCounts <- sort(wordCounts, decreasing=TRUE) \n",
    "wordCounts"
   ]
  },
  {
   "cell_type": "markdown",
   "metadata": {},
   "source": [
    "We can see that after the strange character R cannot decipher (most likely an apostrophe (') that was encoded wrong), **\"\"snow\"\"** and **\"name\"** are the top words in our data, each appearing 6 times, etc. <br><br>\n",
    "**Sentiment analysis** works by comparing these unique words in our data with a list of common positive words in the English language, followed by a similar list of common negative words. Thus, the next step in our analysis is to load these two lists into R. Here are the links to each of them:\n",
    "\n",
    "https://ist387.s3.us-east-2.amazonaws.com/data/positive-words.txt\n",
    "\n",
    "https://ist387.s3.us-east-2.amazonaws.com/data/negative-words.txt"
   ]
  },
  {
   "cell_type": "code",
   "execution_count": 16,
   "metadata": {},
   "outputs": [
    {
     "data": {
      "text/html": [
       "<style>\n",
       ".list-inline {list-style: none; margin:0; padding: 0}\n",
       ".list-inline>li {display: inline-block}\n",
       ".list-inline>li:not(:last-child)::after {content: \"\\00b7\"; padding: 0 .5ex}\n",
       "</style>\n",
       "<ol class=list-inline><li>';;;;;;;;;;;;;;;;;;;;;;;;;;;;;;;;;;;;;;;;;;;;;;;;;;;;;;;;;;;;;;;;;;;;;;;;;;;;'</li><li>'; '</li><li>'; Opinion Lexicon: Positive'</li><li>';'</li><li>'; This file contains a list of POSITIVE opinion words (or sentiment words).'</li><li>';'</li><li>'; This file and the papers can all be downloaded from '</li><li><span style=white-space:pre-wrap>';    http://www.cs.uic.edu/~liub/FBS/sentiment-analysis.html'</span></li><li>';'</li><li>'; If you use this list, please cite one of the following two papers:'</li><li>';'</li><li><span style=white-space:pre-wrap>';   Minqing Hu and Bing Liu. \"Mining and Summarizing Customer Reviews.\" '</span></li><li><span style=white-space:pre-wrap>';       Proceedings of the ACM SIGKDD International Conference on Knowledge '</span></li><li><span style=white-space:pre-wrap>';       Discovery and Data Mining (KDD-2004), Aug 22-25, 2004, Seattle, '</span></li><li><span style=white-space:pre-wrap>';       Washington, USA, '</span></li><li><span style=white-space:pre-wrap>';   Bing Liu, Minqing Hu and Junsheng Cheng. \"Opinion Observer: Analyzing '</span></li><li><span style=white-space:pre-wrap>';       and Comparing Opinions on the Web.\" Proceedings of the 14th '</span></li><li><span style=white-space:pre-wrap>';       International World Wide Web conference (WWW-2005), May 10-14, '</span></li><li><span style=white-space:pre-wrap>';       2005, Chiba, Japan.'</span></li><li>';'</li><li>'; Notes: '</li><li><span style=white-space:pre-wrap>';    1. The appearance of an opinion word in a sentence does not necessarily  '</span></li><li><span style=white-space:pre-wrap>';       mean that the sentence expresses a positive or negative opinion. '</span></li><li><span style=white-space:pre-wrap>';       See the paper below:'</span></li><li>';'</li><li><span style=white-space:pre-wrap>';       Bing Liu. \"Sentiment Analysis and Subjectivity.\" An chapter in '</span></li><li><span style=white-space:pre-wrap>';          Handbook of Natural Language Processing, Second Edition, '</span></li><li><span style=white-space:pre-wrap>';          (editors: N. Indurkhya and F. J. Damerau), 2010.'</span></li><li>';'</li><li><span style=white-space:pre-wrap>';    2. You will notice many misspelled words in the list. They are not '</span></li><li><span style=white-space:pre-wrap>';       mistakes. They are included as these misspelled words appear '</span></li><li><span style=white-space:pre-wrap>';       frequently in social media content. '</span></li><li>';'</li><li>';;;;;;;;;;;;;;;;;;;;;;;;;;;;;;;;;;;;;;;;;;;;;;;;;;;;;;;;;;;;;;;;;;;;;;;;;;;;'</li><li>'a+'</li><li>'abound'</li><li>'abounds'</li><li>'abundance'</li><li>'abundant'</li><li>'accessable'</li><li>'accessible'</li><li>'acclaim'</li><li>'acclaimed'</li><li>'acclamation'</li><li>'accolade'</li><li>'accolades'</li><li>'accommodative'</li><li>'accomodative'</li><li>'accomplish'</li><li>'accomplished'</li></ol>\n"
      ],
      "text/latex": [
       "\\begin{enumerate*}\n",
       "\\item ';;;;;;;;;;;;;;;;;;;;;;;;;;;;;;;;;;;;;;;;;;;;;;;;;;;;;;;;;;;;;;;;;;;;;;;;;;;;'\n",
       "\\item '; '\n",
       "\\item '; Opinion Lexicon: Positive'\n",
       "\\item ';'\n",
       "\\item '; This file contains a list of POSITIVE opinion words (or sentiment words).'\n",
       "\\item ';'\n",
       "\\item '; This file and the papers can all be downloaded from '\n",
       "\\item ';    http://www.cs.uic.edu/\\textasciitilde{}liub/FBS/sentiment-analysis.html'\n",
       "\\item ';'\n",
       "\\item '; If you use this list, please cite one of the following two papers:'\n",
       "\\item ';'\n",
       "\\item ';   Minqing Hu and Bing Liu. \"Mining and Summarizing Customer Reviews.\" '\n",
       "\\item ';       Proceedings of the ACM SIGKDD International Conference on Knowledge '\n",
       "\\item ';       Discovery and Data Mining (KDD-2004), Aug 22-25, 2004, Seattle, '\n",
       "\\item ';       Washington, USA, '\n",
       "\\item ';   Bing Liu, Minqing Hu and Junsheng Cheng. \"Opinion Observer: Analyzing '\n",
       "\\item ';       and Comparing Opinions on the Web.\" Proceedings of the 14th '\n",
       "\\item ';       International World Wide Web conference (WWW-2005), May 10-14, '\n",
       "\\item ';       2005, Chiba, Japan.'\n",
       "\\item ';'\n",
       "\\item '; Notes: '\n",
       "\\item ';    1. The appearance of an opinion word in a sentence does not necessarily  '\n",
       "\\item ';       mean that the sentence expresses a positive or negative opinion. '\n",
       "\\item ';       See the paper below:'\n",
       "\\item ';'\n",
       "\\item ';       Bing Liu. \"Sentiment Analysis and Subjectivity.\" An chapter in '\n",
       "\\item ';          Handbook of Natural Language Processing, Second Edition, '\n",
       "\\item ';          (editors: N. Indurkhya and F. J. Damerau), 2010.'\n",
       "\\item ';'\n",
       "\\item ';    2. You will notice many misspelled words in the list. They are not '\n",
       "\\item ';       mistakes. They are included as these misspelled words appear '\n",
       "\\item ';       frequently in social media content. '\n",
       "\\item ';'\n",
       "\\item ';;;;;;;;;;;;;;;;;;;;;;;;;;;;;;;;;;;;;;;;;;;;;;;;;;;;;;;;;;;;;;;;;;;;;;;;;;;;'\n",
       "\\item 'a+'\n",
       "\\item 'abound'\n",
       "\\item 'abounds'\n",
       "\\item 'abundance'\n",
       "\\item 'abundant'\n",
       "\\item 'accessable'\n",
       "\\item 'accessible'\n",
       "\\item 'acclaim'\n",
       "\\item 'acclaimed'\n",
       "\\item 'acclamation'\n",
       "\\item 'accolade'\n",
       "\\item 'accolades'\n",
       "\\item 'accommodative'\n",
       "\\item 'accomodative'\n",
       "\\item 'accomplish'\n",
       "\\item 'accomplished'\n",
       "\\end{enumerate*}\n"
      ],
      "text/markdown": [
       "1. ';;;;;;;;;;;;;;;;;;;;;;;;;;;;;;;;;;;;;;;;;;;;;;;;;;;;;;;;;;;;;;;;;;;;;;;;;;;;'\n",
       "2. '; '\n",
       "3. '; Opinion Lexicon: Positive'\n",
       "4. ';'\n",
       "5. '; This file contains a list of POSITIVE opinion words (or sentiment words).'\n",
       "6. ';'\n",
       "7. '; This file and the papers can all be downloaded from '\n",
       "8. <span style=white-space:pre-wrap>';    http://www.cs.uic.edu/~liub/FBS/sentiment-analysis.html'</span>\n",
       "9. ';'\n",
       "10. '; If you use this list, please cite one of the following two papers:'\n",
       "11. ';'\n",
       "12. <span style=white-space:pre-wrap>';   Minqing Hu and Bing Liu. \"Mining and Summarizing Customer Reviews.\" '</span>\n",
       "13. <span style=white-space:pre-wrap>';       Proceedings of the ACM SIGKDD International Conference on Knowledge '</span>\n",
       "14. <span style=white-space:pre-wrap>';       Discovery and Data Mining (KDD-2004), Aug 22-25, 2004, Seattle, '</span>\n",
       "15. <span style=white-space:pre-wrap>';       Washington, USA, '</span>\n",
       "16. <span style=white-space:pre-wrap>';   Bing Liu, Minqing Hu and Junsheng Cheng. \"Opinion Observer: Analyzing '</span>\n",
       "17. <span style=white-space:pre-wrap>';       and Comparing Opinions on the Web.\" Proceedings of the 14th '</span>\n",
       "18. <span style=white-space:pre-wrap>';       International World Wide Web conference (WWW-2005), May 10-14, '</span>\n",
       "19. <span style=white-space:pre-wrap>';       2005, Chiba, Japan.'</span>\n",
       "20. ';'\n",
       "21. '; Notes: '\n",
       "22. <span style=white-space:pre-wrap>';    1. The appearance of an opinion word in a sentence does not necessarily  '</span>\n",
       "23. <span style=white-space:pre-wrap>';       mean that the sentence expresses a positive or negative opinion. '</span>\n",
       "24. <span style=white-space:pre-wrap>';       See the paper below:'</span>\n",
       "25. ';'\n",
       "26. <span style=white-space:pre-wrap>';       Bing Liu. \"Sentiment Analysis and Subjectivity.\" An chapter in '</span>\n",
       "27. <span style=white-space:pre-wrap>';          Handbook of Natural Language Processing, Second Edition, '</span>\n",
       "28. <span style=white-space:pre-wrap>';          (editors: N. Indurkhya and F. J. Damerau), 2010.'</span>\n",
       "29. ';'\n",
       "30. <span style=white-space:pre-wrap>';    2. You will notice many misspelled words in the list. They are not '</span>\n",
       "31. <span style=white-space:pre-wrap>';       mistakes. They are included as these misspelled words appear '</span>\n",
       "32. <span style=white-space:pre-wrap>';       frequently in social media content. '</span>\n",
       "33. ';'\n",
       "34. ';;;;;;;;;;;;;;;;;;;;;;;;;;;;;;;;;;;;;;;;;;;;;;;;;;;;;;;;;;;;;;;;;;;;;;;;;;;;'\n",
       "35. 'a+'\n",
       "36. 'abound'\n",
       "37. 'abounds'\n",
       "38. 'abundance'\n",
       "39. 'abundant'\n",
       "40. 'accessable'\n",
       "41. 'accessible'\n",
       "42. 'acclaim'\n",
       "43. 'acclaimed'\n",
       "44. 'acclamation'\n",
       "45. 'accolade'\n",
       "46. 'accolades'\n",
       "47. 'accommodative'\n",
       "48. 'accomodative'\n",
       "49. 'accomplish'\n",
       "50. 'accomplished'\n",
       "\n",
       "\n"
      ],
      "text/plain": [
       " [1] \";;;;;;;;;;;;;;;;;;;;;;;;;;;;;;;;;;;;;;;;;;;;;;;;;;;;;;;;;;;;;;;;;;;;;;;;;;;;\"  \n",
       " [2] \"; \"                                                                            \n",
       " [3] \"; Opinion Lexicon: Positive\"                                                   \n",
       " [4] \";\"                                                                             \n",
       " [5] \"; This file contains a list of POSITIVE opinion words (or sentiment words).\"   \n",
       " [6] \";\"                                                                             \n",
       " [7] \"; This file and the papers can all be downloaded from \"                        \n",
       " [8] \";    http://www.cs.uic.edu/~liub/FBS/sentiment-analysis.html\"                  \n",
       " [9] \";\"                                                                             \n",
       "[10] \"; If you use this list, please cite one of the following two papers:\"          \n",
       "[11] \";\"                                                                             \n",
       "[12] \";   Minqing Hu and Bing Liu. \\\"Mining and Summarizing Customer Reviews.\\\" \"    \n",
       "[13] \";       Proceedings of the ACM SIGKDD International Conference on Knowledge \"  \n",
       "[14] \";       Discovery and Data Mining (KDD-2004), Aug 22-25, 2004, Seattle, \"      \n",
       "[15] \";       Washington, USA, \"                                                     \n",
       "[16] \";   Bing Liu, Minqing Hu and Junsheng Cheng. \\\"Opinion Observer: Analyzing \"   \n",
       "[17] \";       and Comparing Opinions on the Web.\\\" Proceedings of the 14th \"         \n",
       "[18] \";       International World Wide Web conference (WWW-2005), May 10-14, \"       \n",
       "[19] \";       2005, Chiba, Japan.\"                                                   \n",
       "[20] \";\"                                                                             \n",
       "[21] \"; Notes: \"                                                                     \n",
       "[22] \";    1. The appearance of an opinion word in a sentence does not necessarily  \"\n",
       "[23] \";       mean that the sentence expresses a positive or negative opinion. \"     \n",
       "[24] \";       See the paper below:\"                                                  \n",
       "[25] \";\"                                                                             \n",
       "[26] \";       Bing Liu. \\\"Sentiment Analysis and Subjectivity.\\\" An chapter in \"     \n",
       "[27] \";          Handbook of Natural Language Processing, Second Edition, \"          \n",
       "[28] \";          (editors: N. Indurkhya and F. J. Damerau), 2010.\"                   \n",
       "[29] \";\"                                                                             \n",
       "[30] \";    2. You will notice many misspelled words in the list. They are not \"      \n",
       "[31] \";       mistakes. They are included as these misspelled words appear \"         \n",
       "[32] \";       frequently in social media content. \"                                  \n",
       "[33] \";\"                                                                             \n",
       "[34] \";;;;;;;;;;;;;;;;;;;;;;;;;;;;;;;;;;;;;;;;;;;;;;;;;;;;;;;;;;;;;;;;;;;;;;;;;;;;\"  \n",
       "[35] \"a+\"                                                                            \n",
       "[36] \"abound\"                                                                        \n",
       "[37] \"abounds\"                                                                       \n",
       "[38] \"abundance\"                                                                     \n",
       "[39] \"abundant\"                                                                      \n",
       "[40] \"accessable\"                                                                    \n",
       "[41] \"accessible\"                                                                    \n",
       "[42] \"acclaim\"                                                                       \n",
       "[43] \"acclaimed\"                                                                     \n",
       "[44] \"acclamation\"                                                                   \n",
       "[45] \"accolade\"                                                                      \n",
       "[46] \"accolades\"                                                                     \n",
       "[47] \"accommodative\"                                                                 \n",
       "[48] \"accomodative\"                                                                  \n",
       "[49] \"accomplish\"                                                                    \n",
       "[50] \"accomplished\"                                                                  "
      ]
     },
     "metadata": {},
     "output_type": "display_data"
    }
   ],
   "source": [
    "posWords <- scan(\"https://ist387.s3.us-east-2.amazonaws.com/data/positive-words.txt\", character(0), sep = \"\\n\")\n",
    "head(posWords,50)"
   ]
  },
  {
   "cell_type": "markdown",
   "metadata": {},
   "source": [
    "We can see by printing the first 50 rows of the positive words list that the file starts with a meta data description of the list - we need to remove it by filtering out the first 34 rows in order to only keep the meaningful data:"
   ]
  },
  {
   "cell_type": "code",
   "execution_count": 17,
   "metadata": {},
   "outputs": [
    {
     "data": {
      "text/html": [
       "<style>\n",
       ".list-inline {list-style: none; margin:0; padding: 0}\n",
       ".list-inline>li {display: inline-block}\n",
       ".list-inline>li:not(:last-child)::after {content: \"\\00b7\"; padding: 0 .5ex}\n",
       "</style>\n",
       "<ol class=list-inline><li>'a+'</li><li>'abound'</li><li>'abounds'</li><li>'abundance'</li><li>'abundant'</li><li>'accessable'</li></ol>\n"
      ],
      "text/latex": [
       "\\begin{enumerate*}\n",
       "\\item 'a+'\n",
       "\\item 'abound'\n",
       "\\item 'abounds'\n",
       "\\item 'abundance'\n",
       "\\item 'abundant'\n",
       "\\item 'accessable'\n",
       "\\end{enumerate*}\n"
      ],
      "text/markdown": [
       "1. 'a+'\n",
       "2. 'abound'\n",
       "3. 'abounds'\n",
       "4. 'abundance'\n",
       "5. 'abundant'\n",
       "6. 'accessable'\n",
       "\n",
       "\n"
      ],
      "text/plain": [
       "[1] \"a+\"         \"abound\"     \"abounds\"    \"abundance\"  \"abundant\"  \n",
       "[6] \"accessable\""
      ]
     },
     "metadata": {},
     "output_type": "display_data"
    },
    {
     "data": {
      "text/html": [
       "2006"
      ],
      "text/latex": [
       "2006"
      ],
      "text/markdown": [
       "2006"
      ],
      "text/plain": [
       "[1] 2006"
      ]
     },
     "metadata": {},
     "output_type": "display_data"
    }
   ],
   "source": [
    "posWords <- posWords[-1:-34]\n",
    "head(posWords)\n",
    "length(posWords)"
   ]
  },
  {
   "cell_type": "markdown",
   "metadata": {},
   "source": [
    "We'll do the same with the list of negative words:"
   ]
  },
  {
   "cell_type": "code",
   "execution_count": 18,
   "metadata": {},
   "outputs": [
    {
     "data": {
      "text/html": [
       "4783"
      ],
      "text/latex": [
       "4783"
      ],
      "text/markdown": [
       "4783"
      ],
      "text/plain": [
       "[1] 4783"
      ]
     },
     "metadata": {},
     "output_type": "display_data"
    }
   ],
   "source": [
    "negWords <- scan(\"https://ist387.s3.us-east-2.amazonaws.com/data/negative-words.txt\", character(0), sep = \"\\n\")\n",
    "negWords <- negWords[-1:-34]\n",
    "length(negWords)"
   ]
  },
  {
   "cell_type": "markdown",
   "metadata": {},
   "source": [
    "Now that we have a clean list of the unique words in our data (**wordCounts**), as well as a list of positive words (**posWords**) and negative words (**negWords**), the next step is to compare **wordCounts** with **posWords** and **negWords**, respectively. This way, we can count, e.g. how many of the positive words in **posWords** appear in our text (**wordCounts**).The following code matches the words from **wordCounts** to the list of positive words, **posWords**:"
   ]
  },
  {
   "cell_type": "code",
   "execution_count": 19,
   "metadata": {},
   "outputs": [],
   "source": [
    "matchedP <- match(names(wordCounts), posWords, nomatch = 0)"
   ]
  },
  {
   "cell_type": "code",
   "execution_count": 21,
   "metadata": {},
   "outputs": [
    {
     "data": {
      "text/html": [
       "<style>\n",
       ".list-inline {list-style: none; margin:0; padding: 0}\n",
       ".list-inline>li {display: inline-block}\n",
       ".list-inline>li:not(:last-child)::after {content: \"\\00b7\"; padding: 0 .5ex}\n",
       "</style>\n",
       "<ol class=list-inline><li>0</li><li>0</li><li>0</li><li>1088</li><li>0</li><li>0</li></ol>\n"
      ],
      "text/latex": [
       "\\begin{enumerate*}\n",
       "\\item 0\n",
       "\\item 0\n",
       "\\item 0\n",
       "\\item 1088\n",
       "\\item 0\n",
       "\\item 0\n",
       "\\end{enumerate*}\n"
      ],
      "text/markdown": [
       "1. 0\n",
       "2. 0\n",
       "3. 0\n",
       "4. 1088\n",
       "5. 0\n",
       "6. 0\n",
       "\n",
       "\n"
      ],
      "text/plain": [
       "[1]    0    0    0 1088    0    0"
      ]
     },
     "metadata": {},
     "output_type": "display_data"
    },
    {
     "data": {
      "text/html": [
       "161"
      ],
      "text/latex": [
       "161"
      ],
      "text/markdown": [
       "161"
      ],
      "text/plain": [
       "[1] 161"
      ]
     },
     "metadata": {},
     "output_type": "display_data"
    }
   ],
   "source": [
    "head(matchedP)\n",
    "length(matchedP)"
   ]
  },
  {
   "cell_type": "markdown",
   "metadata": {},
   "source": [
    "**matchedP** is a vector of the same length as **wordCounts** = 161, because it checks each word in **wordCounts** to make sure if it's present in **posWords** (in which case it returns the **index** of that word in **posWords**) or not (if that's the case, it returns **0**). Following this logic, we can say that the first 3 words in **wordCounts** are **NOT** present in **posWords** but word #4 **IS** - it's word #1088 in **posWords**. Let's see which word that is in **wordCounts** and **posWords**, respectively, by using the word's indices in each vector: "
   ]
  },
  {
   "cell_type": "code",
   "execution_count": 24,
   "metadata": {},
   "outputs": [
    {
     "data": {
      "text/html": [
       "<style>\n",
       ".dl-inline {width: auto; margin:0; padding: 0}\n",
       ".dl-inline>dt, .dl-inline>dd {float: none; width: auto; display: inline-block}\n",
       ".dl-inline>dt::after {content: \":\\0020\"; padding-right: .5ex}\n",
       ".dl-inline>dt:not(:first-of-type) {padding-left: .5ex}\n",
       "</style><dl class=dl-inline><dt>�</dt><dd>20</dd><dt>snow</dt><dd>6</dd><dt>name</dt><dd>6</dd><dt>like</dt><dd>4</dd><dt>syracuse</dt><dd>4</dd><dt>can</dt><dd>3</dd></dl>\n"
      ],
      "text/latex": [
       "\\begin{description*}\n",
       "\\item[�] 20\n",
       "\\item[snow] 6\n",
       "\\item[name] 6\n",
       "\\item[like] 4\n",
       "\\item[syracuse] 4\n",
       "\\item[can] 3\n",
       "\\end{description*}\n"
      ],
      "text/markdown": [
       "�\n",
       ":   20snow\n",
       ":   6name\n",
       ":   6like\n",
       ":   4syracuse\n",
       ":   4can\n",
       ":   3\n",
       "\n"
      ],
      "text/plain": [
       "       �     snow     name     like syracuse      can \n",
       "      20        6        6        4        4        3 "
      ]
     },
     "metadata": {},
     "output_type": "display_data"
    },
    {
     "data": {
      "text/html": [
       "<strong>like:</strong> 4"
      ],
      "text/latex": [
       "\\textbf{like:} 4"
      ],
      "text/markdown": [
       "**like:** 4"
      ],
      "text/plain": [
       "like \n",
       "   4 "
      ]
     },
     "metadata": {},
     "output_type": "display_data"
    },
    {
     "data": {
      "text/html": [
       "'like'"
      ],
      "text/latex": [
       "'like'"
      ],
      "text/markdown": [
       "'like'"
      ],
      "text/plain": [
       "[1] \"like\""
      ]
     },
     "metadata": {},
     "output_type": "display_data"
    }
   ],
   "source": [
    "head(wordCounts)\n",
    "wordCounts[4]\n",
    "posWords[1088]"
   ]
  },
  {
   "cell_type": "markdown",
   "metadata": {},
   "source": [
    "The following command allows us to print all the postivie words in **posWords** which are present in our data (**wordCounts**):"
   ]
  },
  {
   "cell_type": "code",
   "execution_count": 25,
   "metadata": {},
   "outputs": [
    {
     "data": {
      "text/html": [
       "<style>\n",
       ".list-inline {list-style: none; margin:0; padding: 0}\n",
       ".list-inline>li {display: inline-block}\n",
       ".list-inline>li:not(:last-child)::after {content: \"\\00b7\"; padding: 0 .5ex}\n",
       "</style>\n",
       "<ol class=list-inline><li>'like'</li><li>'great'</li><li>'better'</li><li>'amazing'</li><li>'respect'</li><li>'greatest'</li><li>'gifted'</li><li>'trust'</li><li>'support'</li><li>'accurate'</li><li>'nice'</li><li>'famous'</li><li>'favorite'</li><li>'win'</li><li>'strong'</li><li>'loyal'</li><li>'modern'</li><li>'benefit'</li></ol>\n"
      ],
      "text/latex": [
       "\\begin{enumerate*}\n",
       "\\item 'like'\n",
       "\\item 'great'\n",
       "\\item 'better'\n",
       "\\item 'amazing'\n",
       "\\item 'respect'\n",
       "\\item 'greatest'\n",
       "\\item 'gifted'\n",
       "\\item 'trust'\n",
       "\\item 'support'\n",
       "\\item 'accurate'\n",
       "\\item 'nice'\n",
       "\\item 'famous'\n",
       "\\item 'favorite'\n",
       "\\item 'win'\n",
       "\\item 'strong'\n",
       "\\item 'loyal'\n",
       "\\item 'modern'\n",
       "\\item 'benefit'\n",
       "\\end{enumerate*}\n"
      ],
      "text/markdown": [
       "1. 'like'\n",
       "2. 'great'\n",
       "3. 'better'\n",
       "4. 'amazing'\n",
       "5. 'respect'\n",
       "6. 'greatest'\n",
       "7. 'gifted'\n",
       "8. 'trust'\n",
       "9. 'support'\n",
       "10. 'accurate'\n",
       "11. 'nice'\n",
       "12. 'famous'\n",
       "13. 'favorite'\n",
       "14. 'win'\n",
       "15. 'strong'\n",
       "16. 'loyal'\n",
       "17. 'modern'\n",
       "18. 'benefit'\n",
       "\n",
       "\n"
      ],
      "text/plain": [
       " [1] \"like\"     \"great\"    \"better\"   \"amazing\"  \"respect\"  \"greatest\"\n",
       " [7] \"gifted\"   \"trust\"    \"support\"  \"accurate\" \"nice\"     \"famous\"  \n",
       "[13] \"favorite\" \"win\"      \"strong\"   \"loyal\"    \"modern\"   \"benefit\" "
      ]
     },
     "metadata": {},
     "output_type": "display_data"
    }
   ],
   "source": [
    "posWords[matchedP[matchedP != 0]]"
   ]
  },
  {
   "cell_type": "markdown",
   "metadata": {},
   "source": [
    "Let's count the total number of positive word matches:"
   ]
  },
  {
   "cell_type": "code",
   "execution_count": 27,
   "metadata": {},
   "outputs": [
    {
     "data": {
      "text/html": [
       "24"
      ],
      "text/latex": [
       "24"
      ],
      "text/markdown": [
       "24"
      ],
      "text/plain": [
       "[1] 24"
      ]
     },
     "metadata": {},
     "output_type": "display_data"
    },
    {
     "data": {
      "text/html": [
       "<style>\n",
       ".dl-inline {width: auto; margin:0; padding: 0}\n",
       ".dl-inline>dt, .dl-inline>dd {float: none; width: auto; display: inline-block}\n",
       ".dl-inline>dt::after {content: \":\\0020\"; padding-right: .5ex}\n",
       ".dl-inline>dt:not(:first-of-type) {padding-left: .5ex}\n",
       "</style><dl class=dl-inline><dt>like</dt><dd>4</dd><dt>great</dt><dd>3</dd><dt>better</dt><dd>2</dd><dt>amazing</dt><dd>1</dd><dt>respect</dt><dd>1</dd><dt>greatest</dt><dd>1</dd><dt>gifted</dt><dd>1</dd><dt>trust</dt><dd>1</dd><dt>support</dt><dd>1</dd><dt>accurate</dt><dd>1</dd><dt>nice</dt><dd>1</dd><dt>famous</dt><dd>1</dd><dt>favorite</dt><dd>1</dd><dt>win</dt><dd>1</dd><dt>strong</dt><dd>1</dd><dt>loyal</dt><dd>1</dd><dt>modern</dt><dd>1</dd><dt>benefit</dt><dd>1</dd></dl>\n"
      ],
      "text/latex": [
       "\\begin{description*}\n",
       "\\item[like] 4\n",
       "\\item[great] 3\n",
       "\\item[better] 2\n",
       "\\item[amazing] 1\n",
       "\\item[respect] 1\n",
       "\\item[greatest] 1\n",
       "\\item[gifted] 1\n",
       "\\item[trust] 1\n",
       "\\item[support] 1\n",
       "\\item[accurate] 1\n",
       "\\item[nice] 1\n",
       "\\item[famous] 1\n",
       "\\item[favorite] 1\n",
       "\\item[win] 1\n",
       "\\item[strong] 1\n",
       "\\item[loyal] 1\n",
       "\\item[modern] 1\n",
       "\\item[benefit] 1\n",
       "\\end{description*}\n"
      ],
      "text/markdown": [
       "like\n",
       ":   4great\n",
       ":   3better\n",
       ":   2amazing\n",
       ":   1respect\n",
       ":   1greatest\n",
       ":   1gifted\n",
       ":   1trust\n",
       ":   1support\n",
       ":   1accurate\n",
       ":   1nice\n",
       ":   1famous\n",
       ":   1favorite\n",
       ":   1win\n",
       ":   1strong\n",
       ":   1loyal\n",
       ":   1modern\n",
       ":   1benefit\n",
       ":   1\n",
       "\n"
      ],
      "text/plain": [
       "    like    great   better  amazing  respect greatest   gifted    trust \n",
       "       4        3        2        1        1        1        1        1 \n",
       " support accurate     nice   famous favorite      win   strong    loyal \n",
       "       1        1        1        1        1        1        1        1 \n",
       "  modern  benefit \n",
       "       1        1 "
      ]
     },
     "metadata": {},
     "output_type": "display_data"
    }
   ],
   "source": [
    "sum(wordCounts[matchedP != 0])\n",
    "wordCounts[matchedP != 0]"
   ]
  },
  {
   "cell_type": "markdown",
   "metadata": {},
   "source": [
    "In one step, this is the same procedure, but for the **negative words**:"
   ]
  },
  {
   "cell_type": "code",
   "execution_count": 28,
   "metadata": {},
   "outputs": [
    {
     "data": {
      "text/html": [
       "<style>\n",
       ".list-inline {list-style: none; margin:0; padding: 0}\n",
       ".list-inline>li {display: inline-block}\n",
       ".list-inline>li:not(:last-child)::after {content: \"\\00b7\"; padding: 0 .5ex}\n",
       "</style>\n",
       "<ol class=list-inline><li>'bad'</li><li>'funny'</li><li>'cold'</li><li>'defiance'</li></ol>\n"
      ],
      "text/latex": [
       "\\begin{enumerate*}\n",
       "\\item 'bad'\n",
       "\\item 'funny'\n",
       "\\item 'cold'\n",
       "\\item 'defiance'\n",
       "\\end{enumerate*}\n"
      ],
      "text/markdown": [
       "1. 'bad'\n",
       "2. 'funny'\n",
       "3. 'cold'\n",
       "4. 'defiance'\n",
       "\n",
       "\n"
      ],
      "text/plain": [
       "[1] \"bad\"      \"funny\"    \"cold\"     \"defiance\""
      ]
     },
     "metadata": {},
     "output_type": "display_data"
    },
    {
     "data": {
      "text/html": [
       "<style>\n",
       ".dl-inline {width: auto; margin:0; padding: 0}\n",
       ".dl-inline>dt, .dl-inline>dd {float: none; width: auto; display: inline-block}\n",
       ".dl-inline>dt::after {content: \":\\0020\"; padding-right: .5ex}\n",
       ".dl-inline>dt:not(:first-of-type) {padding-left: .5ex}\n",
       "</style><dl class=dl-inline><dt>bad</dt><dd>1</dd><dt>funny</dt><dd>1</dd><dt>cold</dt><dd>1</dd><dt>defiance</dt><dd>1</dd></dl>\n"
      ],
      "text/latex": [
       "\\begin{description*}\n",
       "\\item[bad] 1\n",
       "\\item[funny] 1\n",
       "\\item[cold] 1\n",
       "\\item[defiance] 1\n",
       "\\end{description*}\n"
      ],
      "text/markdown": [
       "bad\n",
       ":   1funny\n",
       ":   1cold\n",
       ":   1defiance\n",
       ":   1\n",
       "\n"
      ],
      "text/plain": [
       "     bad    funny     cold defiance \n",
       "       1        1        1        1 "
      ]
     },
     "metadata": {},
     "output_type": "display_data"
    },
    {
     "data": {
      "text/html": [
       "4"
      ],
      "text/latex": [
       "4"
      ],
      "text/markdown": [
       "4"
      ],
      "text/plain": [
       "[1] 4"
      ]
     },
     "metadata": {},
     "output_type": "display_data"
    }
   ],
   "source": [
    "matchedN <- match(names(wordCounts), negWords, nomatch = 0)\n",
    "negWords[matchedN[matchedN != 0]]\n",
    "wordCounts[matchedN != 0]\n",
    "sum(wordCounts[matchedN != 0])"
   ]
  },
  {
   "cell_type": "markdown",
   "metadata": {},
   "source": [
    "This simple analysis shows that there are more positive words in our corpus than negative, i.e. the sentiment is more positive."
   ]
  }
 ],
 "metadata": {
  "kernelspec": {
   "display_name": "R",
   "language": "R",
   "name": "ir"
  },
  "language_info": {
   "codemirror_mode": "r",
   "file_extension": ".r",
   "mimetype": "text/x-r-source",
   "name": "R",
   "pygments_lexer": "r",
   "version": "4.0.3"
  }
 },
 "nbformat": 4,
 "nbformat_minor": 4
}
