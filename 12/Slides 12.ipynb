{
 "cells": [
  {
   "attachments": {},
   "cell_type": "markdown",
   "metadata": {
    "slideshow": {
     "slide_type": "slide"
    }
   },
   "source": [
    "# IST 387: Week 12\n",
    "\n",
    "### Introduction to (Supervised) Machine Learning in R (Ch. 18)"
   ]
  },
  {
   "attachments": {},
   "cell_type": "markdown",
   "metadata": {
    "slideshow": {
     "slide_type": "slide"
    }
   },
   "source": [
    "## Data Mining\n",
    "\n",
    "- Discovering patterns in existing data sets using algorithms\n",
    "- Helps make sense of large amounts of raw data\n",
    "- \"Computer, show me the patterns in the existing data we have\"\n",
    "\n",
    "<img src=\"https://ist387.s3.us-east-2.amazonaws.com/images/m1.jpg\">"
   ]
  },
  {
   "attachments": {},
   "cell_type": "markdown",
   "metadata": {
    "slideshow": {
     "slide_type": "slide"
    }
   },
   "source": [
    "## Machine Learning\n",
    "\n",
    "- Enables computers to **learn** new things **without explicit programming**\n",
    "- \"Computer, find patterns in the existing data, remember them, and recommend a product to the next customer who buys something.\"\n",
    "- Part of **artificial intelligence**, i.e. creating intelligent machines\n",
    " - **supervised**: learning relationships between explanatory vars (“features”) and a pre-labeled outcome from a “training” dataset to apply to a testing set. \n",
    " - **unsupervised**: finding patterns in data with no pre-existing “labels” ~ clustering or association rules\n",
    " - **reinforcement**: game-like trial-and-error actions to maximize “reward”\n",
    " \n",
    " <img src=\"https://ist387.s3.us-east-2.amazonaws.com/images/svm/Picture1m.png\" width=\"700\">\n"
   ]
  },
  {
   "attachments": {},
   "cell_type": "markdown",
   "metadata": {
    "slideshow": {
     "slide_type": "slide"
    }
   },
   "source": [
    "## Association Rule Mining\n",
    "\n",
    "- Used for finding interesting relations between items in datasets\n",
    "- Also known as **affinity analysis**\n",
    "- “beer and diapers” example \n",
    "<img src=\"https://ist387.s3.us-east-2.amazonaws.com/images/m3.jpg\">\n",
    "\n",
    "- No training/test sets -> the full data is used by model\n",
    "- Data-driven -> great for exploratory analysis to identify trends in data"
   ]
  },
  {
   "cell_type": "markdown",
   "metadata": {
    "slideshow": {
     "slide_type": "slide"
    }
   },
   "source": [
    "\n",
    " <img src=\"https://ist387.s3.us-east-2.amazonaws.com/images/svm/Picture2m.png\">\n"
   ]
  },
  {
   "cell_type": "markdown",
   "metadata": {
    "slideshow": {
     "slide_type": "slide"
    }
   },
   "source": [
    " <img src=\"https://ist387.s3.us-east-2.amazonaws.com/images/svm/Picture3m.png\">"
   ]
  },
  {
   "attachments": {},
   "cell_type": "markdown",
   "metadata": {
    "slideshow": {
     "slide_type": "slide"
    }
   },
   "source": [
    "## Supervised ML\n",
    "\n",
    "- Data = Predictors + Predicted Var\n",
    "- Training/test split\n",
    "- Task-driven -> used to classify new observations\n",
    "\n",
    " <img src=\"https://ist387.s3.us-east-2.amazonaws.com/images/svm/Picture4m.png\" width=\"700\">"
   ]
  },
  {
   "attachments": {},
   "cell_type": "markdown",
   "metadata": {
    "slideshow": {
     "slide_type": "slide"
    }
   },
   "source": [
    "## Unsupervised or Supervised ML?\n",
    "\n",
    "1. Classify tweets into tweets about the election vs. tweets about the weather \n",
    "\n",
    "2. Identify hidden (latent) topics in a list of tweets\n",
    "\n",
    "3. Predict if an email is spam or not\n",
    "\n",
    "4. Identify images of college students wearing masks"
   ]
  },
  {
   "attachments": {},
   "cell_type": "markdown",
   "metadata": {
    "slideshow": {
     "slide_type": "slide"
    }
   },
   "source": [
    " ## Support Vector Machines (SVM)\n",
    " \n",
    " - **Task**: Classify elements into two groups, e.g. dogs vs. cats\n",
    " \n",
    " <img src=\"https://ist387.s3.us-east-2.amazonaws.com/images/svm/Picture5m1.png\">"
   ]
  },
  {
   "attachments": {},
   "cell_type": "markdown",
   "metadata": {
    "slideshow": {
     "slide_type": "slide"
    }
   },
   "source": [
    " ## Support Vector Machines (SVM)\n",
    " \n",
    " - **Classify** data = Split it\n",
    " \n",
    " <img src=\"https://ist387.s3.us-east-2.amazonaws.com/images/svm/Picture5m2.png\">"
   ]
  },
  {
   "attachments": {},
   "cell_type": "markdown",
   "metadata": {
    "slideshow": {
     "slide_type": "slide"
    }
   },
   "source": [
    " ## Support Vector Machines (SVM)\n",
    " \n",
    " - There is only **one best way** to do this!\n",
    " \n",
    " <img src=\"https://ist387.s3.us-east-2.amazonaws.com/images/svm/Picture5m3.png\">"
   ]
  },
  {
   "attachments": {},
   "cell_type": "markdown",
   "metadata": {
    "slideshow": {
     "slide_type": "slide"
    }
   },
   "source": [
    " ## Support Vector Machines (SVM)\n",
    " \n",
    " - Now we have clear **separation** between the two groups!\n",
    " \n",
    " <img src=\"https://ist387.s3.us-east-2.amazonaws.com/images/svm/Picture5m4.png\">"
   ]
  },
  {
   "attachments": {},
   "cell_type": "markdown",
   "metadata": {
    "slideshow": {
     "slide_type": "slide"
    }
   },
   "source": [
    " ## Support Vector Machines (SVM)\n",
    " \n",
    "- Are you convinced now that this is indeed the best way to classify the data?\n",
    "\n",
    " <img src=\"https://ist387.s3.us-east-2.amazonaws.com/images/svm/Picture5m5.png\">"
   ]
  },
  {
   "attachments": {},
   "cell_type": "markdown",
   "metadata": {
    "slideshow": {
     "slide_type": "slide"
    }
   },
   "source": [
    " ## Support Vector Machines (SVM)\n",
    " \n",
    "- The other candidates are nowhere near as good!\n",
    "\n",
    " <img src=\"https://ist387.s3.us-east-2.amazonaws.com/images/svm/Picture5m6.png\">"
   ]
  },
  {
   "attachments": {},
   "cell_type": "markdown",
   "metadata": {
    "slideshow": {
     "slide_type": "slide"
    }
   },
   "source": [
    " ## Support Vector Machines (SVM)\n",
    " \n",
    "Points closest to the border = **support vectors**\n",
    "\n",
    "“Road median” = **hyperplane**\n",
    "\n",
    " <img src=\"https://ist387.s3.us-east-2.amazonaws.com/images/svm/Picture5m7.png\">"
   ]
  },
  {
   "attachments": {},
   "cell_type": "markdown",
   "metadata": {
    "slideshow": {
     "slide_type": "slide"
    }
   },
   "source": [
    " ## Support Vector Machines (SVM)\n",
    " \n",
    "### Why are support vectors important? \n",
    "-> They signify the data points that are most difficult to classify\n",
    "\n",
    "\n",
    " <img src=\"https://ist387.s3.us-east-2.amazonaws.com/images/svm/Picture6m.jpg\">"
   ]
  },
  {
   "attachments": {},
   "cell_type": "markdown",
   "metadata": {
    "slideshow": {
     "slide_type": "slide"
    }
   },
   "source": [
    "## Support Vector Machines (SVM)\n",
    " \n",
    "### Real-world cases are not simple – the best way to split the data may not be as obvious. \n",
    "-> We can use the **C parameter** to decide how much we want to penalize misclassified points\n",
    "\n",
    " <img src=\"https://ist387.s3.us-east-2.amazonaws.com/images/svm/Picture7m.png\">"
   ]
  },
  {
   "cell_type": "markdown",
   "metadata": {
    "slideshow": {
     "slide_type": "slide"
    }
   },
   "source": [
    "## Support Vector Machines (SVM)\n",
    " \n",
    "### Real-world cases are not simple – the best way to split the data may not be as obvious. \n",
    "-> We can use the **C parameter** to decide how much we want to penalize misclassified points\n",
    "\n",
    " <img src=\"https://ist387.s3.us-east-2.amazonaws.com/images/svm/Picture8m.png\">"
   ]
  },
  {
   "attachments": {},
   "cell_type": "markdown",
   "metadata": {
    "slideshow": {
     "slide_type": "slide"
    }
   },
   "source": [
    "## How would you split this data with a straight line?\n",
    "\n",
    "<img src=\"https://ist387.s3.us-east-2.amazonaws.com/images/svm/Picture9m.png\">"
   ]
  },
  {
   "attachments": {},
   "cell_type": "markdown",
   "metadata": {
    "slideshow": {
     "slide_type": "slide"
    }
   },
   "source": [
    "## BUT you can use a…\n",
    "\n",
    "### KERNEL TRICK \n",
    "= add more dimensions\n",
    "\n",
    "### Kernel \n",
    "= math function that transforms your input data into the desired form (e.g. go from 2D to 3D)\n",
    "\n",
    "<img src=\"https://ist387.s3.us-east-2.amazonaws.com/images/svm/Picture10m.png\" width=\"700\">"
   ]
  }
 ],
 "metadata": {
  "celltoolbar": "Slideshow",
  "kernelspec": {
   "display_name": "R",
   "language": "R",
   "name": "ir"
  },
  "language_info": {
   "codemirror_mode": "r",
   "file_extension": ".r",
   "mimetype": "text/x-r-source",
   "name": "R",
   "pygments_lexer": "r",
   "version": "4.0.3"
  }
 },
 "nbformat": 4,
 "nbformat_minor": 4
}
